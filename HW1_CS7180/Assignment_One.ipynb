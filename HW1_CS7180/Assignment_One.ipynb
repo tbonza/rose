{
 "cells": [
  {
   "cell_type": "markdown",
   "metadata": {},
   "source": [
    "# Assignment One (CS 7180)"
   ]
  },
  {
   "cell_type": "code",
   "execution_count": 1,
   "metadata": {},
   "outputs": [],
   "source": [
    "import sys\n",
    "\n",
    "import numpy as np\n",
    "import matplotlib.pyplot as plt\n",
    "import torch\n",
    "import torch.nn as nn\n",
    "import torch.nn.functional as F\n",
    "import torchvision\n",
    "import torchvision.transforms as transforms\n",
    "\n",
    "%matplotlib inline\n",
    "# Device configuration\n",
    "device = torch.device('cuda:0' if torch.cuda.is_available() else 'cpu')"
   ]
  },
  {
   "cell_type": "markdown",
   "metadata": {},
   "source": [
    "### 0. Package Versions"
   ]
  },
  {
   "cell_type": "code",
   "execution_count": 2,
   "metadata": {},
   "outputs": [
    {
     "name": "stdout",
     "output_type": "stream",
     "text": [
      "Python version: 3.6.5 |Anaconda custom (64-bit)| (default, Apr 29 2018, 16:14:56) \n",
      "[GCC 7.2.0]\n",
      "\n",
      "Numpy version: 1.14.5\n",
      "Torch version: 0.4.1\n",
      "Torchvision version: 0.2.1\n",
      "\n"
     ]
    }
   ],
   "source": [
    "print(\"Python version: {}\\n\".format(sys.version))\n",
    "print(\"Numpy version: {}\".format(np.__version__))\n",
    "print(\"Torch version: {}\".format(torch.__version__))\n",
    "print(\"Torchvision version: {}\\n\".format(torchvision.__version__))"
   ]
  },
  {
   "cell_type": "code",
   "execution_count": 3,
   "metadata": {},
   "outputs": [
    {
     "name": "stdout",
     "output_type": "stream",
     "text": [
      "Tesla K80\n"
     ]
    }
   ],
   "source": [
    "if torch.cuda.is_available():\n",
    "    print(torch.cuda.get_device_name(0))"
   ]
  },
  {
   "cell_type": "markdown",
   "metadata": {},
   "source": [
    "### 1. Load Data"
   ]
  },
  {
   "cell_type": "code",
   "execution_count": 4,
   "metadata": {},
   "outputs": [
    {
     "name": "stdout",
     "output_type": "stream",
     "text": [
      "Transformation on MNIST: \n",
      "\n",
      "Convert a ``PIL Image`` or ``numpy.ndarray`` to tensor.\n",
      "\n",
      "    Converts a PIL Image or numpy.ndarray (H x W x C) in the range\n",
      "    [0, 255] to a torch.FloatTensor of shape (C x H x W) in the range [0.0, 1.0].\n",
      "    \n",
      "\n"
     ]
    }
   ],
   "source": [
    "# 1. Load MNIST training and test data from torchvision.datasets.MNIST.\n",
    "# 2. Please use data.DataLoader and print out dataset size, sample size, batch size.\n",
    "#******************************#\n",
    "\n",
    "print(\"Transformation on MNIST: \\n\\n{}\\n\".format(transforms.ToTensor().__doc__))\n",
    "\n",
    "transform = transforms.Compose(\n",
    "    [transforms.ToTensor()]) \n",
    "\n",
    "mnist_trainset = torchvision.datasets.MNIST(root='./data', train=True, download=True, \n",
    "                                transform=transform)\n",
    "train_loader = torch.utils.data.DataLoader(mnist_trainset, batch_size=4,\n",
    "                                          shuffle=True, num_workers=2)\n",
    "\n",
    "mnist_testset = torchvision.datasets.MNIST(root='./data', train=False, download=True, \n",
    "                               transform=transform)\n",
    "test_loader = torch.utils.data.DataLoader(mnist_testset, batch_size=4,\n",
    "                                         shuffle=False, num_workers=2)\n",
    "\n",
    "#******************************#"
   ]
  },
  {
   "cell_type": "markdown",
   "metadata": {},
   "source": [
    "### 2. Define Hyper-parameters"
   ]
  },
  {
   "cell_type": "code",
   "execution_count": 5,
   "metadata": {},
   "outputs": [],
   "source": [
    "# Define hyper-parameters\n",
    "#******************************#\n",
    "\n",
    "num_classes = 10\n",
    "\n",
    "hyperparams = {\n",
    "    \"batch_size\"       : 32,\n",
    "    \"test_batch_size\"  : 1000,\n",
    "    \"epochs\"           : 10,\n",
    "    \"learning_rate\"    : 0.001,\n",
    "    \"momentum\"         : 0.9,\n",
    "    \"random_seed\"      : 42,\n",
    "    \n",
    "    # Params related to reporting\n",
    "    \n",
    "    \"log_interval\"     : 10000,\n",
    "}\n",
    "\n",
    "#******************************#"
   ]
  },
  {
   "cell_type": "markdown",
   "metadata": {},
   "source": [
    "### 3. Define a Convolutional Neural Network"
   ]
  },
  {
   "cell_type": "code",
   "execution_count": 6,
   "metadata": {},
   "outputs": [],
   "source": [
    "\n",
    "class ConvNet(nn.Module):\n",
    "    def __init__(self, num_classes=10, dropout=0.0):\n",
    "        super(ConvNet, self).__init__()\n",
    "        # 3.1 Initialization\n",
    "        #******************************#\n",
    "        self.layer1 = nn.Sequential(\n",
    "            nn.Conv2d(1, 20, 5, 1),\n",
    "            nn.ReLU(),\n",
    "            nn.MaxPool2d(kernel_size=2,stride=2)\n",
    "        )\n",
    "        self.layer2 = nn.Sequential(\n",
    "            nn.Conv2d(20, 75, 5, 1),\n",
    "            nn.BatchNorm2d(75),\n",
    "            nn.ReLU(),\n",
    "            nn.MaxPool2d(kernel_size=2,stride=2)\n",
    "        )\n",
    "        self.dropout = nn.Dropout(p=dropout)\n",
    "        self.fc1 = nn.Linear(4*4*75, 500)\n",
    "        self.fc2 = nn.Linear(500, 10)\n",
    "        #******************************#\n",
    "    def forward(self, x):\n",
    "        # 3.2 Define Neural Network\n",
    "        #******************************#\n",
    "        out = self.layer1(x)\n",
    "        out = self.layer2(out)\n",
    "        out = out.reshape(out.size(0), -1)\n",
    "        out = self.dropout(out)\n",
    "        out = self.fc1(out)\n",
    "        out = self.fc2(out)\n",
    "        #******************************#\n",
    "        return out\n",
    "    \n",
    "    def count_params(self):\n",
    "        pytorch_total_params = sum(p.numel() for p in super(ConvNet, self).parameters())\n",
    "        return pytorch_total_params\n",
    "\n",
    "# Note: what is the difference between 'same' and 'valid' padding? \n",
    "# Take a look at the outputs to understand the difference."
   ]
  },
  {
   "cell_type": "markdown",
   "metadata": {},
   "source": [
    "### 4. Training the Model"
   ]
  },
  {
   "cell_type": "code",
   "execution_count": 7,
   "metadata": {},
   "outputs": [],
   "source": [
    "# Training and testing functions\n",
    "\n",
    "def performance(result_metrics: tuple, epoch: int, pmeta: list, set_type: str, print_result=True):\n",
    "    meta = {\n",
    "        \"set_type\": None,\n",
    "        \"epoch\": None,\n",
    "        \"n_correct\": None,\n",
    "        \"loss\": None,\n",
    "        \"n_instances\": None,\n",
    "    }\n",
    "    loss, n_correct, n_instances = result_metrics\n",
    "    \n",
    "    meta[\"set_type\"] = set_type\n",
    "    meta[\"epoch\"] = epoch\n",
    "    meta[\"n_correct\"] = n_correct\n",
    "    meta[\"loss\"] = loss\n",
    "    meta[\"n_instances\"] = n_instances\n",
    "    \n",
    "    pmeta.append(meta)\n",
    "    \n",
    "    # Print performance update\n",
    "    if print_result:\n",
    "        print('{} => Average loss: {:.4f}, Accuracy: {}/{} ({:.2f}%)'.format(\n",
    "            set_type.capitalize(), loss, n_correct, n_instances, 100.0 * n_correct / n_instances))\n",
    "    return pmeta\n",
    "\n",
    "def train(hyperparams, model, train_loader, optimizer, criterion, epoch):\n",
    "    model.train()\n",
    "    train_loss = 0\n",
    "    correct = 0\n",
    "    log_interval = hyperparams[\"log_interval\"]\n",
    "    for batch_idx, (data, target) in enumerate(train_loader):\n",
    "        data, target = data.to(device), target.to(device)\n",
    "        optimizer.zero_grad()\n",
    "        output = model(data)\n",
    "        loss = criterion(output, target)\n",
    "        loss.backward()\n",
    "        optimizer.step()\n",
    "        if batch_idx % log_interval == 0:\n",
    "            print('Train Epoch: {} [{}/{} ({:.0f}%)]\\tLoss: {:.6f}'.format(\n",
    "                epoch, batch_idx * len(data), len(train_loader.dataset),\n",
    "                100. * batch_idx / len(train_loader), loss.item()))\n",
    "            \n",
    "        # store each loss and accuracy\n",
    "        pred = output.argmax(dim=1, keepdim=True)\n",
    "        correct += pred.eq(target.view_as(pred)).sum().item()\n",
    "        train_loss += loss.item()\n",
    "    \n",
    "    instance_count = len(train_loader.dataset)\n",
    "    train_loss /= instance_count\n",
    "    \n",
    "    return (train_loss, correct, instance_count)\n",
    "            \n",
    "def test(hyperparams, model, criterion, device, test_loader):\n",
    "    model.eval()\n",
    "    test_loss = 0\n",
    "    correct = 0\n",
    "    with torch.no_grad():\n",
    "        for data, target in test_loader:\n",
    "            data, target = data.to(device), target.to(device)\n",
    "            data = data.cuda()\n",
    "            target = target.cuda()\n",
    "            output = model(data)\n",
    "            test_loss += F.cross_entropy(output, target, reduction='sum').item() # sum up batch loss\n",
    "            pred = output.argmax(dim=1, keepdim=True) # get the index of the max log-probability\n",
    "            correct += pred.eq(target.view_as(pred)).sum().item()\n",
    "\n",
    "    test_loss /= len(test_loader.dataset)\n",
    "\n",
    "    instance_count = len(test_loader.dataset)\n",
    "    return (test_loss, correct, instance_count)\n",
    "\n",
    "def train_model(model, optimizer, criterion, hyperparams, train_loader, test_loader):\n",
    "    \"\"\" Train generic model \"\"\"\n",
    "    \n",
    "    pmeta = []\n",
    "    for epoch in range(1, hyperparams[\"epochs\"] + 1):\n",
    "        \n",
    "        print(\"Training/Validation Epoch {}\".format(epoch))\n",
    "        \n",
    "        train_metrics = train(hyperparams, model, train_loader, \n",
    "                              optimizer, criterion, epoch)\n",
    "        pmeta = performance(result_metrics=train_metrics, \n",
    "                        epoch=epoch, set_type=\"train\", pmeta=pmeta)\n",
    "        \n",
    "        test_metrics = test(hyperparams, model, criterion, \n",
    "                            device, test_loader)\n",
    "        pmeta = performance(result_metrics=test_metrics,\n",
    "                           epoch=epoch, set_type=\"dev\", pmeta=pmeta)\n",
    "        print(\"\\n\")\n",
    "    \n",
    "    return pmeta"
   ]
  },
  {
   "cell_type": "code",
   "execution_count": 8,
   "metadata": {},
   "outputs": [
    {
     "name": "stdout",
     "output_type": "stream",
     "text": [
      "Training/Validation Epoch 1\n",
      "Train Epoch: 1 [0/60000 (0%)]\tLoss: 2.327530\n",
      "Train Epoch: 1 [40000/60000 (67%)]\tLoss: 0.000183\n",
      "Train => Average loss: 0.0275, Accuracy: 58044/60000 (96.74%)\n",
      "Dev => Average loss: 0.0482, Accuracy: 9847/10000 (98.47%)\n",
      "\n",
      "\n",
      "Training/Validation Epoch 2\n",
      "Train Epoch: 2 [0/60000 (0%)]\tLoss: 0.000078\n",
      "Train Epoch: 2 [40000/60000 (67%)]\tLoss: 0.000139\n",
      "Train => Average loss: 0.0111, Accuracy: 59186/60000 (98.64%)\n",
      "Dev => Average loss: 0.0437, Accuracy: 9858/10000 (98.58%)\n",
      "\n",
      "\n",
      "Training/Validation Epoch 3\n",
      "Train Epoch: 3 [0/60000 (0%)]\tLoss: 0.014457\n",
      "Train Epoch: 3 [40000/60000 (67%)]\tLoss: 0.000855\n",
      "Train => Average loss: 0.0083, Accuracy: 59376/60000 (98.96%)\n",
      "Dev => Average loss: 0.0288, Accuracy: 9896/10000 (98.96%)\n",
      "\n",
      "\n",
      "Training/Validation Epoch 4\n",
      "Train Epoch: 4 [0/60000 (0%)]\tLoss: 0.000049\n",
      "Train Epoch: 4 [40000/60000 (67%)]\tLoss: 0.092355\n",
      "Train => Average loss: 0.0063, Accuracy: 59525/60000 (99.21%)\n",
      "Dev => Average loss: 0.0263, Accuracy: 9910/10000 (99.10%)\n",
      "\n",
      "\n",
      "Training/Validation Epoch 5\n",
      "Train Epoch: 5 [0/60000 (0%)]\tLoss: 0.000449\n",
      "Train Epoch: 5 [40000/60000 (67%)]\tLoss: 0.000378\n",
      "Train => Average loss: 0.0049, Accuracy: 59633/60000 (99.39%)\n",
      "Dev => Average loss: 0.0259, Accuracy: 9911/10000 (99.11%)\n",
      "\n",
      "\n",
      "Training/Validation Epoch 6\n",
      "Train Epoch: 6 [0/60000 (0%)]\tLoss: 0.000004\n",
      "Train Epoch: 6 [40000/60000 (67%)]\tLoss: 0.000007\n",
      "Train => Average loss: 0.0041, Accuracy: 59691/60000 (99.48%)\n",
      "Dev => Average loss: 0.0296, Accuracy: 9903/10000 (99.03%)\n",
      "\n",
      "\n",
      "Training/Validation Epoch 7\n",
      "Train Epoch: 7 [0/60000 (0%)]\tLoss: 0.003653\n",
      "Train Epoch: 7 [40000/60000 (67%)]\tLoss: 0.004408\n",
      "Train => Average loss: 0.0032, Accuracy: 59775/60000 (99.62%)\n",
      "Dev => Average loss: 0.0228, Accuracy: 9924/10000 (99.24%)\n",
      "\n",
      "\n",
      "Training/Validation Epoch 8\n",
      "Train Epoch: 8 [0/60000 (0%)]\tLoss: 0.000002\n",
      "Train Epoch: 8 [40000/60000 (67%)]\tLoss: 0.000955\n",
      "Train => Average loss: 0.0026, Accuracy: 59814/60000 (99.69%)\n",
      "Dev => Average loss: 0.0309, Accuracy: 9900/10000 (99.00%)\n",
      "\n",
      "\n",
      "Training/Validation Epoch 9\n",
      "Train Epoch: 9 [0/60000 (0%)]\tLoss: 0.000065\n",
      "Train Epoch: 9 [40000/60000 (67%)]\tLoss: 0.000015\n",
      "Train => Average loss: 0.0019, Accuracy: 59867/60000 (99.78%)\n",
      "Dev => Average loss: 0.0275, Accuracy: 9918/10000 (99.18%)\n",
      "\n",
      "\n",
      "Training/Validation Epoch 10\n",
      "Train Epoch: 10 [0/60000 (0%)]\tLoss: 0.000008\n",
      "Train Epoch: 10 [40000/60000 (67%)]\tLoss: 0.000009\n",
      "Train => Average loss: 0.0015, Accuracy: 59912/60000 (99.85%)\n",
      "Dev => Average loss: 0.0261, Accuracy: 9917/10000 (99.17%)\n",
      "\n",
      "\n"
     ]
    }
   ],
   "source": [
    "# 4.1 Define criterion and optimizer\n",
    "#************************************#\n",
    "\n",
    "model = ConvNet(num_classes).to(device)\n",
    "criterion = nn.CrossEntropyLoss()\n",
    "optimizer = torch.optim.SGD(model.parameters(), lr=hyperparams[\"learning_rate\"],\n",
    "                            momentum=hyperparams[\"momentum\"])\n",
    "\n",
    "#************************************#\n",
    "\n",
    "\n",
    "# 4.2 Train the model\n",
    "# 4.3 Please store and print training and validation loss&accuracy after each epoch\n",
    "#********************************************#\n",
    "\n",
    "training_metrics = train_model(model, optimizer, criterion, hyperparams, \n",
    "                              train_loader, test_loader)\n",
    "\n",
    "#*******************************************#"
   ]
  },
  {
   "cell_type": "markdown",
   "metadata": {},
   "source": [
    "### 5. Model Evaluation"
   ]
  },
  {
   "cell_type": "code",
   "execution_count": 9,
   "metadata": {},
   "outputs": [
    {
     "name": "stdout",
     "output_type": "stream",
     "text": [
      "Total number of parameters in the model: 643755, less than max params: True\n"
     ]
    },
    {
     "data": {
      "image/png": "[encoded data removed]",
      "text/plain": [
       "<Figure size 432x288 with 1 Axes>"
      ]
     },
     "metadata": {},
     "output_type": "display_data"
    },
    {
     "data": {
      "image/png": "[encoded data removed]",
      "text/plain": [
       "<Figure size 432x288 with 1 Axes>"
      ]
     },
     "metadata": {},
     "output_type": "display_data"
    }
   ],
   "source": [
    "# 5.1 Print number of parameters in the model\n",
    "#************************************#\n",
    "MAX_PARAMS = 1000000\n",
    "print(\"Total number of parameters in the model: {}, less than max params: {}\".\\\n",
    "      format(model.count_params(), model.count_params() < MAX_PARAMS))\n",
    "#************************************#\n",
    "\n",
    "def make_plt(x,y, z, x_lbl, y_lbl, title):\n",
    "    fig, ax = plt.subplots()\n",
    "    train_plt, = ax.plot(x, y, label=\"Train\")\n",
    "    dev_plt, = ax.plot(x, z, label=\"Dev\")\n",
    "    ax.set(xlabel=x_lbl, ylabel=y_lbl,\n",
    "           title=title)\n",
    "    plt.legend(handles=[train_plt, dev_plt])\n",
    "    ax.grid()\n",
    "    return fig, ax\n",
    "\n",
    "\n",
    "# 5.2 Summarize history for loss and make loss vs.epoch plot\n",
    "#************************************#\n",
    "\n",
    "def mat_loss_epoch(training_metrics: list):\n",
    "    epochs = []\n",
    "    train_loss_values = []\n",
    "    dev_loss_values = []\n",
    "    \n",
    "    for item in training_metrics:\n",
    "        \n",
    "        if item[\"set_type\"] == \"train\":\n",
    "            train_loss_values.append(item[\"loss\"])\n",
    "            epochs.append(item[\"epoch\"])\n",
    "        \n",
    "        elif item[\"set_type\"] == \"dev\":\n",
    "            dev_loss_values.append(item[\"loss\"])\n",
    "        \n",
    "        else:\n",
    "            raise(\"Wrong set type: {}\".format(item.get(\"set_type\")))\n",
    "\n",
    "    m = np.array([epochs, train_loss_values, dev_loss_values])\n",
    "    return m\n",
    "\n",
    "\n",
    "m_loss = mat_loss_epoch(training_metrics)\n",
    "fig1, ax1 = make_plt(m_loss[0,:], m_loss[1,:], m_loss[2,:], \n",
    "         \"Epochs\", \"Loss\", \"Figure 1: Loss vs. Epochs\")\n",
    "\n",
    "\n",
    "#************************************#\n",
    "\n",
    "# 5.3 Summarize history for accuracy and make accuracy vs.epoch plot\n",
    "#************************************#\n",
    "\n",
    "def mat_accuracy_epoch(training_metrics: list):\n",
    "    epochs = []\n",
    "    train_accuracy = []\n",
    "    dev_accuracy = []\n",
    "    \n",
    "    for item in training_metrics:\n",
    "        \n",
    "        if item[\"set_type\"] == \"train\":\n",
    "            train_accuracy.append(\n",
    "                100.0 * item[\"n_correct\"] / item[\"n_instances\"]\n",
    "            )\n",
    "            epochs.append(item[\"epoch\"])\n",
    "        \n",
    "        elif item[\"set_type\"] == \"dev\":\n",
    "            dev_accuracy.append(\n",
    "                100.0 * item[\"n_correct\"] / item[\"n_instances\"]\n",
    "            )\n",
    "        \n",
    "        else:\n",
    "            raise(\"Wrong set type: {}\".format(item.get(\"set_type\")))\n",
    "            \n",
    "    m = np.array([epochs, train_accuracy, dev_accuracy])\n",
    "    return m\n",
    "\n",
    "m_accu = mat_accuracy_epoch(training_metrics)\n",
    "fig2, ax2 = make_plt(m_accu[0,:], m_accu[1,:], m_accu[2,:], \n",
    "         \"Epochs\", \"Accuracy\", \"Figure 2: Accuracy vs. Epochs\")\n",
    "\n",
    "fig1.savefig(\"imgs/fig1.png\")\n",
    "fig2.savefig(\"imgs/fig2.png\")\n",
    "\n",
    "#************************************#\n",
    "\n",
    "plt.show()"
   ]
  },
  {
   "cell_type": "markdown",
   "metadata": {},
   "source": [
    "### 5. Varying dropout probabilities"
   ]
  },
  {
   "cell_type": "code",
   "execution_count": 10,
   "metadata": {},
   "outputs": [
    {
     "name": "stdout",
     "output_type": "stream",
     "text": [
      "Dropout probability: 0.0\n",
      "Training/Validation Epoch 1\n",
      "Train Epoch: 1 [0/60000 (0%)]\tLoss: 2.409435\n",
      "Train Epoch: 1 [40000/60000 (67%)]\tLoss: 2.523651\n",
      "Train => Average loss: 0.5871, Accuracy: 3825/60000 (6.38%)\n",
      "Dev => Average loss: 2.3494, Accuracy: 622/10000 (6.22%)\n",
      "\n",
      "\n",
      "Dropout probability: 0.1\n",
      "Training/Validation Epoch 1\n",
      "Train Epoch: 1 [0/60000 (0%)]\tLoss: 2.382348\n",
      "Train Epoch: 1 [40000/60000 (67%)]\tLoss: 2.568690\n",
      "Train => Average loss: 0.5876, Accuracy: 6922/60000 (11.54%)\n",
      "Dev => Average loss: 2.3512, Accuracy: 1169/10000 (11.69%)\n",
      "\n",
      "\n",
      "Dropout probability: 0.2\n",
      "Training/Validation Epoch 1\n",
      "Train Epoch: 1 [0/60000 (0%)]\tLoss: 2.424675\n",
      "Train Epoch: 1 [40000/60000 (67%)]\tLoss: 2.414773\n",
      "Train => Average loss: 0.5892, Accuracy: 6310/60000 (10.52%)\n",
      "Dev => Average loss: 2.3517, Accuracy: 1220/10000 (12.20%)\n",
      "\n",
      "\n",
      "Dropout probability: 0.3\n",
      "Training/Validation Epoch 1\n",
      "Train Epoch: 1 [0/60000 (0%)]\tLoss: 2.121917\n",
      "Train Epoch: 1 [40000/60000 (67%)]\tLoss: 2.480909\n",
      "Train => Average loss: 0.5835, Accuracy: 5693/60000 (9.49%)\n",
      "Dev => Average loss: 2.3255, Accuracy: 872/10000 (8.72%)\n",
      "\n",
      "\n",
      "Dropout probability: 0.4\n",
      "Training/Validation Epoch 1\n",
      "Train Epoch: 1 [0/60000 (0%)]\tLoss: 2.211526\n",
      "Train Epoch: 1 [40000/60000 (67%)]\tLoss: 2.344877\n",
      "Train => Average loss: 0.5809, Accuracy: 6285/60000 (10.47%)\n",
      "Dev => Average loss: 2.3080, Accuracy: 1237/10000 (12.37%)\n",
      "\n",
      "\n",
      "Dropout probability: 0.5\n",
      "Training/Validation Epoch 1\n",
      "Train Epoch: 1 [0/60000 (0%)]\tLoss: 2.119546\n",
      "Train Epoch: 1 [40000/60000 (67%)]\tLoss: 2.276914\n",
      "Train => Average loss: 0.5913, Accuracy: 5371/60000 (8.95%)\n",
      "Dev => Average loss: 2.3446, Accuracy: 1064/10000 (10.64%)\n",
      "\n",
      "\n",
      "Dropout probability: 0.6\n",
      "Training/Validation Epoch 1\n",
      "Train Epoch: 1 [0/60000 (0%)]\tLoss: 2.382889\n",
      "Train Epoch: 1 [40000/60000 (67%)]\tLoss: 2.143566\n",
      "Train => Average loss: 0.5930, Accuracy: 5237/60000 (8.73%)\n",
      "Dev => Average loss: 2.3429, Accuracy: 900/10000 (9.00%)\n",
      "\n",
      "\n",
      "Dropout probability: 0.7\n",
      "Training/Validation Epoch 1\n",
      "Train Epoch: 1 [0/60000 (0%)]\tLoss: 2.220935\n",
      "Train Epoch: 1 [40000/60000 (67%)]\tLoss: 2.606769\n",
      "Train => Average loss: 0.5867, Accuracy: 6579/60000 (10.96%)\n",
      "Dev => Average loss: 2.2936, Accuracy: 1268/10000 (12.68%)\n",
      "\n",
      "\n",
      "Dropout probability: 0.8\n",
      "Training/Validation Epoch 1\n",
      "Train Epoch: 1 [0/60000 (0%)]\tLoss: 2.312441\n",
      "Train Epoch: 1 [40000/60000 (67%)]\tLoss: 2.660470\n",
      "Train => Average loss: 0.6064, Accuracy: 5996/60000 (9.99%)\n",
      "Dev => Average loss: 2.3343, Accuracy: 1030/10000 (10.30%)\n",
      "\n",
      "\n",
      "Dropout probability: 0.9\n",
      "Training/Validation Epoch 1\n",
      "Train Epoch: 1 [0/60000 (0%)]\tLoss: 3.109587\n",
      "Train Epoch: 1 [40000/60000 (67%)]\tLoss: 2.004978\n",
      "Train => Average loss: 0.6197, Accuracy: 5912/60000 (9.85%)\n",
      "Dev => Average loss: 2.3098, Accuracy: 769/10000 (7.69%)\n",
      "\n",
      "\n",
      "Dropout probability: 1.0\n",
      "Training/Validation Epoch 1\n",
      "Train Epoch: 1 [0/60000 (0%)]\tLoss: 2.312349\n",
      "Train Epoch: 1 [40000/60000 (67%)]\tLoss: 2.297470\n",
      "Train => Average loss: 0.5757, Accuracy: 5958/60000 (9.93%)\n",
      "Dev => Average loss: 2.3137, Accuracy: 1013/10000 (10.13%)\n",
      "\n",
      "\n"
     ]
    }
   ],
   "source": [
    "# Set the probabilities of your dropout layers to 10 equally-spaced valuesp∈[0,1], \n",
    "# train for 1 epoch and report the final model accuracies for each.\n",
    "#************************************#\n",
    "\n",
    "\n",
    "hyperparams[\"epochs\"] = 1\n",
    "for i in range(11):\n",
    "    \n",
    "    p = round(0.1 * i,2)\n",
    "    print(\"Dropout probability: {}\".format(round(p,2)))\n",
    "    model = ConvNet(num_classes, p).to(device)\n",
    "    training_metrics = train_model(model, optimizer, criterion, hyperparams, \n",
    "                                   train_loader, test_loader)\n",
    "\n",
    "#************************************#"
   ]
  },
  {
   "cell_type": "code",
   "execution_count": 11,
   "metadata": {},
   "outputs": [
    {
     "name": "stdout",
     "output_type": "stream",
     "text": [
      "Training/Validation Epoch 1\n",
      "Train Epoch: 1 [0/60000 (0%)]\tLoss: 2.371582\n",
      "Train Epoch: 1 [40000/60000 (67%)]\tLoss: 2.134969\n",
      "Train => Average loss: 0.5839, Accuracy: 5465/60000 (9.11%)\n",
      "Dev => Average loss: 2.3252, Accuracy: 1004/10000 (10.04%)\n",
      "\n",
      "\n",
      "Training/Validation Epoch 2\n",
      "Train Epoch: 2 [0/60000 (0%)]\tLoss: 2.378036\n",
      "Train Epoch: 2 [40000/60000 (67%)]\tLoss: 2.197404\n",
      "Train => Average loss: 0.5839, Accuracy: 5630/60000 (9.38%)\n",
      "Dev => Average loss: 2.3226, Accuracy: 1013/10000 (10.13%)\n",
      "\n",
      "\n",
      "Training/Validation Epoch 3\n",
      "Train Epoch: 3 [0/60000 (0%)]\tLoss: 2.367991\n",
      "Train Epoch: 3 [40000/60000 (67%)]\tLoss: 2.255733\n",
      "Train => Average loss: 0.5840, Accuracy: 5609/60000 (9.35%)\n",
      "Dev => Average loss: 2.3248, Accuracy: 1001/10000 (10.01%)\n",
      "\n",
      "\n",
      "Training/Validation Epoch 4\n",
      "Train Epoch: 4 [0/60000 (0%)]\tLoss: 2.242179\n",
      "Train Epoch: 4 [40000/60000 (67%)]\tLoss: 2.315333\n",
      "Train => Average loss: 0.5840, Accuracy: 5536/60000 (9.23%)\n",
      "Dev => Average loss: 2.3242, Accuracy: 1012/10000 (10.12%)\n",
      "\n",
      "\n",
      "Training/Validation Epoch 5\n",
      "Train Epoch: 5 [0/60000 (0%)]\tLoss: 2.310158\n",
      "Train Epoch: 5 [40000/60000 (67%)]\tLoss: 2.415548\n",
      "Train => Average loss: 0.5839, Accuracy: 5589/60000 (9.31%)\n",
      "Dev => Average loss: 2.3248, Accuracy: 1006/10000 (10.06%)\n",
      "\n",
      "\n",
      "Training/Validation Epoch 6\n",
      "Train Epoch: 6 [0/60000 (0%)]\tLoss: 2.341341\n",
      "Train Epoch: 6 [40000/60000 (67%)]\tLoss: 2.316978\n",
      "Train => Average loss: 0.5839, Accuracy: 5602/60000 (9.34%)\n",
      "Dev => Average loss: 2.3248, Accuracy: 1000/10000 (10.00%)\n",
      "\n",
      "\n",
      "Training/Validation Epoch 7\n",
      "Train Epoch: 7 [0/60000 (0%)]\tLoss: 2.371640\n",
      "Train Epoch: 7 [40000/60000 (67%)]\tLoss: 2.185210\n",
      "Train => Average loss: 0.5840, Accuracy: 5602/60000 (9.34%)\n",
      "Dev => Average loss: 2.3246, Accuracy: 1000/10000 (10.00%)\n",
      "\n",
      "\n",
      "Training/Validation Epoch 8\n",
      "Train Epoch: 8 [0/60000 (0%)]\tLoss: 2.253765\n",
      "Train Epoch: 8 [40000/60000 (67%)]\tLoss: 2.329133\n",
      "Train => Average loss: 0.5841, Accuracy: 5515/60000 (9.19%)\n",
      "Dev => Average loss: 2.3243, Accuracy: 1006/10000 (10.06%)\n",
      "\n",
      "\n",
      "Training/Validation Epoch 9\n",
      "Train Epoch: 9 [0/60000 (0%)]\tLoss: 2.413841\n",
      "Train Epoch: 9 [40000/60000 (67%)]\tLoss: 2.258574\n",
      "Train => Average loss: 0.5840, Accuracy: 5535/60000 (9.22%)\n",
      "Dev => Average loss: 2.3240, Accuracy: 1007/10000 (10.07%)\n",
      "\n",
      "\n",
      "Training/Validation Epoch 10\n",
      "Train Epoch: 10 [0/60000 (0%)]\tLoss: 2.444530\n",
      "Train Epoch: 10 [40000/60000 (67%)]\tLoss: 2.504956\n",
      "Train => Average loss: 0.5838, Accuracy: 5609/60000 (9.35%)\n",
      "Dev => Average loss: 2.3230, Accuracy: 1006/10000 (10.06%)\n",
      "\n",
      "\n"
     ]
    }
   ],
   "source": [
    "# Dropout p=0.25 looks the most promising\n",
    "\n",
    "model = ConvNet(num_classes, dropout=0.25).to(device)\n",
    "hyperparams[\"epochs\"] = 10\n",
    "training_metrics = train_model(model, optimizer, criterion, hyperparams, \n",
    "                                   train_loader, test_loader)"
   ]
  },
  {
   "cell_type": "markdown",
   "metadata": {},
   "source": [
    "## L2 Regularization\n",
    "\n",
    "Dropout really didn't work well with my model,\n",
    "let's try L2 Regularization because the training\n",
    "set is definitely overfitting."
   ]
  },
  {
   "cell_type": "code",
   "execution_count": 12,
   "metadata": {},
   "outputs": [],
   "source": [
    "hyperparams[\"weight_decay\"] = 1e-3 * 2\n",
    "hyperparams[\"epochs\"] = 10"
   ]
  },
  {
   "cell_type": "code",
   "execution_count": 13,
   "metadata": {},
   "outputs": [
    {
     "name": "stdout",
     "output_type": "stream",
     "text": [
      "Training/Validation Epoch 1\n",
      "Train Epoch: 1 [0/60000 (0%)]\tLoss: 2.398944\n",
      "Train Epoch: 1 [40000/60000 (67%)]\tLoss: 0.059228\n",
      "Train => Average loss: 0.0270, Accuracy: 58108/60000 (96.85%)\n",
      "Dev => Average loss: 0.0392, Accuracy: 9886/10000 (98.86%)\n",
      "\n",
      "\n",
      "Training/Validation Epoch 2\n",
      "Train Epoch: 2 [0/60000 (0%)]\tLoss: 0.011500\n",
      "Train Epoch: 2 [40000/60000 (67%)]\tLoss: 0.003454\n",
      "Train => Average loss: 0.0125, Accuracy: 59088/60000 (98.48%)\n",
      "Dev => Average loss: 0.0388, Accuracy: 9868/10000 (98.68%)\n",
      "\n",
      "\n",
      "Training/Validation Epoch 3\n",
      "Train Epoch: 3 [0/60000 (0%)]\tLoss: 0.050898\n",
      "Train Epoch: 3 [40000/60000 (67%)]\tLoss: 0.036321\n",
      "Train => Average loss: 0.0102, Accuracy: 59303/60000 (98.84%)\n",
      "Dev => Average loss: 0.0372, Accuracy: 9889/10000 (98.89%)\n",
      "\n",
      "\n",
      "Training/Validation Epoch 4\n",
      "Train Epoch: 4 [0/60000 (0%)]\tLoss: 0.001490\n",
      "Train Epoch: 4 [40000/60000 (67%)]\tLoss: 0.031491\n",
      "Train => Average loss: 0.0095, Accuracy: 59352/60000 (98.92%)\n",
      "Dev => Average loss: 0.0343, Accuracy: 9899/10000 (98.99%)\n",
      "\n",
      "\n",
      "Training/Validation Epoch 5\n",
      "Train Epoch: 5 [0/60000 (0%)]\tLoss: 0.003584\n",
      "Train Epoch: 5 [40000/60000 (67%)]\tLoss: 0.003518\n",
      "Train => Average loss: 0.0089, Accuracy: 59387/60000 (98.98%)\n",
      "Dev => Average loss: 0.0356, Accuracy: 9890/10000 (98.90%)\n",
      "\n",
      "\n",
      "Training/Validation Epoch 6\n",
      "Train Epoch: 6 [0/60000 (0%)]\tLoss: 0.000902\n",
      "Train Epoch: 6 [40000/60000 (67%)]\tLoss: 0.000948\n",
      "Train => Average loss: 0.0087, Accuracy: 59397/60000 (99.00%)\n",
      "Dev => Average loss: 0.0329, Accuracy: 9905/10000 (99.05%)\n",
      "\n",
      "\n",
      "Training/Validation Epoch 7\n",
      "Train Epoch: 7 [0/60000 (0%)]\tLoss: 0.009091\n",
      "Train Epoch: 7 [40000/60000 (67%)]\tLoss: 0.047847\n",
      "Train => Average loss: 0.0083, Accuracy: 59459/60000 (99.10%)\n",
      "Dev => Average loss: 0.0322, Accuracy: 9902/10000 (99.02%)\n",
      "\n",
      "\n",
      "Training/Validation Epoch 8\n",
      "Train Epoch: 8 [0/60000 (0%)]\tLoss: 0.000345\n",
      "Train Epoch: 8 [40000/60000 (67%)]\tLoss: 0.037611\n",
      "Train => Average loss: 0.0080, Accuracy: 59464/60000 (99.11%)\n",
      "Dev => Average loss: 0.0314, Accuracy: 9911/10000 (99.11%)\n",
      "\n",
      "\n",
      "Training/Validation Epoch 9\n",
      "Train Epoch: 9 [0/60000 (0%)]\tLoss: 0.042631\n",
      "Train Epoch: 9 [40000/60000 (67%)]\tLoss: 0.008806\n",
      "Train => Average loss: 0.0079, Accuracy: 59470/60000 (99.12%)\n",
      "Dev => Average loss: 0.0327, Accuracy: 9900/10000 (99.00%)\n",
      "\n",
      "\n",
      "Training/Validation Epoch 10\n",
      "Train Epoch: 10 [0/60000 (0%)]\tLoss: 0.003311\n",
      "Train Epoch: 10 [40000/60000 (67%)]\tLoss: 0.005637\n",
      "Train => Average loss: 0.0079, Accuracy: 59473/60000 (99.12%)\n",
      "Dev => Average loss: 0.0340, Accuracy: 9895/10000 (98.95%)\n",
      "\n",
      "\n"
     ]
    }
   ],
   "source": [
    "model = ConvNet(num_classes).to(device)\n",
    "criterion = nn.CrossEntropyLoss()\n",
    "optimizer = torch.optim.SGD(model.parameters(), lr=hyperparams[\"learning_rate\"],\n",
    "                            momentum=hyperparams[\"momentum\"],\n",
    "                           weight_decay=hyperparams[\"weight_decay\"])\n",
    "\n",
    "\n",
    "training_metrics = train_model(model, optimizer, criterion, hyperparams, \n",
    "                                   train_loader, test_loader)"
   ]
  },
  {
   "cell_type": "code",
   "execution_count": 14,
   "metadata": {},
   "outputs": [
    {
     "data": {
      "image/png": "[encoded data removed]",
      "text/plain": [
       "<Figure size 432x288 with 1 Axes>"
      ]
     },
     "metadata": {},
     "output_type": "display_data"
    },
    {
     "data": {
      "image/png": "[encoded data removed]",
      "text/plain": [
       "<Figure size 432x288 with 1 Axes>"
      ]
     },
     "metadata": {},
     "output_type": "display_data"
    }
   ],
   "source": [
    "m_loss = mat_loss_epoch(training_metrics)\n",
    "fig3, ax3 = make_plt(m_loss[0,:], m_loss[1,:], m_loss[2,:], \n",
    "             \"Epochs\", \"Loss\", \"Figure 1: Loss vs. Epochs\")\n",
    "\n",
    "m_accu = mat_accuracy_epoch(training_metrics)\n",
    "fig4, ax4 = make_plt(m_accu[0,:], m_accu[1,:], m_accu[2,:], \n",
    "             \"Epochs\", \"Accuracy\", \"Figure 2: Accuracy vs. Epochs\")\n",
    "\n",
    "fig3.savefig(\"imgs/fig3.png\")\n",
    "fig4.savefig(\"imgs/fig4.png\")\n",
    "plt.show()"
   ]
  },
  {
   "cell_type": "markdown",
   "metadata": {},
   "source": [
    "# Syncing code with GitHub\n",
    "\n",
    "Using [AWS SageMaker](https://aws.amazon.com/sagemaker/) to host the\n",
    "Jupyter notebooks and hardware. Need to Sync to GitHub from within\n",
    "the notebook."
   ]
  },
  {
   "cell_type": "code",
   "execution_count": 15,
   "metadata": {},
   "outputs": [],
   "source": [
    "#!git add Assignment_One.ipynb imgs/\n"
   ]
  },
  {
   "cell_type": "code",
   "execution_count": 16,
   "metadata": {},
   "outputs": [],
   "source": [
    "#!git commit -m \"added batch norm, check output figures\""
   ]
  },
  {
   "cell_type": "code",
   "execution_count": 17,
   "metadata": {},
   "outputs": [],
   "source": [
    "#!git push origin master"
   ]
  },
  {
   "cell_type": "code",
   "execution_count": 18,
   "metadata": {},
   "outputs": [
    {
     "name": "stdout",
     "output_type": "stream",
     "text": [
      "Assignment_One.ipynb\tdata\t\t  hw1_solution.log  hw1_solution.tex\r\n",
      "CS7180_Assignment1.pdf\thw1_solution.aux  hw1_solution.pdf  imgs\r\n"
     ]
    }
   ],
   "source": [
    "!ls"
   ]
  },
  {
   "cell_type": "code",
   "execution_count": null,
   "metadata": {},
   "outputs": [],
   "source": []
  }
 ],
 "metadata": {
  "kernelspec": {
   "display_name": "conda_pytorch_p36",
   "language": "python",
   "name": "conda_pytorch_p36"
  },
  "language_info": {
   "codemirror_mode": {
    "name": "ipython",
    "version": 3
   },
   "file_extension": ".py",
   "mimetype": "text/x-python",
   "name": "python",
   "nbconvert_exporter": "python",
   "pygments_lexer": "ipython3",
   "version": "3.6.5"
  }
 },
 "nbformat": 4,
 "nbformat_minor": 1
}
