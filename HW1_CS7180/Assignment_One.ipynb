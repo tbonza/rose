{
 "cells": [
  {
   "cell_type": "markdown",
   "metadata": {},
   "source": [
    "# Assignment One (CS 7180)"
   ]
  },
  {
   "cell_type": "code",
   "execution_count": 19,
   "metadata": {},
   "outputs": [],
   "source": [
    "import sys\n",
    "\n",
    "import numpy as np\n",
    "import matplotlib.pyplot as plt\n",
    "import torch\n",
    "import torch.nn as nn\n",
    "import torch.nn.functional as F\n",
    "import torchvision\n",
    "import torchvision.transforms as transforms\n",
    "\n",
    "%matplotlib inline\n",
    "# Device configuration\n",
    "device = torch.device('cuda:0' if torch.cuda.is_available() else 'cpu')"
   ]
  },
  {
   "cell_type": "markdown",
   "metadata": {},
   "source": [
    "### 0. Package Versions"
   ]
  },
  {
   "cell_type": "code",
   "execution_count": 20,
   "metadata": {},
   "outputs": [
    {
     "name": "stdout",
     "output_type": "stream",
     "text": [
      "Python version: 3.6.5 |Anaconda custom (64-bit)| (default, Apr 29 2018, 16:14:56) \n",
      "[GCC 7.2.0]\n",
      "\n",
      "Numpy version: 1.14.5\n",
      "Torch version: 0.4.1\n",
      "Torchvision version: 0.2.1\n",
      "\n"
     ]
    }
   ],
   "source": [
    "print(\"Python version: {}\\n\".format(sys.version))\n",
    "print(\"Numpy version: {}\".format(np.__version__))\n",
    "print(\"Torch version: {}\".format(torch.__version__))\n",
    "print(\"Torchvision version: {}\\n\".format(torchvision.__version__))"
   ]
  },
  {
   "cell_type": "code",
   "execution_count": 21,
   "metadata": {},
   "outputs": [
    {
     "name": "stdout",
     "output_type": "stream",
     "text": [
      "Tesla K80\n"
     ]
    }
   ],
   "source": [
    "if torch.cuda.is_available():\n",
    "    print(torch.cuda.get_device_name(0))"
   ]
  },
  {
   "cell_type": "markdown",
   "metadata": {},
   "source": [
    "### 1. Load Data"
   ]
  },
  {
   "cell_type": "code",
   "execution_count": 22,
   "metadata": {},
   "outputs": [
    {
     "name": "stdout",
     "output_type": "stream",
     "text": [
      "Transformation on MNIST: \n",
      "\n",
      "Convert a ``PIL Image`` or ``numpy.ndarray`` to tensor.\n",
      "\n",
      "    Converts a PIL Image or numpy.ndarray (H x W x C) in the range\n",
      "    [0, 255] to a torch.FloatTensor of shape (C x H x W) in the range [0.0, 1.0].\n",
      "    \n",
      "\n"
     ]
    }
   ],
   "source": [
    "# 1. Load MNIST training and test data from torchvision.datasets.MNIST.\n",
    "# 2. Please use data.DataLoader and print out dataset size, sample size, batch size.\n",
    "#******************************#\n",
    "\n",
    "print(\"Transformation on MNIST: \\n\\n{}\\n\".format(transforms.ToTensor().__doc__))\n",
    "\n",
    "transform = transforms.Compose(\n",
    "    [transforms.ToTensor()]) \n",
    "\n",
    "mnist_trainset = torchvision.datasets.MNIST(root='./data', train=True, download=True, \n",
    "                                transform=transform)\n",
    "train_loader = torch.utils.data.DataLoader(mnist_trainset, batch_size=4,\n",
    "                                          shuffle=True, num_workers=2)\n",
    "\n",
    "mnist_testset = torchvision.datasets.MNIST(root='./data', train=False, download=True, \n",
    "                               transform=transform)\n",
    "test_loader = torch.utils.data.DataLoader(mnist_testset, batch_size=4,\n",
    "                                         shuffle=False, num_workers=2)\n",
    "\n",
    "#******************************#"
   ]
  },
  {
   "cell_type": "markdown",
   "metadata": {},
   "source": [
    "### 2. Define Hyper-parameters"
   ]
  },
  {
   "cell_type": "code",
   "execution_count": 23,
   "metadata": {},
   "outputs": [],
   "source": [
    "# Define hyper-parameters\n",
    "#******************************#\n",
    "\n",
    "num_classes = 10\n",
    "\n",
    "hyperparams = {\n",
    "    \"batch_size\"       : 32,\n",
    "    \"test_batch_size\"  : 1000,\n",
    "    \"epochs\"           : 10,\n",
    "    \"learning_rate\"    : 0.001,\n",
    "    \"momentum\"         : 0.9,\n",
    "    \"random_seed\"      : 42,\n",
    "    \n",
    "    # Params related to reporting\n",
    "    \n",
    "    \"log_interval\"     : 10000,\n",
    "}\n",
    "\n",
    "#******************************#"
   ]
  },
  {
   "cell_type": "markdown",
   "metadata": {},
   "source": [
    "### 3. Define a Convolutional Neural Network"
   ]
  },
  {
   "cell_type": "code",
   "execution_count": 27,
   "metadata": {},
   "outputs": [],
   "source": [
    "# Pytorch MNIST example reference:\n",
    "#   https://github.com/pytorch/examples/blob/master/mnist/main.py\n",
    "\n",
    "class ConvNet(nn.Module):\n",
    "    def __init__(self, num_classes=10, dropout=0.0):\n",
    "        super(ConvNet, self).__init__()\n",
    "        # 3.1 Initialization\n",
    "        #******************************#\n",
    "        self.layer1 = nn.Sequential(\n",
    "            nn.Conv2d(1, 20, 5, 1),\n",
    "            nn.ReLU(),\n",
    "            nn.MaxPool2d(kernel_size=2,stride=2)\n",
    "        )\n",
    "        self.layer2 = nn.Sequential(\n",
    "            nn.Conv2d(20, 50, 5, 1),\n",
    "            nn.BatchNorm2d(50),\n",
    "            nn.ReLU(),\n",
    "            nn.MaxPool2d(kernel_size=2,stride=2)\n",
    "        )\n",
    "        self.dropout = nn.Dropout(p=dropout)\n",
    "        self.fc1 = nn.Linear(4*4*50, 500)\n",
    "        self.fc2 = nn.Linear(500, 10)\n",
    "        #******************************#\n",
    "    def forward(self, x):\n",
    "        # 3.2 Define Neural Network\n",
    "        #******************************#\n",
    "        out = self.layer1(x)\n",
    "        out = self.layer2(out)\n",
    "        out = out.reshape(out.size(0), -1)\n",
    "        out = self.dropout(out)\n",
    "        out = self.fc1(out)\n",
    "        out = self.fc2(out)\n",
    "        #******************************#\n",
    "        return out\n",
    "    \n",
    "    def count_params(self):\n",
    "        pytorch_total_params = sum(p.numel() for p in super(ConvNet, self).parameters())\n",
    "        return pytorch_total_params\n",
    "\n",
    "# Note: what is the difference between 'same' and 'valid' padding? \n",
    "# Take a look at the outputs to understand the difference."
   ]
  },
  {
   "cell_type": "markdown",
   "metadata": {},
   "source": [
    "### 4. Training the Model"
   ]
  },
  {
   "cell_type": "code",
   "execution_count": 28,
   "metadata": {},
   "outputs": [],
   "source": [
    "# Training and testing functions\n",
    "\n",
    "def performance(result_metrics: tuple, epoch: int, pmeta: list, set_type: str, print_result=True):\n",
    "    meta = {\n",
    "        \"set_type\": None,\n",
    "        \"epoch\": None,\n",
    "        \"n_correct\": None,\n",
    "        \"loss\": None,\n",
    "        \"n_instances\": None,\n",
    "    }\n",
    "    loss, n_correct, n_instances = result_metrics\n",
    "    \n",
    "    meta[\"set_type\"] = set_type\n",
    "    meta[\"epoch\"] = epoch\n",
    "    meta[\"n_correct\"] = n_correct\n",
    "    meta[\"loss\"] = loss\n",
    "    meta[\"n_instances\"] = n_instances\n",
    "    \n",
    "    pmeta.append(meta)\n",
    "    \n",
    "    # Print performance update\n",
    "    if print_result:\n",
    "        print('{} => Average loss: {:.4f}, Accuracy: {}/{} ({:.2f}%)'.format(\n",
    "            set_type.capitalize(), loss, n_correct, n_instances, 100.0 * n_correct / n_instances))\n",
    "    return pmeta\n",
    "\n",
    "def train(hyperparams, model, train_loader, optimizer, criterion, epoch):\n",
    "    model.train()\n",
    "    train_loss = 0\n",
    "    correct = 0\n",
    "    log_interval = hyperparams[\"log_interval\"]\n",
    "    for batch_idx, (data, target) in enumerate(train_loader):\n",
    "        data, target = data.to(device), target.to(device)\n",
    "        optimizer.zero_grad()\n",
    "        output = model(data)\n",
    "        loss = criterion(output, target)\n",
    "        loss.backward()\n",
    "        optimizer.step()\n",
    "        if batch_idx % log_interval == 0:\n",
    "            print('Train Epoch: {} [{}/{} ({:.0f}%)]\\tLoss: {:.6f}'.format(\n",
    "                epoch, batch_idx * len(data), len(train_loader.dataset),\n",
    "                100. * batch_idx / len(train_loader), loss.item()))\n",
    "            \n",
    "        # store each loss and accuracy\n",
    "        pred = output.argmax(dim=1, keepdim=True)\n",
    "        correct += pred.eq(target.view_as(pred)).sum().item()\n",
    "        train_loss += loss.item()\n",
    "    \n",
    "    instance_count = len(train_loader.dataset)\n",
    "    train_loss /= instance_count\n",
    "    \n",
    "    return (train_loss, correct, instance_count)\n",
    "            \n",
    "def test(hyperparams, model, criterion, device, test_loader):\n",
    "    model.eval()\n",
    "    test_loss = 0\n",
    "    correct = 0\n",
    "    with torch.no_grad():\n",
    "        for data, target in test_loader:\n",
    "            data, target = data.to(device), target.to(device)\n",
    "            data = data.cuda()\n",
    "            target = target.cuda()\n",
    "            output = model(data)\n",
    "            test_loss += F.cross_entropy(output, target, reduction='sum').item() # sum up batch loss\n",
    "            pred = output.argmax(dim=1, keepdim=True) # get the index of the max log-probability\n",
    "            correct += pred.eq(target.view_as(pred)).sum().item()\n",
    "\n",
    "    test_loss /= len(test_loader.dataset)\n",
    "\n",
    "    instance_count = len(test_loader.dataset)\n",
    "    return (test_loss, correct, instance_count)\n",
    "\n",
    "def train_model(model, optimizer, criterion, hyperparams, train_loader, test_loader):\n",
    "    \"\"\" Train generic model \"\"\"\n",
    "    \n",
    "    pmeta = []\n",
    "    for epoch in range(1, hyperparams[\"epochs\"] + 1):\n",
    "        \n",
    "        print(\"Training/Validation Epoch {}\".format(epoch))\n",
    "        \n",
    "        train_metrics = train(hyperparams, model, train_loader, \n",
    "                              optimizer, criterion, epoch)\n",
    "        pmeta = performance(result_metrics=train_metrics, \n",
    "                        epoch=epoch, set_type=\"train\", pmeta=pmeta)\n",
    "        \n",
    "        test_metrics = test(hyperparams, model, criterion, \n",
    "                            device, test_loader)\n",
    "        pmeta = performance(result_metrics=test_metrics,\n",
    "                           epoch=epoch, set_type=\"dev\", pmeta=pmeta)\n",
    "        print(\"\\n\")\n",
    "    \n",
    "    return pmeta"
   ]
  },
  {
   "cell_type": "code",
   "execution_count": 29,
   "metadata": {},
   "outputs": [
    {
     "name": "stdout",
     "output_type": "stream",
     "text": [
      "Training/Validation Epoch 1\n",
      "Train Epoch: 1 [0/60000 (0%)]\tLoss: 2.371426\n",
      "Train Epoch: 1 [40000/60000 (67%)]\tLoss: 0.001296\n",
      "Train => Average loss: 0.0267, Accuracy: 58121/60000 (96.87%)\n",
      "Dev => Average loss: 0.0508, Accuracy: 9832/10000 (98.32%)\n",
      "\n",
      "\n",
      "Training/Validation Epoch 2\n",
      "Train Epoch: 2 [0/60000 (0%)]\tLoss: 0.002279\n",
      "Train Epoch: 2 [40000/60000 (67%)]\tLoss: 0.000308\n",
      "Train => Average loss: 0.0116, Accuracy: 59102/60000 (98.50%)\n",
      "Dev => Average loss: 0.0360, Accuracy: 9883/10000 (98.83%)\n",
      "\n",
      "\n",
      "Training/Validation Epoch 3\n",
      "Train Epoch: 3 [0/60000 (0%)]\tLoss: 0.023470\n",
      "Train Epoch: 3 [40000/60000 (67%)]\tLoss: 0.000119\n",
      "Train => Average loss: 0.0086, Accuracy: 59345/60000 (98.91%)\n",
      "Dev => Average loss: 0.0314, Accuracy: 9896/10000 (98.96%)\n",
      "\n",
      "\n",
      "Training/Validation Epoch 4\n",
      "Train Epoch: 4 [0/60000 (0%)]\tLoss: 0.000068\n",
      "Train Epoch: 4 [40000/60000 (67%)]\tLoss: 0.007687\n",
      "Train => Average loss: 0.0067, Accuracy: 59477/60000 (99.13%)\n",
      "Dev => Average loss: 0.0282, Accuracy: 9903/10000 (99.03%)\n",
      "\n",
      "\n",
      "Training/Validation Epoch 5\n",
      "Train Epoch: 5 [0/60000 (0%)]\tLoss: 0.000018\n",
      "Train Epoch: 5 [40000/60000 (67%)]\tLoss: 0.000197\n",
      "Train => Average loss: 0.0053, Accuracy: 59593/60000 (99.32%)\n",
      "Dev => Average loss: 0.0266, Accuracy: 9899/10000 (98.99%)\n",
      "\n",
      "\n",
      "Training/Validation Epoch 6\n",
      "Train Epoch: 6 [0/60000 (0%)]\tLoss: 0.000276\n",
      "Train Epoch: 6 [40000/60000 (67%)]\tLoss: 0.001457\n",
      "Train => Average loss: 0.0044, Accuracy: 59663/60000 (99.44%)\n",
      "Dev => Average loss: 0.0260, Accuracy: 9907/10000 (99.07%)\n",
      "\n",
      "\n",
      "Training/Validation Epoch 7\n",
      "Train Epoch: 7 [0/60000 (0%)]\tLoss: 0.001424\n",
      "Train Epoch: 7 [40000/60000 (67%)]\tLoss: 0.000000\n",
      "Train => Average loss: 0.0037, Accuracy: 59723/60000 (99.54%)\n",
      "Dev => Average loss: 0.0276, Accuracy: 9907/10000 (99.07%)\n",
      "\n",
      "\n",
      "Training/Validation Epoch 8\n",
      "Train Epoch: 8 [0/60000 (0%)]\tLoss: 0.000081\n",
      "Train Epoch: 8 [40000/60000 (67%)]\tLoss: 0.021528\n",
      "Train => Average loss: 0.0027, Accuracy: 59797/60000 (99.66%)\n",
      "Dev => Average loss: 0.0304, Accuracy: 9904/10000 (99.04%)\n",
      "\n",
      "\n",
      "Training/Validation Epoch 9\n",
      "Train Epoch: 9 [0/60000 (0%)]\tLoss: 0.000028\n",
      "Train Epoch: 9 [40000/60000 (67%)]\tLoss: 0.145895\n",
      "Train => Average loss: 0.0024, Accuracy: 59833/60000 (99.72%)\n",
      "Dev => Average loss: 0.0280, Accuracy: 9908/10000 (99.08%)\n",
      "\n",
      "\n",
      "Training/Validation Epoch 10\n",
      "Train Epoch: 10 [0/60000 (0%)]\tLoss: 0.000007\n",
      "Train Epoch: 10 [40000/60000 (67%)]\tLoss: 0.000033\n",
      "Train => Average loss: 0.0023, Accuracy: 59801/60000 (99.67%)\n",
      "Dev => Average loss: 0.0286, Accuracy: 9909/10000 (99.09%)\n",
      "\n",
      "\n"
     ]
    }
   ],
   "source": [
    "# 4.1 Define criterion and optimizer\n",
    "#************************************#\n",
    "\n",
    "model = ConvNet(num_classes).to(device)\n",
    "criterion = nn.CrossEntropyLoss()\n",
    "optimizer = torch.optim.SGD(model.parameters(), lr=hyperparams[\"learning_rate\"],\n",
    "                            momentum=hyperparams[\"momentum\"])\n",
    "\n",
    "#************************************#\n",
    "\n",
    "\n",
    "# 4.2 Train the model\n",
    "# 4.3 Please store and print training and validation loss&accuracy after each epoch\n",
    "#********************************************#\n",
    "\n",
    "training_metrics = train_model(model, optimizer, criterion, hyperparams, \n",
    "                              train_loader, test_loader)\n",
    "\n",
    "#*******************************************#"
   ]
  },
  {
   "cell_type": "markdown",
   "metadata": {},
   "source": [
    "### 5. Model Evaluation"
   ]
  },
  {
   "cell_type": "code",
   "execution_count": 34,
   "metadata": {},
   "outputs": [
    {
     "name": "stdout",
     "output_type": "stream",
     "text": [
      "Total number of parameters in the model: 431180, less than max params: True\n"
     ]
    },
    {
     "ename": "AttributeError",
     "evalue": "'Figure' object has no attribute 'save'",
     "output_type": "error",
     "traceback": [
      "\u001b[0;31m---------------------------------------------------------------------------\u001b[0m",
      "\u001b[0;31mAttributeError\u001b[0m                            Traceback (most recent call last)",
      "\u001b[0;32m<ipython-input-34-5b2249d12916>\u001b[0m in \u001b[0;36m<module>\u001b[0;34m()\u001b[0m\n\u001b[1;32m     78\u001b[0m          \"Epochs\", \"Accuracy\", \"Figure 2: Accuracy vs. Epochs\")\n\u001b[1;32m     79\u001b[0m \u001b[0;34m\u001b[0m\u001b[0m\n\u001b[0;32m---> 80\u001b[0;31m \u001b[0mfig1\u001b[0m\u001b[0;34m.\u001b[0m\u001b[0msave\u001b[0m\u001b[0;34m(\u001b[0m\u001b[0;34m\"imgs/fig1.png\"\u001b[0m\u001b[0;34m)\u001b[0m\u001b[0;34m\u001b[0m\u001b[0m\n\u001b[0m\u001b[1;32m     81\u001b[0m \u001b[0;34m\u001b[0m\u001b[0m\n\u001b[1;32m     82\u001b[0m \u001b[0;31m#************************************#\u001b[0m\u001b[0;34m\u001b[0m\u001b[0;34m\u001b[0m\u001b[0m\n",
      "\u001b[0;31mAttributeError\u001b[0m: 'Figure' object has no attribute 'save'"
     ]
    },
    {
     "data": {
      "image/png": "[encoded data removed]",
      "text/plain": [
       "<Figure size 432x288 with 1 Axes>"
      ]
     },
     "metadata": {},
     "output_type": "display_data"
    },
    {
     "data": {
      "image/png": "[encoded data removed]",
      "text/plain": [
       "<Figure size 432x288 with 1 Axes>"
      ]
     },
     "metadata": {},
     "output_type": "display_data"
    }
   ],
   "source": [
    "# 5.1 Print number of parameters in the model\n",
    "#************************************#\n",
    "MAX_PARAMS = 1000000\n",
    "print(\"Total number of parameters in the model: {}, less than max params: {}\".\\\n",
    "      format(model.count_params(), model.count_params() < MAX_PARAMS))\n",
    "#************************************#\n",
    "\n",
    "def make_plt(x,y, z, x_lbl, y_lbl, title):\n",
    "    fig, ax = plt.subplots()\n",
    "    train_plt, = ax.plot(x, y, label=\"Train\")\n",
    "    dev_plt, = ax.plot(x, z, label=\"Dev\")\n",
    "    ax.set(xlabel=x_lbl, ylabel=y_lbl,\n",
    "           title=title)\n",
    "    plt.legend(handles=[train_plt, dev_plt])\n",
    "    ax.grid()\n",
    "    return fig, ax\n",
    "\n",
    "\n",
    "# 5.2 Summarize history for loss and make loss vs.epoch plot\n",
    "#************************************#\n",
    "\n",
    "def mat_loss_epoch(training_metrics: list):\n",
    "    epochs = []\n",
    "    train_loss_values = []\n",
    "    dev_loss_values = []\n",
    "    \n",
    "    for item in training_metrics:\n",
    "        \n",
    "        if item[\"set_type\"] == \"train\":\n",
    "            train_loss_values.append(item[\"loss\"])\n",
    "            epochs.append(item[\"epoch\"])\n",
    "        \n",
    "        elif item[\"set_type\"] == \"dev\":\n",
    "            dev_loss_values.append(item[\"loss\"])\n",
    "        \n",
    "        else:\n",
    "            raise(\"Wrong set type: {}\".format(item.get(\"set_type\")))\n",
    "\n",
    "    m = np.array([epochs, train_loss_values, dev_loss_values])\n",
    "    return m\n",
    "\n",
    "\n",
    "m_loss = mat_loss_epoch(training_metrics)\n",
    "fig1, ax1 = make_plt(m_loss[0,:], m_loss[1,:], m_loss[2,:], \n",
    "         \"Epochs\", \"Loss\", \"Figure 1: Loss vs. Epochs\")\n",
    "\n",
    "\n",
    "#************************************#\n",
    "\n",
    "# 5.3 Summarize history for accuracy and make accuracy vs.epoch plot\n",
    "#************************************#\n",
    "\n",
    "def mat_accuracy_epoch(training_metrics: list):\n",
    "    epochs = []\n",
    "    train_accuracy = []\n",
    "    dev_accuracy = []\n",
    "    \n",
    "    for item in training_metrics:\n",
    "        \n",
    "        if item[\"set_type\"] == \"train\":\n",
    "            train_accuracy.append(\n",
    "                100.0 * item[\"n_correct\"] / item[\"n_instances\"]\n",
    "            )\n",
    "            epochs.append(item[\"epoch\"])\n",
    "        \n",
    "        elif item[\"set_type\"] == \"dev\":\n",
    "            dev_accuracy.append(\n",
    "                100.0 * item[\"n_correct\"] / item[\"n_instances\"]\n",
    "            )\n",
    "        \n",
    "        else:\n",
    "            raise(\"Wrong set type: {}\".format(item.get(\"set_type\")))\n",
    "            \n",
    "    m = np.array([epochs, train_accuracy, dev_accuracy])\n",
    "    return m\n",
    "\n",
    "m_accu = mat_accuracy_epoch(training_metrics)\n",
    "fig2, ax2 = make_plt(m_accu[0,:], m_accu[1,:], m_accu[2,:], \n",
    "         \"Epochs\", \"Accuracy\", \"Figure 2: Accuracy vs. Epochs\")\n",
    "\n",
    "fig1.save(\"imgs/fig1.png\")\n",
    "\n",
    "#************************************#\n",
    "\n",
    "plt.show()"
   ]
  },
  {
   "cell_type": "markdown",
   "metadata": {},
   "source": [
    "### 5. Varying dropout probabilities"
   ]
  },
  {
   "cell_type": "code",
   "execution_count": 10,
   "metadata": {},
   "outputs": [
    {
     "name": "stdout",
     "output_type": "stream",
     "text": [
      "Dropout probability: 0.0\n",
      "Training/Validation Epoch 1\n",
      "Train Epoch: 1 [0/60000 (0%)]\tLoss: 2.276362\n",
      "Train Epoch: 1 [40000/60000 (67%)]\tLoss: 2.296694\n",
      "Train => Average loss: 0.5759, Accuracy: 7958/60000 (13.26%)\n",
      "Dev => Average loss: 2.3030, Accuracy: 1300/10000 (13.00%)\n",
      "\n",
      "\n",
      "Dropout probability: 0.1\n",
      "Training/Validation Epoch 1\n",
      "Train Epoch: 1 [0/60000 (0%)]\tLoss: 2.396435\n",
      "Train Epoch: 1 [40000/60000 (67%)]\tLoss: 2.302342\n",
      "Train => Average loss: 0.5746, Accuracy: 6829/60000 (11.38%)\n",
      "Dev => Average loss: 2.2989, Accuracy: 976/10000 (9.76%)\n",
      "\n",
      "\n",
      "Dropout probability: 0.2\n",
      "Training/Validation Epoch 1\n",
      "Train Epoch: 1 [0/60000 (0%)]\tLoss: 2.334013\n",
      "Train Epoch: 1 [40000/60000 (67%)]\tLoss: 2.292241\n",
      "Train => Average loss: 0.5760, Accuracy: 6976/60000 (11.63%)\n",
      "Dev => Average loss: 2.3030, Accuracy: 1110/10000 (11.10%)\n",
      "\n",
      "\n",
      "Dropout probability: 0.3\n",
      "Training/Validation Epoch 1\n",
      "Train Epoch: 1 [0/60000 (0%)]\tLoss: 2.328889\n",
      "Train Epoch: 1 [40000/60000 (67%)]\tLoss: 2.284512\n",
      "Train => Average loss: 0.5757, Accuracy: 6381/60000 (10.63%)\n",
      "Dev => Average loss: 2.3027, Accuracy: 961/10000 (9.61%)\n",
      "\n",
      "\n",
      "Dropout probability: 0.4\n",
      "Training/Validation Epoch 1\n",
      "Train Epoch: 1 [0/60000 (0%)]\tLoss: 2.305094\n",
      "Train Epoch: 1 [40000/60000 (67%)]\tLoss: 2.343855\n",
      "Train => Average loss: 0.5761, Accuracy: 7405/60000 (12.34%)\n",
      "Dev => Average loss: 2.3039, Accuracy: 1075/10000 (10.75%)\n",
      "\n",
      "\n",
      "Dropout probability: 0.5\n",
      "Training/Validation Epoch 1\n",
      "Train Epoch: 1 [0/60000 (0%)]\tLoss: 2.324981\n",
      "Train Epoch: 1 [40000/60000 (67%)]\tLoss: 2.280957\n",
      "Train => Average loss: 0.5751, Accuracy: 5892/60000 (9.82%)\n",
      "Dev => Average loss: 2.2986, Accuracy: 847/10000 (8.47%)\n",
      "\n",
      "\n",
      "Dropout probability: 0.6\n",
      "Training/Validation Epoch 1\n",
      "Train Epoch: 1 [0/60000 (0%)]\tLoss: 2.310582\n",
      "Train Epoch: 1 [40000/60000 (67%)]\tLoss: 2.340048\n",
      "Train => Average loss: 0.5779, Accuracy: 6655/60000 (11.09%)\n",
      "Dev => Average loss: 2.3080, Accuracy: 1467/10000 (14.67%)\n",
      "\n",
      "\n",
      "Dropout probability: 0.7\n",
      "Training/Validation Epoch 1\n",
      "Train Epoch: 1 [0/60000 (0%)]\tLoss: 2.272222\n",
      "Train Epoch: 1 [40000/60000 (67%)]\tLoss: 2.300081\n",
      "Train => Average loss: 0.5767, Accuracy: 5751/60000 (9.59%)\n",
      "Dev => Average loss: 2.3051, Accuracy: 870/10000 (8.70%)\n",
      "\n",
      "\n",
      "Dropout probability: 0.8\n",
      "Training/Validation Epoch 1\n",
      "Train Epoch: 1 [0/60000 (0%)]\tLoss: 2.320600\n",
      "Train Epoch: 1 [40000/60000 (67%)]\tLoss: 2.301150\n",
      "Train => Average loss: 0.5779, Accuracy: 5545/60000 (9.24%)\n",
      "Dev => Average loss: 2.3049, Accuracy: 668/10000 (6.68%)\n",
      "\n",
      "\n",
      "Dropout probability: 0.9\n",
      "Training/Validation Epoch 1\n",
      "Train Epoch: 1 [0/60000 (0%)]\tLoss: 2.259941\n",
      "Train Epoch: 1 [40000/60000 (67%)]\tLoss: 2.299321\n",
      "Train => Average loss: 0.5772, Accuracy: 6181/60000 (10.30%)\n",
      "Dev => Average loss: 2.2994, Accuracy: 939/10000 (9.39%)\n",
      "\n",
      "\n",
      "Dropout probability: 1.0\n",
      "Training/Validation Epoch 1\n",
      "Train Epoch: 1 [0/60000 (0%)]\tLoss: 2.298882\n",
      "Train Epoch: 1 [40000/60000 (67%)]\tLoss: 2.314826\n",
      "Train => Average loss: 0.5759, Accuracy: 5923/60000 (9.87%)\n",
      "Dev => Average loss: 2.3063, Accuracy: 859/10000 (8.59%)\n",
      "\n",
      "\n"
     ]
    }
   ],
   "source": [
    "# Set the probabilities of your dropout layers to 10 equally-spaced valuesp∈[0,1], \n",
    "# train for 1 epoch and report the final model accuracies for each.\n",
    "#************************************#\n",
    "\n",
    "\n",
    "hyperparams[\"epochs\"] = 1\n",
    "for i in range(11):\n",
    "    \n",
    "    p = round(0.1 * i,2)\n",
    "    print(\"Dropout probability: {}\".format(round(p,2)))\n",
    "    model = ConvNet(num_classes, p).to(device)\n",
    "    training_metrics = train_model(model, optimizer, criterion, hyperparams, \n",
    "                                   train_loader, test_loader)\n",
    "\n",
    "#************************************#"
   ]
  },
  {
   "cell_type": "code",
   "execution_count": 11,
   "metadata": {},
   "outputs": [
    {
     "name": "stdout",
     "output_type": "stream",
     "text": [
      "Training/Validation Epoch 1\n",
      "Train Epoch: 1 [0/60000 (0%)]\tLoss: 2.367359\n",
      "Train Epoch: 1 [40000/60000 (67%)]\tLoss: 2.279836\n",
      "Train => Average loss: 0.5756, Accuracy: 6034/60000 (10.06%)\n",
      "Dev => Average loss: 2.3026, Accuracy: 933/10000 (9.33%)\n",
      "\n",
      "\n",
      "Training/Validation Epoch 2\n",
      "Train Epoch: 2 [0/60000 (0%)]\tLoss: 2.316309\n",
      "Train Epoch: 2 [40000/60000 (67%)]\tLoss: 2.310788\n",
      "Train => Average loss: 0.5757, Accuracy: 5979/60000 (9.96%)\n",
      "Dev => Average loss: 2.3026, Accuracy: 933/10000 (9.33%)\n",
      "\n",
      "\n",
      "Training/Validation Epoch 3\n",
      "Train Epoch: 3 [0/60000 (0%)]\tLoss: 2.249895\n",
      "Train Epoch: 3 [40000/60000 (67%)]\tLoss: 2.267923\n",
      "Train => Average loss: 0.5757, Accuracy: 6024/60000 (10.04%)\n",
      "Dev => Average loss: 2.3026, Accuracy: 933/10000 (9.33%)\n",
      "\n",
      "\n",
      "Training/Validation Epoch 4\n",
      "Train Epoch: 4 [0/60000 (0%)]\tLoss: 2.315483\n",
      "Train Epoch: 4 [40000/60000 (67%)]\tLoss: 2.311151\n",
      "Train => Average loss: 0.5756, Accuracy: 6001/60000 (10.00%)\n",
      "Dev => Average loss: 2.3026, Accuracy: 933/10000 (9.33%)\n",
      "\n",
      "\n",
      "Training/Validation Epoch 5\n",
      "Train Epoch: 5 [0/60000 (0%)]\tLoss: 2.261764\n",
      "Train Epoch: 5 [40000/60000 (67%)]\tLoss: 2.249067\n",
      "Train => Average loss: 0.5756, Accuracy: 6003/60000 (10.01%)\n",
      "Dev => Average loss: 2.3026, Accuracy: 933/10000 (9.33%)\n",
      "\n",
      "\n",
      "Training/Validation Epoch 6\n",
      "Train Epoch: 6 [0/60000 (0%)]\tLoss: 2.315364\n",
      "Train Epoch: 6 [40000/60000 (67%)]\tLoss: 2.271001\n",
      "Train => Average loss: 0.5756, Accuracy: 6043/60000 (10.07%)\n",
      "Dev => Average loss: 2.3026, Accuracy: 933/10000 (9.33%)\n",
      "\n",
      "\n",
      "Training/Validation Epoch 7\n",
      "Train Epoch: 7 [0/60000 (0%)]\tLoss: 2.296909\n",
      "Train Epoch: 7 [40000/60000 (67%)]\tLoss: 2.308786\n",
      "Train => Average loss: 0.5756, Accuracy: 6014/60000 (10.02%)\n",
      "Dev => Average loss: 2.3026, Accuracy: 933/10000 (9.33%)\n",
      "\n",
      "\n",
      "Training/Validation Epoch 8\n",
      "Train Epoch: 8 [0/60000 (0%)]\tLoss: 2.328178\n",
      "Train Epoch: 8 [40000/60000 (67%)]\tLoss: 2.346112\n",
      "Train => Average loss: 0.5756, Accuracy: 5974/60000 (9.96%)\n",
      "Dev => Average loss: 2.3026, Accuracy: 933/10000 (9.33%)\n",
      "\n",
      "\n",
      "Training/Validation Epoch 9\n",
      "Train Epoch: 9 [0/60000 (0%)]\tLoss: 2.285031\n",
      "Train Epoch: 9 [40000/60000 (67%)]\tLoss: 2.294733\n",
      "Train => Average loss: 0.5756, Accuracy: 6047/60000 (10.08%)\n",
      "Dev => Average loss: 2.3026, Accuracy: 933/10000 (9.33%)\n",
      "\n",
      "\n",
      "Training/Validation Epoch 10\n",
      "Train Epoch: 10 [0/60000 (0%)]\tLoss: 2.285929\n",
      "Train Epoch: 10 [40000/60000 (67%)]\tLoss: 2.245148\n",
      "Train => Average loss: 0.5757, Accuracy: 6071/60000 (10.12%)\n",
      "Dev => Average loss: 2.3026, Accuracy: 933/10000 (9.33%)\n",
      "\n",
      "\n"
     ]
    }
   ],
   "source": [
    "# Dropout p=0.25 looks the most promising\n",
    "\n",
    "model = ConvNet(num_classes, dropout=0.25).to(device)\n",
    "hyperparams[\"epochs\"] = 10\n",
    "training_metrics = train_model(model, optimizer, criterion, hyperparams, \n",
    "                                   train_loader, test_loader)"
   ]
  },
  {
   "cell_type": "markdown",
   "metadata": {},
   "source": [
    "## L2 Regularization\n",
    "\n",
    "Dropout really didn't work well with my model,\n",
    "let's try L2 Regularization because the training\n",
    "set is definitely overfitting."
   ]
  },
  {
   "cell_type": "code",
   "execution_count": 12,
   "metadata": {},
   "outputs": [],
   "source": [
    "hyperparams[\"weight_decay\"] = 1e-3\n",
    "hyperparams[\"epochs\"] = 10"
   ]
  },
  {
   "cell_type": "code",
   "execution_count": 13,
   "metadata": {},
   "outputs": [
    {
     "name": "stdout",
     "output_type": "stream",
     "text": [
      "Training/Validation Epoch 1\n",
      "Train Epoch: 1 [0/60000 (0%)]\tLoss: 2.276527\n",
      "Train Epoch: 1 [40000/60000 (67%)]\tLoss: 0.001451\n",
      "Train => Average loss: 0.0478, Accuracy: 56466/60000 (94.11%)\n",
      "Dev => Average loss: 0.0625, Accuracy: 9791/10000 (97.91%)\n",
      "\n",
      "\n",
      "Training/Validation Epoch 2\n",
      "Train Epoch: 2 [0/60000 (0%)]\tLoss: 0.020019\n",
      "Train Epoch: 2 [40000/60000 (67%)]\tLoss: 0.000611\n",
      "Train => Average loss: 0.0152, Accuracy: 58890/60000 (98.15%)\n",
      "Dev => Average loss: 0.0398, Accuracy: 9867/10000 (98.67%)\n",
      "\n",
      "\n",
      "Training/Validation Epoch 3\n",
      "Train Epoch: 3 [0/60000 (0%)]\tLoss: 0.056950\n",
      "Train Epoch: 3 [40000/60000 (67%)]\tLoss: 0.002677\n",
      "Train => Average loss: 0.0117, Accuracy: 59144/60000 (98.57%)\n",
      "Dev => Average loss: 0.0401, Accuracy: 9883/10000 (98.83%)\n",
      "\n",
      "\n",
      "Training/Validation Epoch 4\n",
      "Train Epoch: 4 [0/60000 (0%)]\tLoss: 0.005851\n",
      "Train Epoch: 4 [40000/60000 (67%)]\tLoss: 0.001404\n",
      "Train => Average loss: 0.0099, Accuracy: 59282/60000 (98.80%)\n",
      "Dev => Average loss: 0.0391, Accuracy: 9873/10000 (98.73%)\n",
      "\n",
      "\n",
      "Training/Validation Epoch 5\n",
      "Train Epoch: 5 [0/60000 (0%)]\tLoss: 0.043017\n",
      "Train Epoch: 5 [40000/60000 (67%)]\tLoss: 0.003243\n",
      "Train => Average loss: 0.0088, Accuracy: 59342/60000 (98.90%)\n",
      "Dev => Average loss: 0.0345, Accuracy: 9877/10000 (98.77%)\n",
      "\n",
      "\n",
      "Training/Validation Epoch 6\n",
      "Train Epoch: 6 [0/60000 (0%)]\tLoss: 0.000864\n",
      "Train Epoch: 6 [40000/60000 (67%)]\tLoss: 0.093098\n",
      "Train => Average loss: 0.0081, Accuracy: 59390/60000 (98.98%)\n",
      "Dev => Average loss: 0.0327, Accuracy: 9900/10000 (99.00%)\n",
      "\n",
      "\n",
      "Training/Validation Epoch 7\n",
      "Train Epoch: 7 [0/60000 (0%)]\tLoss: 0.000087\n",
      "Train Epoch: 7 [40000/60000 (67%)]\tLoss: 0.000165\n",
      "Train => Average loss: 0.0075, Accuracy: 59413/60000 (99.02%)\n",
      "Dev => Average loss: 0.0305, Accuracy: 9910/10000 (99.10%)\n",
      "\n",
      "\n",
      "Training/Validation Epoch 8\n",
      "Train Epoch: 8 [0/60000 (0%)]\tLoss: 0.050210\n",
      "Train Epoch: 8 [40000/60000 (67%)]\tLoss: 0.007346\n",
      "Train => Average loss: 0.0072, Accuracy: 59495/60000 (99.16%)\n",
      "Dev => Average loss: 0.0314, Accuracy: 9899/10000 (98.99%)\n",
      "\n",
      "\n",
      "Training/Validation Epoch 9\n",
      "Train Epoch: 9 [0/60000 (0%)]\tLoss: 0.036041\n",
      "Train Epoch: 9 [40000/60000 (67%)]\tLoss: 0.002630\n",
      "Train => Average loss: 0.0068, Accuracy: 59502/60000 (99.17%)\n",
      "Dev => Average loss: 0.0305, Accuracy: 9898/10000 (98.98%)\n",
      "\n",
      "\n",
      "Training/Validation Epoch 10\n",
      "Train Epoch: 10 [0/60000 (0%)]\tLoss: 0.000100\n",
      "Train Epoch: 10 [40000/60000 (67%)]\tLoss: 0.000169\n",
      "Train => Average loss: 0.0065, Accuracy: 59538/60000 (99.23%)\n",
      "Dev => Average loss: 0.0270, Accuracy: 9915/10000 (99.15%)\n",
      "\n",
      "\n"
     ]
    }
   ],
   "source": [
    "model = ConvNet(num_classes).to(device)\n",
    "criterion = nn.CrossEntropyLoss()\n",
    "optimizer = torch.optim.SGD(model.parameters(), lr=hyperparams[\"learning_rate\"],\n",
    "                            momentum=hyperparams[\"momentum\"],\n",
    "                           weight_decay=hyperparams[\"weight_decay\"])\n",
    "\n",
    "\n",
    "training_metrics = train_model(model, optimizer, criterion, hyperparams, \n",
    "                                   train_loader, test_loader)"
   ]
  },
  {
   "cell_type": "code",
   "execution_count": 14,
   "metadata": {},
   "outputs": [
    {
     "data": {
      "image/png": "[encoded data removed]",
      "text/plain": [
       "<Figure size 432x288 with 1 Axes>"
      ]
     },
     "metadata": {},
     "output_type": "display_data"
    },
    {
     "data": {
      "image/png": "[encoded data removed]",
      "text/plain": [
       "<Figure size 432x288 with 1 Axes>"
      ]
     },
     "metadata": {},
     "output_type": "display_data"
    }
   ],
   "source": [
    "m_loss = mat_loss_epoch(training_metrics)\n",
    "make_plt(m_loss[0,:], m_loss[1,:], m_loss[2,:], \n",
    "         \"Epochs\", \"Loss\", \"Figure 1: Loss vs. Epochs\")\n",
    "\n",
    "m_accu = mat_accuracy_epoch(training_metrics)\n",
    "make_plt(m_accu[0,:], m_accu[1,:], m_accu[2,:], \n",
    "         \"Epochs\", \"Accuracy\", \"Figure 2: Accuracy vs. Epochs\")\n",
    "\n",
    "plt.show()"
   ]
  },
  {
   "cell_type": "markdown",
   "metadata": {},
   "source": [
    "# Syncing code with GitHub\n",
    "\n",
    "Using [AWS SageMaker](https://aws.amazon.com/sagemaker/) to host the\n",
    "Jupyter notebooks and hardware. Need to Sync to GitHub from within\n",
    "the notebook."
   ]
  },
  {
   "cell_type": "code",
   "execution_count": 3,
   "metadata": {},
   "outputs": [
    {
     "name": "stdout",
     "output_type": "stream",
     "text": [
      "[master a89d3c0] updating notebook with git workflow\r\n",
      " Committer: EC2 Default User <ec2-user@ip-172-16-179-56.ec2.internal>\r\n",
      "Your name and email address were configured automatically based\r\n",
      "on your username and hostname. Please check that they are accurate.\r\n",
      "You can suppress this message by setting them explicitly:\r\n",
      "\r\n",
      "    git config --global user.name \"Your Name\"\r\n",
      "    git config --global user.email you@example.com\r\n",
      "\r\n",
      "After doing this, you may fix the identity used for this commit with:\r\n",
      "\r\n",
      "    git commit --amend --reset-author\r\n",
      "\r\n",
      " 1 file changed, 999 insertions(+), 699 deletions(-)\r\n",
      " rewrite HW1_CS7180/Assignment_One.ipynb (71%)\r\n"
     ]
    }
   ],
   "source": [
    "!git add Assignment_One.ipynb\n",
    "!git commit -m \"updating notebook with git workflow\""
   ]
  },
  {
   "cell_type": "code",
   "execution_count": 9,
   "metadata": {},
   "outputs": [
    {
     "name": "stdout",
     "output_type": "stream",
     "text": [
      "[master de36143] merged\r\n",
      " Committer: EC2 Default User <ec2-user@ip-172-16-179-56.ec2.internal>\r\n",
      "Your name and email address were configured automatically based\r\n",
      "on your username and hostname. Please check that they are accurate.\r\n",
      "You can suppress this message by setting them explicitly:\r\n",
      "\r\n",
      "    git config --global user.name \"Your Name\"\r\n",
      "    git config --global user.email you@example.com\r\n",
      "\r\n",
      "After doing this, you may fix the identity used for this commit with:\r\n",
      "\r\n",
      "    git commit --amend --reset-author\r\n",
      "\r\n"
     ]
    }
   ],
   "source": [
    "!git commit -m \"merged\""
   ]
  },
  {
   "cell_type": "code",
   "execution_count": 10,
   "metadata": {},
   "outputs": [
    {
     "name": "stdout",
     "output_type": "stream",
     "text": [
      "Counting objects: 7, done.\n",
      "Delta compression using up to 4 threads.\n",
      "Compressing objects: 100% (7/7), done.\n",
      "Writing objects: 100% (7/7), 1.21 KiB | 620.00 KiB/s, done.\n",
      "Total 7 (delta 5), reused 0 (delta 0)\n",
      "remote: Resolving deltas: 100% (5/5), completed with 3 local objects.\u001b[K\n",
      "To https://github.com/tbonza/rose.git\n",
      "   ad6f1d5..de36143  master -> master\n"
     ]
    }
   ],
   "source": [
    "!git push origin master"
   ]
  },
  {
   "cell_type": "code",
   "execution_count": 11,
   "metadata": {},
   "outputs": [
    {
     "name": "stdout",
     "output_type": "stream",
     "text": [
      "Assignment_One.ipynb\tdata\t\t  hw1_solution.log  hw1_solution.tex\r\n",
      "CS7180_Assignment1.pdf\thw1_solution.aux  hw1_solution.pdf  imgs\r\n"
     ]
    }
   ],
   "source": [
    "!ls"
   ]
  },
  {
   "cell_type": "code",
   "execution_count": null,
   "metadata": {},
   "outputs": [],
   "source": []
  }
 ],
 "metadata": {
  "kernelspec": {
   "display_name": "conda_pytorch_p36",
   "language": "python",
   "name": "conda_pytorch_p36"
  },
  "language_info": {
   "codemirror_mode": {
    "name": "ipython",
    "version": 3
   },
   "file_extension": ".py",
   "mimetype": "text/x-python",
   "name": "python",
   "nbconvert_exporter": "python",
   "pygments_lexer": "ipython3",
   "version": "3.6.5"
  }
 },
 "nbformat": 4,
 "nbformat_minor": 1
}
