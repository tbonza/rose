{
 "cells": [
  {
   "cell_type": "markdown",
   "metadata": {},
   "source": [
    "# Summary\n",
    "\n",
    "let's draw some sheep"
   ]
  },
  {
   "cell_type": "code",
   "execution_count": 51,
   "metadata": {},
   "outputs": [],
   "source": [
    "import numpy as np\n",
    "from torch.utils.data import Dataset\n",
    "from torchvision import transforms, utils\n",
    "\n",
    "from draw_strokes import draw_strokes, make_grid_svg"
   ]
  },
  {
   "cell_type": "code",
   "execution_count": 14,
   "metadata": {},
   "outputs": [
    {
     "name": "stdout",
     "output_type": "stream",
     "text": [
      "train: '(7400,)', test: '(300,)', valid: '(300,)'\n"
     ]
    }
   ],
   "source": [
    "train = np.load(\"Sheep_Market/train.npy\", encoding='latin1')\n",
    "test = np.load(\"Sheep_Market/test.npy\", encoding='latin1')\n",
    "valid = np.load(\"Sheep_Market/valid.npy\", encoding='latin1')\n",
    "\n",
    "print(\"train: '{}', test: '{}', valid: '{}'\".format(train.shape, test.shape, valid.shape))"
   ]
  },
  {
   "cell_type": "code",
   "execution_count": 53,
   "metadata": {},
   "outputs": [],
   "source": [
    "class SheepDataset(Dataset):\n",
    "    \"\"\" \n",
    "    Reference: \n",
    "        https://www.kaggle.com/leighplt/pytorch-starter-kit \n",
    "    \"\"\"\n",
    "    \n",
    "    def __init__(self, npyfpath, mode='train'):\n",
    "        self.dataset = np.load(npyfpath, encoding='latin1')\n",
    "        self.mode = mode\n",
    "     \n",
    "    @staticmethod\n",
    "    def _get_bounds(data, factor):\n",
    "        min_x = 0\n",
    "        max_x = 0\n",
    "        min_y = 0\n",
    "        max_y = 0\n",
    "\n",
    "        abs_x = 0\n",
    "        abs_y = 0\n",
    "        for i in range(len(data)):\n",
    "            x = float(data[i,0])/factor\n",
    "            y = float(data[i,1])/factor\n",
    "            abs_x += x\n",
    "            abs_y += y\n",
    "            min_x = min(min_x, abs_x)\n",
    "            min_y = min(min_y, abs_y)\n",
    "            max_x = max(max_x, abs_x)\n",
    "            max_y = max(max_y, abs_y)\n",
    "\n",
    "        return (min_x, max_x, min_y, max_y)\n",
    "        \n",
    "    @staticmethod\n",
    "    def _draw_strokes(data, factor=0.8, svg_filename = 'sample.svg'):\n",
    "        \"\"\" Displays vector images and saves them to .svg \"\"\"\n",
    "        min_x, max_x, min_y, max_y = self._get_bounds(data, factor)\n",
    "        dims = (50 + max_x - min_x, 50 + max_y - min_y)\n",
    "        dwg = svgwrite.Drawing(svg_filename, size=dims)\n",
    "        dwg.add(dwg.rect(insert=(0, 0), size=dims,fill='white'))\n",
    "        lift_pen = 1\n",
    "        abs_x = 25 - min_x \n",
    "        abs_y = 25 - min_y\n",
    "        p = \"M%s,%s \" % (abs_x, abs_y)\n",
    "        command = \"m\"\n",
    "        for i in range(len(data)):\n",
    "            if (lift_pen == 1):\n",
    "                command = \"m\"\n",
    "            elif (command != \"l\"):\n",
    "                command = \"l\"\n",
    "            else:\n",
    "                command = \"\"\n",
    "            x = float(data[i,0])/factor\n",
    "            y = float(data[i,1])/factor\n",
    "            lift_pen = data[i, 2]\n",
    "            p += command+str(x)+\",\"+str(y)+\" \"\n",
    "        the_color = \"black\"\n",
    "        stroke_width = 1\n",
    "        dwg.add(dwg.path(p).stroke(the_color,stroke_width).fill(\"none\"))\n",
    "        dwg.save()\n",
    "        display(SVG(dwg.tostring()))\n",
    "        \n",
    "    def __len__(self):\n",
    "        return self.dataset.shape[0]\n",
    "    \n",
    "    def __getitem__(self, idx):\n",
    "        pass\n",
    "    "
   ]
  },
  {
   "cell_type": "code",
   "execution_count": null,
   "metadata": {},
   "outputs": [],
   "source": []
  },
  {
   "cell_type": "markdown",
   "metadata": {},
   "source": [
    "# 2.1 Rendering\n",
    "\n",
    "Let's meet the sheep."
   ]
  },
  {
   "cell_type": "code",
   "execution_count": 20,
   "metadata": {},
   "outputs": [
    {
     "data": {
      "image/svg+xml": [
       "<svg baseProfile=\"full\" height=\"298.75\" version=\"1.1\" width=\"422.5\" xmlns=\"http://www.w3.org/2000/svg\" xmlns:ev=\"http://www.w3.org/2001/xml-events\" xmlns:xlink=\"http://www.w3.org/1999/xlink\"><defs/><rect fill=\"white\" height=\"298.75\" width=\"422.5\" x=\"0\" y=\"0\"/><path d=\"M172.5,66.25 m2.5,-5.0 l11.25,-11.25 20.0,-8.75 l12.5,0.0 17.5,8.75 l8.75,16.25 0.0,-3.75 l18.75,-11.25 8.75,-3.75 l11.25,-1.25 7.5,1.25 l7.5,6.25 7.5,15.0 l-1.25,-1.25 6.25,-6.25 l25.0,-5.0 17.5,5.0 l8.75,10.0 2.5,10.0 l-1.25,7.5 -7.5,6.25 l35.0,17.5 6.25,10.0 l-7.5,16.25 -7.5,6.25 l-30.0,-1.25 8.75,8.75 l6.25,11.25 -2.5,10.0 l-11.25,8.75 -10.0,2.5 l-7.5,-1.25 5.0,17.5 l-7.5,13.75 -21.25,6.25 l-45.0,-1.25 -5.0,-5.0 l-5.0,-11.25 -20.0,6.25 l-18.75,1.25 -41.25,-15.0 l-11.25,-8.75 -1.25,-3.75 l6.25,-7.5 3.75,-1.25 l-21.25,-25.0 -2.5,-8.75 l2.5,-10.0 3.75,-6.25 l-46.25,-31.25 -1.25,-3.75 l2.5,-7.5 11.25,-8.75 l6.25,-2.5 2.5,-11.25 l3.75,-3.75 12.5,-3.75 l17.5,0.0 10.0,6.25 l1.25,7.5 m-50.0,-6.25 l-20.0,-12.5 -13.75,-1.25 l-13.75,-5.0 -11.25,0.0 l-11.25,3.75 -6.25,0.0 l-22.5,11.25 -3.75,10.0 l1.25,16.25 17.5,21.25 l30.0,17.5 36.25,1.25 l26.25,-6.25 5.0,-7.5 m-56.25,-51.25 l-1.25,-3.75 16.25,-21.25 l2.5,-7.5 1.25,27.5 l3.75,11.25 m-60.0,-12.5 l-1.25,2.5 16.25,3.75 l5.0,0.0 0.0,-6.25 l-8.75,-6.25 -5.0,0.0 l-2.5,2.5 0.0,8.75 m-23.75,20.0 l17.5,10.0 22.5,0.0 l11.25,-7.5 1.25,-11.25 m97.5,116.25 l-8.75,0.0 -6.25,6.25 l2.5,8.75 15.0,12.5 l-18.75,0.0 -12.5,3.75 l-6.25,6.25 5.0,11.25 l12.5,15.0 13.75,8.75 l-10.0,0.0 -7.5,6.25 l1.25,6.25 20.0,0.0 l6.25,-5.0 0.0,-2.5 l5.0,-3.75 2.5,-5.0 l20.0,-13.75 -6.25,-12.5 l-13.75,-18.75 0.0,-11.25 m27.5,37.5 l-5.0,5.0 1.25,8.75 l6.25,5.0 8.75,0.0 l1.25,-10.0 2.5,-3.75 l3.75,0.0 0.0,-7.5 l-15.0,-26.25 m46.25,22.5 l-2.5,0.0 -12.5,10.0 l2.5,8.75 18.75,11.25 l7.5,2.5 -7.5,2.5 l0.0,6.25 2.5,3.75 l11.25,1.25 10.0,-3.75 l0.0,-3.75 11.25,-10.0 l-18.75,-18.75 -5.0,-11.25 m36.25,-10.0 l0.0,20.0 3.75,6.25 l-1.25,11.25 2.5,7.5 l16.25,3.75 22.5,-1.25 l0.0,-10.0 -5.0,-11.25 l-6.25,-5.0 -1.25,-11.25 l-3.75,-8.75 -21.25,-13.75 \" fill=\"none\" stroke=\"black\" stroke-width=\"1\"/></svg>"
      ],
      "text/plain": [
       "<IPython.core.display.SVG object>"
      ]
     },
     "metadata": {},
     "output_type": "display_data"
    }
   ],
   "source": [
    "draw_strokes(train[0])"
   ]
  },
  {
   "cell_type": "code",
   "execution_count": 35,
   "metadata": {},
   "outputs": [],
   "source": [
    "samples = train[:4].tolist()\n"
   ]
  },
  {
   "cell_type": "code",
   "execution_count": 38,
   "metadata": {},
   "outputs": [],
   "source": [
    "# generate a 2D grid of many vector drawings\n",
    "def make_grid_svg(s_list, grid_space=10.0, grid_space_x=15.0):\n",
    "    def get_start_and_end(x):\n",
    "        x = np.array(x)\n",
    "        x = x[:, 0:2]\n",
    "        x_start = x[0]\n",
    "        x_end = x.sum(axis=0)\n",
    "        x = x.cumsum(axis=0)\n",
    "        x_max = x.max(axis=0)\n",
    "        x_min = x.min(axis=0)\n",
    "        center_loc = (x_max+x_min)*0.5\n",
    "        return x_start-center_loc, x_end\n",
    "    x_pos = 0.0\n",
    "    y_pos = 0.0\n",
    "    result = [[x_pos, y_pos, 1]]\n",
    "    for sample in s_list:\n",
    "        s = sample[0]\n",
    "        grid_loc = sample[1]\n",
    "        grid_y = grid_loc[0]*grid_space+grid_space*0.5\n",
    "        grid_x = grid_loc[1]*grid_space_x+grid_space_x*0.5\n",
    "        start_loc, delta_pos = get_start_and_end(s)\n",
    "\n",
    "        loc_x = start_loc[0]\n",
    "        loc_y = start_loc[1]\n",
    "        new_x_pos = grid_x+loc_x\n",
    "        new_y_pos = grid_y+loc_y\n",
    "        result.append([new_x_pos-x_pos, new_y_pos-y_pos, 0])\n",
    "\n",
    "        result += s.tolist()\n",
    "        result[-1][2] = 1\n",
    "        x_pos = new_x_pos+delta_pos[0]\n",
    "        y_pos = new_y_pos+delta_pos[1]\n",
    "    return np.array(result)"
   ]
  },
  {
   "cell_type": "code",
   "execution_count": 39,
   "metadata": {},
   "outputs": [
    {
     "name": "stdout",
     "output_type": "stream",
     "text": [
      "(3,)\n"
     ]
    },
    {
     "ename": "IndexError",
     "evalue": "too many indices for array",
     "output_type": "error",
     "traceback": [
      "\u001b[0;31m---------------------------------------------------------------------------\u001b[0m",
      "\u001b[0;31mIndexError\u001b[0m                                Traceback (most recent call last)",
      "\u001b[0;32m<ipython-input-39-0238dcd4b05a>\u001b[0m in \u001b[0;36m<module>\u001b[0;34m\u001b[0m\n\u001b[0;32m----> 1\u001b[0;31m \u001b[0mmake_grid_svg\u001b[0m\u001b[0;34m(\u001b[0m\u001b[0msamples\u001b[0m\u001b[0;34m)\u001b[0m\u001b[0;34m\u001b[0m\u001b[0;34m\u001b[0m\u001b[0m\n\u001b[0m",
      "\u001b[0;32m<ipython-input-38-325d747057d6>\u001b[0m in \u001b[0;36mmake_grid_svg\u001b[0;34m(s_list, grid_space, grid_space_x)\u001b[0m\n\u001b[1;32m     20\u001b[0m         \u001b[0mgrid_y\u001b[0m \u001b[0;34m=\u001b[0m \u001b[0mgrid_loc\u001b[0m\u001b[0;34m[\u001b[0m\u001b[0;36m0\u001b[0m\u001b[0;34m]\u001b[0m\u001b[0;34m*\u001b[0m\u001b[0mgrid_space\u001b[0m\u001b[0;34m+\u001b[0m\u001b[0mgrid_space\u001b[0m\u001b[0;34m*\u001b[0m\u001b[0;36m0.5\u001b[0m\u001b[0;34m\u001b[0m\u001b[0;34m\u001b[0m\u001b[0m\n\u001b[1;32m     21\u001b[0m         \u001b[0mgrid_x\u001b[0m \u001b[0;34m=\u001b[0m \u001b[0mgrid_loc\u001b[0m\u001b[0;34m[\u001b[0m\u001b[0;36m1\u001b[0m\u001b[0;34m]\u001b[0m\u001b[0;34m*\u001b[0m\u001b[0mgrid_space_x\u001b[0m\u001b[0;34m+\u001b[0m\u001b[0mgrid_space_x\u001b[0m\u001b[0;34m*\u001b[0m\u001b[0;36m0.5\u001b[0m\u001b[0;34m\u001b[0m\u001b[0;34m\u001b[0m\u001b[0m\n\u001b[0;32m---> 22\u001b[0;31m         \u001b[0mstart_loc\u001b[0m\u001b[0;34m,\u001b[0m \u001b[0mdelta_pos\u001b[0m \u001b[0;34m=\u001b[0m \u001b[0mget_start_and_end\u001b[0m\u001b[0;34m(\u001b[0m\u001b[0ms\u001b[0m\u001b[0;34m)\u001b[0m\u001b[0;34m\u001b[0m\u001b[0;34m\u001b[0m\u001b[0m\n\u001b[0m\u001b[1;32m     23\u001b[0m \u001b[0;34m\u001b[0m\u001b[0m\n\u001b[1;32m     24\u001b[0m         \u001b[0mloc_x\u001b[0m \u001b[0;34m=\u001b[0m \u001b[0mstart_loc\u001b[0m\u001b[0;34m[\u001b[0m\u001b[0;36m0\u001b[0m\u001b[0;34m]\u001b[0m\u001b[0;34m\u001b[0m\u001b[0;34m\u001b[0m\u001b[0m\n",
      "\u001b[0;32m<ipython-input-38-325d747057d6>\u001b[0m in \u001b[0;36mget_start_and_end\u001b[0;34m(x)\u001b[0m\n\u001b[1;32m      3\u001b[0m     \u001b[0;32mdef\u001b[0m \u001b[0mget_start_and_end\u001b[0m\u001b[0;34m(\u001b[0m\u001b[0mx\u001b[0m\u001b[0;34m)\u001b[0m\u001b[0;34m:\u001b[0m\u001b[0;34m\u001b[0m\u001b[0;34m\u001b[0m\u001b[0m\n\u001b[1;32m      4\u001b[0m         \u001b[0mx\u001b[0m \u001b[0;34m=\u001b[0m \u001b[0mnp\u001b[0m\u001b[0;34m.\u001b[0m\u001b[0marray\u001b[0m\u001b[0;34m(\u001b[0m\u001b[0mx\u001b[0m\u001b[0;34m)\u001b[0m\u001b[0;34m\u001b[0m\u001b[0;34m\u001b[0m\u001b[0m\n\u001b[0;32m----> 5\u001b[0;31m         \u001b[0mx\u001b[0m \u001b[0;34m=\u001b[0m \u001b[0mx\u001b[0m\u001b[0;34m[\u001b[0m\u001b[0;34m:\u001b[0m\u001b[0;34m,\u001b[0m \u001b[0;36m0\u001b[0m\u001b[0;34m:\u001b[0m\u001b[0;36m2\u001b[0m\u001b[0;34m]\u001b[0m\u001b[0;34m\u001b[0m\u001b[0;34m\u001b[0m\u001b[0m\n\u001b[0m\u001b[1;32m      6\u001b[0m         \u001b[0mx_start\u001b[0m \u001b[0;34m=\u001b[0m \u001b[0mx\u001b[0m\u001b[0;34m[\u001b[0m\u001b[0;36m0\u001b[0m\u001b[0;34m]\u001b[0m\u001b[0;34m\u001b[0m\u001b[0;34m\u001b[0m\u001b[0m\n\u001b[1;32m      7\u001b[0m         \u001b[0mx_end\u001b[0m \u001b[0;34m=\u001b[0m \u001b[0mx\u001b[0m\u001b[0;34m.\u001b[0m\u001b[0msum\u001b[0m\u001b[0;34m(\u001b[0m\u001b[0maxis\u001b[0m\u001b[0;34m=\u001b[0m\u001b[0;36m0\u001b[0m\u001b[0;34m)\u001b[0m\u001b[0;34m\u001b[0m\u001b[0;34m\u001b[0m\u001b[0m\n",
      "\u001b[0;31mIndexError\u001b[0m: too many indices for array"
     ]
    }
   ],
   "source": [
    "make_grid_svg(samples)"
   ]
  },
  {
   "cell_type": "code",
   "execution_count": 43,
   "metadata": {},
   "outputs": [],
   "source": [
    "def get_start_and_end(x):\n",
    "        x = np.array(x)\n",
    "        x = x[:, 0:2]\n",
    "        x_start = x[0]\n",
    "        x_end = x.sum(axis=0)\n",
    "        x = x.cumsum(axis=0)\n",
    "        x_max = x.max(axis=0)\n",
    "        x_min = x.min(axis=0)\n",
    "        center_loc = (x_max+x_min)*0.5\n",
    "        return x_start-center_loc, x_end"
   ]
  },
  {
   "cell_type": "code",
   "execution_count": 41,
   "metadata": {},
   "outputs": [],
   "source": [
    "m = train[:4]"
   ]
  },
  {
   "cell_type": "code",
   "execution_count": 42,
   "metadata": {},
   "outputs": [
    {
     "data": {
      "text/plain": [
       "(4,)"
      ]
     },
     "execution_count": 42,
     "metadata": {},
     "output_type": "execute_result"
    }
   ],
   "source": [
    "m.shape"
   ]
  },
  {
   "cell_type": "code",
   "execution_count": 47,
   "metadata": {},
   "outputs": [
    {
     "data": {
      "text/plain": [
       "(array([-29. , -70.5]), array([125, 110]))"
      ]
     },
     "execution_count": 47,
     "metadata": {},
     "output_type": "execute_result"
    }
   ],
   "source": [
    "get_start_and_end(m[0])"
   ]
  },
  {
   "cell_type": "code",
   "execution_count": 50,
   "metadata": {},
   "outputs": [
    {
     "data": {
      "text/plain": [
       "(156, 3)"
      ]
     },
     "execution_count": 50,
     "metadata": {},
     "output_type": "execute_result"
    }
   ],
   "source": [
    "m[0].shape"
   ]
  },
  {
   "cell_type": "code",
   "execution_count": null,
   "metadata": {},
   "outputs": [],
   "source": []
  },
  {
   "cell_type": "code",
   "execution_count": null,
   "metadata": {},
   "outputs": [],
   "source": []
  }
 ],
 "metadata": {
  "kernelspec": {
   "display_name": "Python 3",
   "language": "python",
   "name": "python3"
  },
  "language_info": {
   "codemirror_mode": {
    "name": "ipython",
    "version": 3
   },
   "file_extension": ".py",
   "mimetype": "text/x-python",
   "name": "python",
   "nbconvert_exporter": "python",
   "pygments_lexer": "ipython3",
   "version": "3.6.8"
  }
 },
 "nbformat": 4,
 "nbformat_minor": 2
}
