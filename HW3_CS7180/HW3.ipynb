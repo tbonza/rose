{
 "cells": [
  {
   "cell_type": "markdown",
   "metadata": {},
   "source": [
    "# Summary\n",
    "\n",
    "let's draw some sheep"
   ]
  },
  {
   "cell_type": "code",
   "execution_count": 1,
   "metadata": {},
   "outputs": [],
   "source": [
    "import cv2\n",
    "import matplotlib.pyplot as plt\n",
    "import numpy as np\n",
    "from torch.utils.data import Dataset, DataLoader\n",
    "\n",
    "import torchvision\n",
    "from torchvision import transforms, utils\n",
    "\n",
    "from draw_strokes import draw_strokes, make_grid_svg"
   ]
  },
  {
   "cell_type": "code",
   "execution_count": 2,
   "metadata": {},
   "outputs": [
    {
     "name": "stdout",
     "output_type": "stream",
     "text": [
      "train: '(7400,)', test: '(300,)', valid: '(300,)'\n"
     ]
    }
   ],
   "source": [
    "train = np.load(\"Sheep_Market/train.npy\", encoding='latin1')\n",
    "test = np.load(\"Sheep_Market/test.npy\", encoding='latin1')\n",
    "valid = np.load(\"Sheep_Market/valid.npy\", encoding='latin1')\n",
    "\n",
    "print(\"train: '{}', test: '{}', valid: '{}'\".format(train.shape, test.shape, valid.shape))"
   ]
  },
  {
   "cell_type": "markdown",
   "metadata": {},
   "source": [
    "# 2.1 Rendering\n",
    "\n",
    "Let's meet the sheep."
   ]
  },
  {
   "cell_type": "code",
   "execution_count": 3,
   "metadata": {},
   "outputs": [
    {
     "data": {
      "image/svg+xml": [
       "<svg baseProfile=\"full\" height=\"298.75\" version=\"1.1\" width=\"422.5\" xmlns=\"http://www.w3.org/2000/svg\" xmlns:ev=\"http://www.w3.org/2001/xml-events\" xmlns:xlink=\"http://www.w3.org/1999/xlink\"><defs/><rect fill=\"white\" height=\"298.75\" width=\"422.5\" x=\"0\" y=\"0\"/><path d=\"M172.5,66.25 m2.5,-5.0 l11.25,-11.25 20.0,-8.75 l12.5,0.0 17.5,8.75 l8.75,16.25 0.0,-3.75 l18.75,-11.25 8.75,-3.75 l11.25,-1.25 7.5,1.25 l7.5,6.25 7.5,15.0 l-1.25,-1.25 6.25,-6.25 l25.0,-5.0 17.5,5.0 l8.75,10.0 2.5,10.0 l-1.25,7.5 -7.5,6.25 l35.0,17.5 6.25,10.0 l-7.5,16.25 -7.5,6.25 l-30.0,-1.25 8.75,8.75 l6.25,11.25 -2.5,10.0 l-11.25,8.75 -10.0,2.5 l-7.5,-1.25 5.0,17.5 l-7.5,13.75 -21.25,6.25 l-45.0,-1.25 -5.0,-5.0 l-5.0,-11.25 -20.0,6.25 l-18.75,1.25 -41.25,-15.0 l-11.25,-8.75 -1.25,-3.75 l6.25,-7.5 3.75,-1.25 l-21.25,-25.0 -2.5,-8.75 l2.5,-10.0 3.75,-6.25 l-46.25,-31.25 -1.25,-3.75 l2.5,-7.5 11.25,-8.75 l6.25,-2.5 2.5,-11.25 l3.75,-3.75 12.5,-3.75 l17.5,0.0 10.0,6.25 l1.25,7.5 m-50.0,-6.25 l-20.0,-12.5 -13.75,-1.25 l-13.75,-5.0 -11.25,0.0 l-11.25,3.75 -6.25,0.0 l-22.5,11.25 -3.75,10.0 l1.25,16.25 17.5,21.25 l30.0,17.5 36.25,1.25 l26.25,-6.25 5.0,-7.5 m-56.25,-51.25 l-1.25,-3.75 16.25,-21.25 l2.5,-7.5 1.25,27.5 l3.75,11.25 m-60.0,-12.5 l-1.25,2.5 16.25,3.75 l5.0,0.0 0.0,-6.25 l-8.75,-6.25 -5.0,0.0 l-2.5,2.5 0.0,8.75 m-23.75,20.0 l17.5,10.0 22.5,0.0 l11.25,-7.5 1.25,-11.25 m97.5,116.25 l-8.75,0.0 -6.25,6.25 l2.5,8.75 15.0,12.5 l-18.75,0.0 -12.5,3.75 l-6.25,6.25 5.0,11.25 l12.5,15.0 13.75,8.75 l-10.0,0.0 -7.5,6.25 l1.25,6.25 20.0,0.0 l6.25,-5.0 0.0,-2.5 l5.0,-3.75 2.5,-5.0 l20.0,-13.75 -6.25,-12.5 l-13.75,-18.75 0.0,-11.25 m27.5,37.5 l-5.0,5.0 1.25,8.75 l6.25,5.0 8.75,0.0 l1.25,-10.0 2.5,-3.75 l3.75,0.0 0.0,-7.5 l-15.0,-26.25 m46.25,22.5 l-2.5,0.0 -12.5,10.0 l2.5,8.75 18.75,11.25 l7.5,2.5 -7.5,2.5 l0.0,6.25 2.5,3.75 l11.25,1.25 10.0,-3.75 l0.0,-3.75 11.25,-10.0 l-18.75,-18.75 -5.0,-11.25 m36.25,-10.0 l0.0,20.0 3.75,6.25 l-1.25,11.25 2.5,7.5 l16.25,3.75 22.5,-1.25 l0.0,-10.0 -5.0,-11.25 l-6.25,-5.0 -1.25,-11.25 l-3.75,-8.75 -21.25,-13.75 \" fill=\"none\" stroke=\"black\" stroke-width=\"1\"/></svg>"
      ],
      "text/plain": [
       "<IPython.core.display.SVG object>"
      ]
     },
     "metadata": {},
     "output_type": "display_data"
    }
   ],
   "source": [
    "draw_strokes(train[0])"
   ]
  },
  {
   "cell_type": "markdown",
   "metadata": {},
   "source": [
    "# Remaining code is in  \"sheepgan.py\""
   ]
  },
  {
   "cell_type": "code",
   "execution_count": null,
   "metadata": {},
   "outputs": [],
   "source": []
  }
 ],
 "metadata": {
  "kernelspec": {
   "display_name": "Python 3",
   "language": "python",
   "name": "python3"
  },
  "language_info": {
   "codemirror_mode": {
    "name": "ipython",
    "version": 3
   },
   "file_extension": ".py",
   "mimetype": "text/x-python",
   "name": "python",
   "nbconvert_exporter": "python",
   "pygments_lexer": "ipython3",
   "version": "3.6.8"
  }
 },
 "nbformat": 4,
 "nbformat_minor": 2
}
