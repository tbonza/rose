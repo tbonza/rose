{
 "cells": [
  {
   "cell_type": "markdown",
   "metadata": {},
   "source": [
    "# Summary\n",
    "\n",
    "let's draw some sheep"
   ]
  },
  {
   "cell_type": "code",
   "execution_count": 75,
   "metadata": {},
   "outputs": [],
   "source": [
    "import cv2\n",
    "import matplotlib.pyplot as plt\n",
    "import numpy as np\n",
    "from torch.utils.data import Dataset, DataLoader\n",
    "\n",
    "import torchvision\n",
    "from torchvision import transforms, utils\n",
    "\n",
    "from draw_strokes import draw_strokes, make_grid_svg"
   ]
  },
  {
   "cell_type": "code",
   "execution_count": 76,
   "metadata": {},
   "outputs": [
    {
     "name": "stdout",
     "output_type": "stream",
     "text": [
      "train: '(7400,)', test: '(300,)', valid: '(300,)'\n"
     ]
    }
   ],
   "source": [
    "train = np.load(\"Sheep_Market/train.npy\", encoding='latin1')\n",
    "test = np.load(\"Sheep_Market/test.npy\", encoding='latin1')\n",
    "valid = np.load(\"Sheep_Market/valid.npy\", encoding='latin1')\n",
    "\n",
    "print(\"train: '{}', test: '{}', valid: '{}'\".format(train.shape, test.shape, valid.shape))"
   ]
  },
  {
   "cell_type": "markdown",
   "metadata": {},
   "source": [
    "# Helper code\n",
    "\n",
    "General utilities used to do the assignment."
   ]
  },
  {
   "cell_type": "code",
   "execution_count": 85,
   "metadata": {},
   "outputs": [],
   "source": [
    "class SheepDataset(Dataset):\n",
    "    \"\"\" \n",
    "    Reference: \n",
    "        https://www.kaggle.com/leighplt/pytorch-starter-kit \n",
    "    \"\"\"\n",
    "    \n",
    "    def __init__(self, npyfpath, mode='train', transform=None, size=256):\n",
    "        self.dataset = np.load(npyfpath, encoding='latin1')\n",
    "        self.mode = mode\n",
    "        self.transform = transform\n",
    "        self.size = size\n",
    "        \n",
    "    @staticmethod\n",
    "    def _get_bounds(data, factor):\n",
    "        min_x = 0\n",
    "        max_x = 0\n",
    "        min_y = 0\n",
    "        max_y = 0\n",
    "\n",
    "        abs_x = 0\n",
    "        abs_y = 0\n",
    "        for i in range(len(data)):\n",
    "            x = float(data[i,0])/factor\n",
    "            y = float(data[i,1])/factor\n",
    "            abs_x += x\n",
    "            abs_y += y\n",
    "            min_x = min(min_x, abs_x)\n",
    "            min_y = min(min_y, abs_y)\n",
    "            max_x = max(max_x, abs_x)\n",
    "            max_y = max(max_y, abs_y)\n",
    "\n",
    "        return (min_x, max_x, min_y, max_y)\n",
    " \n",
    "    @staticmethod\n",
    "    def _draw(raw_strokes, size=256, lw=6, factor=0.8):\n",
    "        \"\"\" Draw the image then resize to a standard dim \n",
    "        \n",
    "        Return a 256 x 256 x 1 matrix\n",
    "        \"\"\"\n",
    "        \n",
    "        BASE_SIZE = 256\n",
    "        img = np.zeros((BASE_SIZE, BASE_SIZE), np.uint8)\n",
    "        \n",
    "        min_x, max_x, min_y, max_y = get_bounds(data, factor)\n",
    "        dims = (50 + max_x - min_x, 50 + max_y - min_y)\n",
    "        lift_pen = 1\n",
    "        abs_x = 25 - min_x \n",
    "        abs_y = 25 - min_y\n",
    "        command = \"m\"\n",
    "        \n",
    "        for i in range(raw_strokes.shape[0]):\n",
    "            if (lift_pen == 1):\n",
    "                command = \"m\"\n",
    "            elif (command != \"l\"):\n",
    "                command = \"l\"\n",
    "            else:\n",
    "                command = \"\"\n",
    "                \n",
    "            if command == \"l\":\n",
    "                x = float(raw_strokes[i,0])/factor\n",
    "                y = float(raw_strokes[i,1])/factor\n",
    "\n",
    "            lift_pen = raw_strokes[i, 2]\n",
    "                \n",
    "            \n",
    "            \n",
    "        \n",
    "        \n",
    "        \n",
    "        \n",
    "        \n",
    "        \n",
    "        for i in range(raw_strokes.shape[0]):\n",
    "            m = raw_strokes[i]\n",
    "            for j in range(m[0] - 1):\n",
    "                color = 255 - min(i, 10) * 13 if time_color else 255\n",
    "                _ = cv2.line(img, (m[j], m[j]),\n",
    "                             (m[0][j + 1], m[1][j + 1]), color, lw)\n",
    "        if size != BASE_SIZE:\n",
    "            return cv2.resize(img, (size, size))\n",
    "        else:\n",
    "            return img\n",
    "        \n",
    "    def __len__(self):\n",
    "        return int(self.dataset.shape[0])\n",
    "    \n",
    "    def __getitem__(self, idx):\n",
    "        raw_strokes = self.dataset[idx]\n",
    "        sample = self._draw(raw_strokes, size=self.size, lw=2, time_color=True)\n",
    "        if self.transform:\n",
    "            sample = self.transform(sample)\n",
    "        if self.mode == 'train':\n",
    "            return sample\n",
    "        else:\n",
    "            return sample\n",
    "    "
   ]
  },
  {
   "cell_type": "code",
   "execution_count": null,
   "metadata": {},
   "outputs": [],
   "source": []
  },
  {
   "cell_type": "markdown",
   "metadata": {},
   "source": [
    "# 2.1 Rendering\n",
    "\n",
    "Let's meet the sheep."
   ]
  },
  {
   "cell_type": "code",
   "execution_count": 96,
   "metadata": {},
   "outputs": [
    {
     "data": {
      "image/svg+xml": [
       "<svg baseProfile=\"full\" height=\"298.75\" version=\"1.1\" width=\"422.5\" xmlns=\"http://www.w3.org/2000/svg\" xmlns:ev=\"http://www.w3.org/2001/xml-events\" xmlns:xlink=\"http://www.w3.org/1999/xlink\"><defs/><rect fill=\"white\" height=\"298.75\" width=\"422.5\" x=\"0\" y=\"0\"/><path d=\"M172.5,66.25 m2.5,-5.0 l11.25,-11.25 20.0,-8.75 l12.5,0.0 17.5,8.75 l8.75,16.25 0.0,-3.75 l18.75,-11.25 8.75,-3.75 l11.25,-1.25 7.5,1.25 l7.5,6.25 7.5,15.0 l-1.25,-1.25 6.25,-6.25 l25.0,-5.0 17.5,5.0 l8.75,10.0 2.5,10.0 l-1.25,7.5 -7.5,6.25 l35.0,17.5 6.25,10.0 l-7.5,16.25 -7.5,6.25 l-30.0,-1.25 8.75,8.75 l6.25,11.25 -2.5,10.0 l-11.25,8.75 -10.0,2.5 l-7.5,-1.25 5.0,17.5 l-7.5,13.75 -21.25,6.25 l-45.0,-1.25 -5.0,-5.0 l-5.0,-11.25 -20.0,6.25 l-18.75,1.25 -41.25,-15.0 l-11.25,-8.75 -1.25,-3.75 l6.25,-7.5 3.75,-1.25 l-21.25,-25.0 -2.5,-8.75 l2.5,-10.0 3.75,-6.25 l-46.25,-31.25 -1.25,-3.75 l2.5,-7.5 11.25,-8.75 l6.25,-2.5 2.5,-11.25 l3.75,-3.75 12.5,-3.75 l17.5,0.0 10.0,6.25 l1.25,7.5 m-50.0,-6.25 l-20.0,-12.5 -13.75,-1.25 l-13.75,-5.0 -11.25,0.0 l-11.25,3.75 -6.25,0.0 l-22.5,11.25 -3.75,10.0 l1.25,16.25 17.5,21.25 l30.0,17.5 36.25,1.25 l26.25,-6.25 5.0,-7.5 m-56.25,-51.25 l-1.25,-3.75 16.25,-21.25 l2.5,-7.5 1.25,27.5 l3.75,11.25 m-60.0,-12.5 l-1.25,2.5 16.25,3.75 l5.0,0.0 0.0,-6.25 l-8.75,-6.25 -5.0,0.0 l-2.5,2.5 0.0,8.75 m-23.75,20.0 l17.5,10.0 22.5,0.0 l11.25,-7.5 1.25,-11.25 m97.5,116.25 l-8.75,0.0 -6.25,6.25 l2.5,8.75 15.0,12.5 l-18.75,0.0 -12.5,3.75 l-6.25,6.25 5.0,11.25 l12.5,15.0 13.75,8.75 l-10.0,0.0 -7.5,6.25 l1.25,6.25 20.0,0.0 l6.25,-5.0 0.0,-2.5 l5.0,-3.75 2.5,-5.0 l20.0,-13.75 -6.25,-12.5 l-13.75,-18.75 0.0,-11.25 m27.5,37.5 l-5.0,5.0 1.25,8.75 l6.25,5.0 8.75,0.0 l1.25,-10.0 2.5,-3.75 l3.75,0.0 0.0,-7.5 l-15.0,-26.25 m46.25,22.5 l-2.5,0.0 -12.5,10.0 l2.5,8.75 18.75,11.25 l7.5,2.5 -7.5,2.5 l0.0,6.25 2.5,3.75 l11.25,1.25 10.0,-3.75 l0.0,-3.75 11.25,-10.0 l-18.75,-18.75 -5.0,-11.25 m36.25,-10.0 l0.0,20.0 3.75,6.25 l-1.25,11.25 2.5,7.5 l16.25,3.75 22.5,-1.25 l0.0,-10.0 -5.0,-11.25 l-6.25,-5.0 -1.25,-11.25 l-3.75,-8.75 -21.25,-13.75 \" fill=\"none\" stroke=\"black\" stroke-width=\"1\"/></svg>"
      ],
      "text/plain": [
       "<IPython.core.display.SVG object>"
      ]
     },
     "metadata": {},
     "output_type": "display_data"
    }
   ],
   "source": [
    "draw_strokes(train[0])"
   ]
  },
  {
   "cell_type": "code",
   "execution_count": 79,
   "metadata": {},
   "outputs": [],
   "source": [
    "train_loader = DataLoader(SheepDataset(\"Sheep_Market/train.npy\"))\n"
   ]
  },
  {
   "cell_type": "code",
   "execution_count": 80,
   "metadata": {},
   "outputs": [],
   "source": [
    "# functions to show an image\n",
    "def imshow(img):\n",
    "    npimg = img.numpy()\n",
    "    plt.imshow(np.transpose(npimg, (1, 2, 0)))"
   ]
  },
  {
   "cell_type": "code",
   "execution_count": 81,
   "metadata": {},
   "outputs": [
    {
     "ename": "IndexError",
     "evalue": "invalid index to scalar variable.",
     "output_type": "error",
     "traceback": [
      "\u001b[0;31m---------------------------------------------------------------------------\u001b[0m",
      "\u001b[0;31mIndexError\u001b[0m                                Traceback (most recent call last)",
      "\u001b[0;32m<ipython-input-81-dc455c80026b>\u001b[0m in \u001b[0;36m<module>\u001b[0;34m\u001b[0m\n\u001b[1;32m      1\u001b[0m \u001b[0;31m# get some images\u001b[0m\u001b[0;34m\u001b[0m\u001b[0;34m\u001b[0m\u001b[0;34m\u001b[0m\u001b[0m\n\u001b[1;32m      2\u001b[0m \u001b[0mdataiter\u001b[0m \u001b[0;34m=\u001b[0m \u001b[0miter\u001b[0m\u001b[0;34m(\u001b[0m\u001b[0mtrain_loader\u001b[0m\u001b[0;34m)\u001b[0m\u001b[0;34m\u001b[0m\u001b[0;34m\u001b[0m\u001b[0m\n\u001b[0;32m----> 3\u001b[0;31m \u001b[0mimages\u001b[0m \u001b[0;34m=\u001b[0m \u001b[0mdataiter\u001b[0m\u001b[0;34m.\u001b[0m\u001b[0mnext\u001b[0m\u001b[0;34m(\u001b[0m\u001b[0;34m)\u001b[0m\u001b[0;34m\u001b[0m\u001b[0;34m\u001b[0m\u001b[0m\n\u001b[0m",
      "\u001b[0;32m~/miniconda3/envs/rose/lib/python3.6/site-packages/torch/utils/data/dataloader.py\u001b[0m in \u001b[0;36m__next__\u001b[0;34m(self)\u001b[0m\n\u001b[1;32m    613\u001b[0m         \u001b[0;32mif\u001b[0m \u001b[0mself\u001b[0m\u001b[0;34m.\u001b[0m\u001b[0mnum_workers\u001b[0m \u001b[0;34m==\u001b[0m \u001b[0;36m0\u001b[0m\u001b[0;34m:\u001b[0m  \u001b[0;31m# same-process loading\u001b[0m\u001b[0;34m\u001b[0m\u001b[0;34m\u001b[0m\u001b[0m\n\u001b[1;32m    614\u001b[0m             \u001b[0mindices\u001b[0m \u001b[0;34m=\u001b[0m \u001b[0mnext\u001b[0m\u001b[0;34m(\u001b[0m\u001b[0mself\u001b[0m\u001b[0;34m.\u001b[0m\u001b[0msample_iter\u001b[0m\u001b[0;34m)\u001b[0m  \u001b[0;31m# may raise StopIteration\u001b[0m\u001b[0;34m\u001b[0m\u001b[0;34m\u001b[0m\u001b[0m\n\u001b[0;32m--> 615\u001b[0;31m             \u001b[0mbatch\u001b[0m \u001b[0;34m=\u001b[0m \u001b[0mself\u001b[0m\u001b[0;34m.\u001b[0m\u001b[0mcollate_fn\u001b[0m\u001b[0;34m(\u001b[0m\u001b[0;34m[\u001b[0m\u001b[0mself\u001b[0m\u001b[0;34m.\u001b[0m\u001b[0mdataset\u001b[0m\u001b[0;34m[\u001b[0m\u001b[0mi\u001b[0m\u001b[0;34m]\u001b[0m \u001b[0;32mfor\u001b[0m \u001b[0mi\u001b[0m \u001b[0;32min\u001b[0m \u001b[0mindices\u001b[0m\u001b[0;34m]\u001b[0m\u001b[0;34m)\u001b[0m\u001b[0;34m\u001b[0m\u001b[0;34m\u001b[0m\u001b[0m\n\u001b[0m\u001b[1;32m    616\u001b[0m             \u001b[0;32mif\u001b[0m \u001b[0mself\u001b[0m\u001b[0;34m.\u001b[0m\u001b[0mpin_memory\u001b[0m\u001b[0;34m:\u001b[0m\u001b[0;34m\u001b[0m\u001b[0;34m\u001b[0m\u001b[0m\n\u001b[1;32m    617\u001b[0m                 \u001b[0mbatch\u001b[0m \u001b[0;34m=\u001b[0m \u001b[0mpin_memory_batch\u001b[0m\u001b[0;34m(\u001b[0m\u001b[0mbatch\u001b[0m\u001b[0;34m)\u001b[0m\u001b[0;34m\u001b[0m\u001b[0;34m\u001b[0m\u001b[0m\n",
      "\u001b[0;32m~/miniconda3/envs/rose/lib/python3.6/site-packages/torch/utils/data/dataloader.py\u001b[0m in \u001b[0;36m<listcomp>\u001b[0;34m(.0)\u001b[0m\n\u001b[1;32m    613\u001b[0m         \u001b[0;32mif\u001b[0m \u001b[0mself\u001b[0m\u001b[0;34m.\u001b[0m\u001b[0mnum_workers\u001b[0m \u001b[0;34m==\u001b[0m \u001b[0;36m0\u001b[0m\u001b[0;34m:\u001b[0m  \u001b[0;31m# same-process loading\u001b[0m\u001b[0;34m\u001b[0m\u001b[0;34m\u001b[0m\u001b[0m\n\u001b[1;32m    614\u001b[0m             \u001b[0mindices\u001b[0m \u001b[0;34m=\u001b[0m \u001b[0mnext\u001b[0m\u001b[0;34m(\u001b[0m\u001b[0mself\u001b[0m\u001b[0;34m.\u001b[0m\u001b[0msample_iter\u001b[0m\u001b[0;34m)\u001b[0m  \u001b[0;31m# may raise StopIteration\u001b[0m\u001b[0;34m\u001b[0m\u001b[0;34m\u001b[0m\u001b[0m\n\u001b[0;32m--> 615\u001b[0;31m             \u001b[0mbatch\u001b[0m \u001b[0;34m=\u001b[0m \u001b[0mself\u001b[0m\u001b[0;34m.\u001b[0m\u001b[0mcollate_fn\u001b[0m\u001b[0;34m(\u001b[0m\u001b[0;34m[\u001b[0m\u001b[0mself\u001b[0m\u001b[0;34m.\u001b[0m\u001b[0mdataset\u001b[0m\u001b[0;34m[\u001b[0m\u001b[0mi\u001b[0m\u001b[0;34m]\u001b[0m \u001b[0;32mfor\u001b[0m \u001b[0mi\u001b[0m \u001b[0;32min\u001b[0m \u001b[0mindices\u001b[0m\u001b[0;34m]\u001b[0m\u001b[0;34m)\u001b[0m\u001b[0;34m\u001b[0m\u001b[0;34m\u001b[0m\u001b[0m\n\u001b[0m\u001b[1;32m    616\u001b[0m             \u001b[0;32mif\u001b[0m \u001b[0mself\u001b[0m\u001b[0;34m.\u001b[0m\u001b[0mpin_memory\u001b[0m\u001b[0;34m:\u001b[0m\u001b[0;34m\u001b[0m\u001b[0;34m\u001b[0m\u001b[0m\n\u001b[1;32m    617\u001b[0m                 \u001b[0mbatch\u001b[0m \u001b[0;34m=\u001b[0m \u001b[0mpin_memory_batch\u001b[0m\u001b[0;34m(\u001b[0m\u001b[0mbatch\u001b[0m\u001b[0;34m)\u001b[0m\u001b[0;34m\u001b[0m\u001b[0;34m\u001b[0m\u001b[0m\n",
      "\u001b[0;32m<ipython-input-77-020e7f076628>\u001b[0m in \u001b[0;36m__getitem__\u001b[0;34m(self, idx)\u001b[0m\n\u001b[1;32m     31\u001b[0m     \u001b[0;32mdef\u001b[0m \u001b[0m__getitem__\u001b[0m\u001b[0;34m(\u001b[0m\u001b[0mself\u001b[0m\u001b[0;34m,\u001b[0m \u001b[0midx\u001b[0m\u001b[0;34m)\u001b[0m\u001b[0;34m:\u001b[0m\u001b[0;34m\u001b[0m\u001b[0;34m\u001b[0m\u001b[0m\n\u001b[1;32m     32\u001b[0m         \u001b[0mraw_strokes\u001b[0m \u001b[0;34m=\u001b[0m \u001b[0mself\u001b[0m\u001b[0;34m.\u001b[0m\u001b[0mdataset\u001b[0m\u001b[0;34m[\u001b[0m\u001b[0midx\u001b[0m\u001b[0;34m]\u001b[0m\u001b[0;34m\u001b[0m\u001b[0;34m\u001b[0m\u001b[0m\n\u001b[0;32m---> 33\u001b[0;31m         \u001b[0msample\u001b[0m \u001b[0;34m=\u001b[0m \u001b[0mself\u001b[0m\u001b[0;34m.\u001b[0m\u001b[0m_draw\u001b[0m\u001b[0;34m(\u001b[0m\u001b[0mraw_strokes\u001b[0m\u001b[0;34m,\u001b[0m \u001b[0msize\u001b[0m\u001b[0;34m=\u001b[0m\u001b[0mself\u001b[0m\u001b[0;34m.\u001b[0m\u001b[0msize\u001b[0m\u001b[0;34m,\u001b[0m \u001b[0mlw\u001b[0m\u001b[0;34m=\u001b[0m\u001b[0;36m2\u001b[0m\u001b[0;34m,\u001b[0m \u001b[0mtime_color\u001b[0m\u001b[0;34m=\u001b[0m\u001b[0;32mTrue\u001b[0m\u001b[0;34m)\u001b[0m\u001b[0;34m\u001b[0m\u001b[0;34m\u001b[0m\u001b[0m\n\u001b[0m\u001b[1;32m     34\u001b[0m         \u001b[0;32mif\u001b[0m \u001b[0mself\u001b[0m\u001b[0;34m.\u001b[0m\u001b[0mtransform\u001b[0m\u001b[0;34m:\u001b[0m\u001b[0;34m\u001b[0m\u001b[0;34m\u001b[0m\u001b[0m\n\u001b[1;32m     35\u001b[0m             \u001b[0msample\u001b[0m \u001b[0;34m=\u001b[0m \u001b[0mself\u001b[0m\u001b[0;34m.\u001b[0m\u001b[0mtransform\u001b[0m\u001b[0;34m(\u001b[0m\u001b[0msample\u001b[0m\u001b[0;34m)\u001b[0m\u001b[0;34m\u001b[0m\u001b[0;34m\u001b[0m\u001b[0m\n",
      "\u001b[0;32m<ipython-input-77-020e7f076628>\u001b[0m in \u001b[0;36m_draw\u001b[0;34m(raw_strokes, size, lw, time_color)\u001b[0m\n\u001b[1;32m     19\u001b[0m             \u001b[0;32mfor\u001b[0m \u001b[0mj\u001b[0m \u001b[0;32min\u001b[0m \u001b[0mrange\u001b[0m\u001b[0;34m(\u001b[0m\u001b[0mm\u001b[0m\u001b[0;34m[\u001b[0m\u001b[0;36m0\u001b[0m\u001b[0;34m]\u001b[0m \u001b[0;34m-\u001b[0m \u001b[0;36m1\u001b[0m\u001b[0;34m)\u001b[0m\u001b[0;34m:\u001b[0m\u001b[0;34m\u001b[0m\u001b[0;34m\u001b[0m\u001b[0m\n\u001b[1;32m     20\u001b[0m                 \u001b[0mcolor\u001b[0m \u001b[0;34m=\u001b[0m \u001b[0;36m255\u001b[0m \u001b[0;34m-\u001b[0m \u001b[0mmin\u001b[0m\u001b[0;34m(\u001b[0m\u001b[0mi\u001b[0m\u001b[0;34m,\u001b[0m \u001b[0;36m10\u001b[0m\u001b[0;34m)\u001b[0m \u001b[0;34m*\u001b[0m \u001b[0;36m13\u001b[0m \u001b[0;32mif\u001b[0m \u001b[0mtime_color\u001b[0m \u001b[0;32melse\u001b[0m \u001b[0;36m255\u001b[0m\u001b[0;34m\u001b[0m\u001b[0;34m\u001b[0m\u001b[0m\n\u001b[0;32m---> 21\u001b[0;31m                 _ = cv2.line(img, (m[0][j], m[1][j]),\n\u001b[0m\u001b[1;32m     22\u001b[0m                              (m[0][j + 1], m[1][j + 1]), color, lw)\n\u001b[1;32m     23\u001b[0m         \u001b[0;32mif\u001b[0m \u001b[0msize\u001b[0m \u001b[0;34m!=\u001b[0m \u001b[0mBASE_SIZE\u001b[0m\u001b[0;34m:\u001b[0m\u001b[0;34m\u001b[0m\u001b[0;34m\u001b[0m\u001b[0m\n",
      "\u001b[0;31mIndexError\u001b[0m: invalid index to scalar variable."
     ]
    }
   ],
   "source": [
    "# get some images\n",
    "dataiter = iter(train_loader)\n",
    "images = dataiter.next()"
   ]
  },
  {
   "cell_type": "code",
   "execution_count": 74,
   "metadata": {},
   "outputs": [
    {
     "ename": "NameError",
     "evalue": "name 'images' is not defined",
     "output_type": "error",
     "traceback": [
      "\u001b[0;31m---------------------------------------------------------------------------\u001b[0m",
      "\u001b[0;31mNameError\u001b[0m                                 Traceback (most recent call last)",
      "\u001b[0;32m<ipython-input-74-0991e704da9f>\u001b[0m in \u001b[0;36m<module>\u001b[0;34m\u001b[0m\n\u001b[1;32m      1\u001b[0m \u001b[0;31m# show images\u001b[0m\u001b[0;34m\u001b[0m\u001b[0;34m\u001b[0m\u001b[0;34m\u001b[0m\u001b[0m\n\u001b[1;32m      2\u001b[0m \u001b[0mplt\u001b[0m\u001b[0;34m.\u001b[0m\u001b[0mfigure\u001b[0m\u001b[0;34m(\u001b[0m\u001b[0mfigsize\u001b[0m\u001b[0;34m=\u001b[0m\u001b[0;34m(\u001b[0m\u001b[0;36m16\u001b[0m\u001b[0;34m,\u001b[0m\u001b[0;36m24\u001b[0m\u001b[0;34m)\u001b[0m\u001b[0;34m)\u001b[0m\u001b[0;34m\u001b[0m\u001b[0;34m\u001b[0m\u001b[0m\n\u001b[0;32m----> 3\u001b[0;31m \u001b[0mimshow\u001b[0m\u001b[0;34m(\u001b[0m\u001b[0mtorchvision\u001b[0m\u001b[0;34m.\u001b[0m\u001b[0mutils\u001b[0m\u001b[0;34m.\u001b[0m\u001b[0mmake_grid\u001b[0m\u001b[0;34m(\u001b[0m\u001b[0mimages\u001b[0m\u001b[0;34m)\u001b[0m\u001b[0;34m)\u001b[0m\u001b[0;34m\u001b[0m\u001b[0;34m\u001b[0m\u001b[0m\n\u001b[0m",
      "\u001b[0;31mNameError\u001b[0m: name 'images' is not defined"
     ]
    },
    {
     "data": {
      "text/plain": [
       "<Figure size 1152x1728 with 0 Axes>"
      ]
     },
     "metadata": {},
     "output_type": "display_data"
    }
   ],
   "source": [
    "# show images\n",
    "plt.figure(figsize=(16,24))\n",
    "imshow(torchvision.utils.make_grid(images))"
   ]
  },
  {
   "cell_type": "code",
   "execution_count": null,
   "metadata": {},
   "outputs": [],
   "source": []
  },
  {
   "cell_type": "code",
   "execution_count": null,
   "metadata": {},
   "outputs": [],
   "source": []
  },
  {
   "cell_type": "code",
   "execution_count": 14,
   "metadata": {},
   "outputs": [],
   "source": [
    "m = train[0]"
   ]
  },
  {
   "cell_type": "code",
   "execution_count": 95,
   "metadata": {},
   "outputs": [
    {
     "data": {
      "text/plain": [
       "array([[  2,  -4,   0],\n",
       "       [  9,  -9,   0],\n",
       "       [ 16,  -7,   0],\n",
       "       [ 10,   0,   0],\n",
       "       [ 14,   7,   0],\n",
       "       [  7,  13,   0],\n",
       "       [  0,  -3,   0],\n",
       "       [ 15,  -9,   0],\n",
       "       [  7,  -3,   0],\n",
       "       [  9,  -1,   0],\n",
       "       [  6,   1,   0],\n",
       "       [  6,   5,   0],\n",
       "       [  6,  12,   0],\n",
       "       [ -1,  -1,   0],\n",
       "       [  5,  -5,   0],\n",
       "       [ 20,  -4,   0],\n",
       "       [ 14,   4,   0],\n",
       "       [  7,   8,   0],\n",
       "       [  2,   8,   0],\n",
       "       [ -1,   6,   0],\n",
       "       [ -6,   5,   0],\n",
       "       [ 28,  14,   0],\n",
       "       [  5,   8,   0],\n",
       "       [ -6,  13,   0],\n",
       "       [ -6,   5,   0],\n",
       "       [-24,  -1,   0],\n",
       "       [  7,   7,   0],\n",
       "       [  5,   9,   0],\n",
       "       [ -2,   8,   0],\n",
       "       [ -9,   7,   0],\n",
       "       [ -8,   2,   0],\n",
       "       [ -6,  -1,   0],\n",
       "       [  4,  14,   0],\n",
       "       [ -6,  11,   0],\n",
       "       [-17,   5,   0],\n",
       "       [-36,  -1,   0],\n",
       "       [ -4,  -4,   0],\n",
       "       [ -4,  -9,   0],\n",
       "       [-16,   5,   0],\n",
       "       [-15,   1,   0],\n",
       "       [-33, -12,   0],\n",
       "       [ -9,  -7,   0],\n",
       "       [ -1,  -3,   0],\n",
       "       [  5,  -6,   0],\n",
       "       [  3,  -1,   0],\n",
       "       [-17, -20,   0],\n",
       "       [ -2,  -7,   0],\n",
       "       [  2,  -8,   0],\n",
       "       [  3,  -5,   0],\n",
       "       [-37, -25,   0],\n",
       "       [ -1,  -3,   0],\n",
       "       [  2,  -6,   0],\n",
       "       [  9,  -7,   0],\n",
       "       [  5,  -2,   0],\n",
       "       [  2,  -9,   0],\n",
       "       [  3,  -3,   0],\n",
       "       [ 10,  -3,   0],\n",
       "       [ 14,   0,   0],\n",
       "       [  8,   5,   0],\n",
       "       [  1,   6,   1],\n",
       "       [-40,  -5,   0],\n",
       "       [-16, -10,   0],\n",
       "       [-11,  -1,   0],\n",
       "       [-11,  -4,   0],\n",
       "       [ -9,   0,   0],\n",
       "       [ -9,   3,   0],\n",
       "       [ -5,   0,   0],\n",
       "       [-18,   9,   0],\n",
       "       [ -3,   8,   0],\n",
       "       [  1,  13,   0],\n",
       "       [ 14,  17,   0],\n",
       "       [ 24,  14,   0],\n",
       "       [ 29,   1,   0],\n",
       "       [ 21,  -5,   0],\n",
       "       [  4,  -6,   1],\n",
       "       [-45, -41,   0],\n",
       "       [ -1,  -3,   0],\n",
       "       [ 13, -17,   0],\n",
       "       [  2,  -6,   0],\n",
       "       [  1,  22,   0],\n",
       "       [  3,   9,   1],\n",
       "       [-48, -10,   0],\n",
       "       [ -1,   2,   0],\n",
       "       [ 13,   3,   0],\n",
       "       [  4,   0,   0],\n",
       "       [  0,  -5,   0],\n",
       "       [ -7,  -5,   0],\n",
       "       [ -4,   0,   0],\n",
       "       [ -2,   2,   0],\n",
       "       [  0,   7,   1],\n",
       "       [-19,  16,   0],\n",
       "       [ 14,   8,   0],\n",
       "       [ 18,   0,   0],\n",
       "       [  9,  -6,   0],\n",
       "       [  1,  -9,   1],\n",
       "       [ 78,  93,   0],\n",
       "       [ -7,   0,   0],\n",
       "       [ -5,   5,   0],\n",
       "       [  2,   7,   0],\n",
       "       [ 12,  10,   0],\n",
       "       [-15,   0,   0],\n",
       "       [-10,   3,   0],\n",
       "       [ -5,   5,   0],\n",
       "       [  4,   9,   0],\n",
       "       [ 10,  12,   0],\n",
       "       [ 11,   7,   0],\n",
       "       [ -8,   0,   0],\n",
       "       [ -6,   5,   0],\n",
       "       [  1,   5,   0],\n",
       "       [ 16,   0,   0],\n",
       "       [  5,  -4,   0],\n",
       "       [  0,  -2,   0],\n",
       "       [  4,  -3,   0],\n",
       "       [  2,  -4,   0],\n",
       "       [ 16, -11,   0],\n",
       "       [ -5, -10,   0],\n",
       "       [-11, -15,   0],\n",
       "       [  0,  -9,   1],\n",
       "       [ 22,  30,   0],\n",
       "       [ -4,   4,   0],\n",
       "       [  1,   7,   0],\n",
       "       [  5,   4,   0],\n",
       "       [  7,   0,   0],\n",
       "       [  1,  -8,   0],\n",
       "       [  2,  -3,   0],\n",
       "       [  3,   0,   0],\n",
       "       [  0,  -6,   0],\n",
       "       [-12, -21,   1],\n",
       "       [ 37,  18,   0],\n",
       "       [ -2,   0,   0],\n",
       "       [-10,   8,   0],\n",
       "       [  2,   7,   0],\n",
       "       [ 15,   9,   0],\n",
       "       [  6,   2,   0],\n",
       "       [ -6,   2,   0],\n",
       "       [  0,   5,   0],\n",
       "       [  2,   3,   0],\n",
       "       [  9,   1,   0],\n",
       "       [  8,  -3,   0],\n",
       "       [  0,  -3,   0],\n",
       "       [  9,  -8,   0],\n",
       "       [-15, -15,   0],\n",
       "       [ -4,  -9,   1],\n",
       "       [ 29,  -8,   0],\n",
       "       [  0,  16,   0],\n",
       "       [  3,   5,   0],\n",
       "       [ -1,   9,   0],\n",
       "       [  2,   6,   0],\n",
       "       [ 13,   3,   0],\n",
       "       [ 18,  -1,   0],\n",
       "       [  0,  -8,   0],\n",
       "       [ -4,  -9,   0],\n",
       "       [ -5,  -4,   0],\n",
       "       [ -1,  -9,   0],\n",
       "       [ -3,  -7,   0],\n",
       "       [-17, -11,   1]], dtype=int16)"
      ]
     },
     "execution_count": 95,
     "metadata": {},
     "output_type": "execute_result"
    }
   ],
   "source": [
    "m"
   ]
  },
  {
   "cell_type": "code",
   "execution_count": null,
   "metadata": {},
   "outputs": [],
   "source": []
  },
  {
   "cell_type": "code",
   "execution_count": null,
   "metadata": {},
   "outputs": [],
   "source": []
  }
 ],
 "metadata": {
  "kernelspec": {
   "display_name": "Python 3",
   "language": "python",
   "name": "python3"
  },
  "language_info": {
   "codemirror_mode": {
    "name": "ipython",
    "version": 3
   },
   "file_extension": ".py",
   "mimetype": "text/x-python",
   "name": "python",
   "nbconvert_exporter": "python",
   "pygments_lexer": "ipython3",
   "version": "3.6.8"
  }
 },
 "nbformat": 4,
 "nbformat_minor": 2
}
