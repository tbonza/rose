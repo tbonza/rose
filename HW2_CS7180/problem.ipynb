{
 "cells": [
  {
   "cell_type": "markdown",
   "metadata": {},
   "source": [
    "# Assignment 2"
   ]
  },
  {
   "cell_type": "markdown",
   "metadata": {},
   "source": [
    "Use this notebook to write your code for assignment 2"
   ]
  },
  {
   "cell_type": "markdown",
   "metadata": {},
   "source": [
    "# Dependencies"
   ]
  },
  {
   "cell_type": "code",
   "execution_count": 6,
   "metadata": {},
   "outputs": [],
   "source": [
    "import re"
   ]
  },
  {
   "cell_type": "markdown",
   "metadata": {},
   "source": [
    "# Pre-processing data\n",
    "\n",
    "Read the data file of `shakespeare.txt` and prepare the inputs/outputs to your model."
   ]
  },
  {
   "cell_type": "code",
   "execution_count": 12,
   "metadata": {},
   "outputs": [],
   "source": [
    "def sonnets(data):\n",
    "    p = \"\\d{1,3}\"\n",
    "    return re.split(p, data, flags=re.DOTALL)[1:]"
   ]
  },
  {
   "cell_type": "code",
   "execution_count": 17,
   "metadata": {},
   "outputs": [],
   "source": [
    "with open(\"data/shakespeare.txt\", \"r\") as infile:\n",
    "    data = infile.read()\n",
    "    \n",
    "sonnet_data = sonnets(data)"
   ]
  },
  {
   "cell_type": "code",
   "execution_count": 14,
   "metadata": {},
   "outputs": [],
   "source": []
  },
  {
   "cell_type": "code",
   "execution_count": 15,
   "metadata": {},
   "outputs": [
    {
     "data": {
      "text/plain": [
       "154"
      ]
     },
     "execution_count": 15,
     "metadata": {},
     "output_type": "execute_result"
    }
   ],
   "source": [
    "len(ok)"
   ]
  },
  {
   "cell_type": "code",
   "execution_count": 16,
   "metadata": {},
   "outputs": [
    {
     "data": {
      "text/plain": [
       "[\"\\nFrom fairest creatures we desire increase,\\nThat thereby beauty's rose might never die,\\nBut as the riper should by time decease,\\nHis tender heir might bear his memory:\\nBut thou contracted to thine own bright eyes,\\nFeed'st thy light's flame with self-substantial fuel,\\nMaking a famine where abundance lies,\\nThy self thy foe, to thy sweet self too cruel:\\nThou that art now the world's fresh ornament,\\nAnd only herald to the gaudy spring,\\nWithin thine own bud buriest thy content,\\nAnd tender churl mak'st waste in niggarding:\\n  Pity the world, or else this glutton be,\\n  To eat the world's due, by the grave and thee.\\n\\n\\n                   \",\n",
       " \"\\nWhen forty winters shall besiege thy brow,\\nAnd dig deep trenches in thy beauty's field,\\nThy youth's proud livery so gazed on now,\\nWill be a tattered weed of small worth held:\\nThen being asked, where all thy beauty lies,\\nWhere all the treasure of thy lusty days;\\nTo say within thine own deep sunken eyes,\\nWere an all-eating shame, and thriftless praise.\\nHow much more praise deserved thy beauty's use,\\nIf thou couldst answer 'This fair child of mine\\nShall sum my count, and make my old excuse'\\nProving his beauty by succession thine.\\n  This were to be new made when thou art old,\\n  And see thy blood warm when thou feel'st it cold.\\n\\n\\n                   \",\n",
       " \"\\nLook in thy glass and tell the face thou viewest,\\nNow is the time that face should form another,\\nWhose fresh repair if now thou not renewest,\\nThou dost beguile the world, unbless some mother.\\nFor where is she so fair whose uneared womb\\nDisdains the tillage of thy husbandry?\\nOr who is he so fond will be the tomb,\\nOf his self-love to stop posterity?\\nThou art thy mother's glass and she in thee\\nCalls back the lovely April of her prime,\\nSo thou through windows of thine age shalt see,\\nDespite of wrinkles this thy golden time.\\n  But if thou live remembered not to be,\\n  Die single and thine image dies with thee.\\n\\n\\n                   \",\n",
       " \"\\nUnthrifty loveliness why dost thou spend,\\nUpon thy self thy beauty's legacy?\\nNature's bequest gives nothing but doth lend,\\nAnd being frank she lends to those are free:\\nThen beauteous niggard why dost thou abuse,\\nThe bounteous largess given thee to give?\\nProfitless usurer why dost thou use\\nSo great a sum of sums yet canst not live?\\nFor having traffic with thy self alone,\\nThou of thy self thy sweet self dost deceive,\\nThen how when nature calls thee to be gone,\\nWhat acceptable audit canst thou leave?\\n  Thy unused beauty must be tombed with thee,\\n  Which used lives th' executor to be.\\n\\n\\n                   \",\n",
       " \"\\nThose hours that with gentle work did frame\\nThe lovely gaze where every eye doth dwell\\nWill play the tyrants to the very same,\\nAnd that unfair which fairly doth excel:\\nFor never-resting time leads summer on\\nTo hideous winter and confounds him there,\\nSap checked with frost and lusty leaves quite gone,\\nBeauty o'er-snowed and bareness every where:\\nThen were not summer's distillation left\\nA liquid prisoner pent in walls of glass,\\nBeauty's effect with beauty were bereft,\\nNor it nor no remembrance what it was.\\n  But flowers distilled though they with winter meet,\\n  Leese but their show, their substance still lives sweet.\\n\\n\\n                   \"]"
      ]
     },
     "execution_count": 16,
     "metadata": {},
     "output_type": "execute_result"
    }
   ],
   "source": [
    "ok[:5]"
   ]
  },
  {
   "cell_type": "code",
   "execution_count": null,
   "metadata": {},
   "outputs": [],
   "source": []
  },
  {
   "cell_type": "markdown",
   "metadata": {},
   "source": [
    "# Build the Model\n",
    "\n",
    "Implement a character-based LSTM model "
   ]
  },
  {
   "cell_type": "code",
   "execution_count": null,
   "metadata": {
    "collapsed": true
   },
   "outputs": [],
   "source": [
    "###"
   ]
  },
  {
   "cell_type": "markdown",
   "metadata": {},
   "source": [
    "# Training"
   ]
  },
  {
   "cell_type": "markdown",
   "metadata": {},
   "source": [
    "The main training routine"
   ]
  },
  {
   "cell_type": "code",
   "execution_count": null,
   "metadata": {
    "collapsed": true
   },
   "outputs": [],
   "source": [
    "###"
   ]
  },
  {
   "cell_type": "markdown",
   "metadata": {},
   "source": [
    "# Plotting the Training Losses\n",
    "\n",
    "Plotting the historical loss during training:"
   ]
  },
  {
   "cell_type": "code",
   "execution_count": null,
   "metadata": {},
   "outputs": [],
   "source": [
    "###"
   ]
  },
  {
   "cell_type": "markdown",
   "metadata": {},
   "source": [
    "# Evaluating at different \"temperatures\"\n",
    "\n",
    "Changing the `temperature` argument (variance) for 1.5, 0.75. 0.25 and sample outputs from the trained model."
   ]
  },
  {
   "cell_type": "code",
   "execution_count": null,
   "metadata": {},
   "outputs": [],
   "source": [
    "###"
   ]
  }
 ],
 "metadata": {
  "anaconda-cloud": {},
  "kernelspec": {
   "display_name": "Python 3",
   "language": "python",
   "name": "python3"
  },
  "language_info": {
   "codemirror_mode": {
    "name": "ipython",
    "version": 3
   },
   "file_extension": ".py",
   "mimetype": "text/x-python",
   "name": "python",
   "nbconvert_exporter": "python",
   "pygments_lexer": "ipython3",
   "version": "3.6.8"
  }
 },
 "nbformat": 4,
 "nbformat_minor": 1
}
