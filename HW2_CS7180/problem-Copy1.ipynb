{
 "cells": [
  {
   "cell_type": "markdown",
   "metadata": {},
   "source": [
    "# Assignment 2"
   ]
  },
  {
   "cell_type": "markdown",
   "metadata": {},
   "source": [
    "Use this notebook to write your code for assignment 2"
   ]
  },
  {
   "cell_type": "markdown",
   "metadata": {},
   "source": [
    "# Pre-processing data\n",
    "\n",
    "Read the data file of `shakespeare.txt` and prepare the inputs/outputs to your model."
   ]
  },
  {
   "cell_type": "code",
   "execution_count": 1,
   "metadata": {},
   "outputs": [],
   "source": [
    "import unidecode\n",
    "import string\n",
    "import random\n",
    "import re\n",
    "import torch\n",
    "import torch.nn as nn\n",
    "from torch.autograd import Variable\n",
    "import time, math"
   ]
  },
  {
   "cell_type": "code",
   "execution_count": 2,
   "metadata": {},
   "outputs": [],
   "source": [
    "all_characters = string.printable # list of all possible characters (from string)\n",
    "num_characters = len(all_characters) # number of possible characters\n",
    "\n",
    "text = unidecode.unidecode(open('./data/shakespeare.txt').read())\n",
    "\n",
    "text_len = len(text) \n",
    "\n",
    "sequence_len = 40\n",
    "\n",
    "def generate_sequence():\n",
    "    start_index = random.randint(0, text_len - sequence_len)\n",
    "    end_index = start_index + sequence_len + 1\n",
    "    return text[start_index:end_index]\n"
   ]
  },
  {
   "cell_type": "markdown",
   "metadata": {},
   "source": [
    "# Build the Model\n",
    "\n",
    "Implement a character-based LSTM model "
   ]
  },
  {
   "cell_type": "code",
   "execution_count": 3,
   "metadata": {},
   "outputs": [],
   "source": [
    "class CharNN(nn.Module):\n",
    "    def __init__(self, input_size, hidden_size, output_size, num_layers=1):\n",
    "        super(CharNN, self).__init__()\n",
    "        self.input_size = input_size\n",
    "        self.hidden_size = hidden_size\n",
    "        self.output_size = output_size\n",
    "        self.num_layers = num_layers\n",
    "        \n",
    "        self.encoder = nn.Embedding(input_size, hidden_size)\n",
    "        \n",
    "        self.lstm = nn.LSTM(hidden_size, hidden_size, num_layers)\n",
    "        \n",
    "        self.decoder = nn.Linear(hidden_size, output_size)\n",
    "    \n",
    "    def forward(self, input, hidden):\n",
    "        input = self.encoder(input.view(1, -1))\n",
    "        output, hidden = self.lstm(input.view(1, 1, -1), hidden)\n",
    "        output = self.decoder(output.view(1, -1))\n",
    "        return output, hidden\n",
    "\n",
    "    def init_hidden(self): \n",
    "        return (torch.zeros(1, 1, self.hidden_size),\n",
    "                torch.zeros(1, 1, self.hidden_size))"
   ]
  },
  {
   "cell_type": "code",
   "execution_count": 4,
   "metadata": {},
   "outputs": [],
   "source": [
    "def char_tensor(string):\n",
    "    tensor = torch.zeros(len(string)).long()\n",
    "    for c in range(len(string)):\n",
    "        tensor[c] = all_characters.index(string[c])\n",
    "    return Variable(tensor)\n"
   ]
  },
  {
   "cell_type": "markdown",
   "metadata": {},
   "source": [
    "# Training"
   ]
  },
  {
   "cell_type": "markdown",
   "metadata": {},
   "source": [
    "The main training routine"
   ]
  },
  {
   "cell_type": "code",
   "execution_count": 5,
   "metadata": {},
   "outputs": [],
   "source": [
    "def generate_training_set():    \n",
    "    \n",
    "    sequence = generate_sequence()\n",
    "    inp = char_tensor(sequence[:-1])\n",
    "    target = char_tensor(sequence[1:])\n",
    "    \n",
    "    return inp, target"
   ]
  },
  {
   "cell_type": "code",
   "execution_count": 6,
   "metadata": {},
   "outputs": [],
   "source": [
    "\n",
    "def evaluate_CharNN(character_seed='A', predict_len=100, temperature=0.8):\n",
    "    \n",
    "    hidden = decoder.init_hidden()\n",
    "    seed_input = char_tensor(character_seed)\n",
    "    predicted_string = character_seed\n",
    "\n",
    "    for p in range(len(character_seed) - 1):\n",
    "        _, hidden = decoder(seed_input[p], hidden)\n",
    "    inp = seed_input[-1]\n",
    "    \n",
    "    for p in range(predict_len):\n",
    "        output, hidden = decoder(inp, hidden)\n",
    "        output_distribution = output.data.view(-1).div(temperature).exp()\n",
    "        top_character = torch.multinomial(output_distribution, 1)[0]\n",
    "        predicted_char = all_characters[top_character]\n",
    "        predicted_string += predicted_char \n",
    "        inp = char_tensor(predicted_char) \n",
    "        \n",
    "    return predicted_string"
   ]
  },
  {
   "cell_type": "code",
   "execution_count": 7,
   "metadata": {},
   "outputs": [],
   "source": [
    "\n",
    "def train(inp, target):\n",
    "    hidden = decoder.init_hidden()\n",
    "    decoder.zero_grad()\n",
    "\n",
    "    loss = 0\n",
    "\n",
    "    for c in range(sequence_len):\n",
    "        output, hidden = decoder(inp[c], hidden)\n",
    "        loss += criterion(output, torch.LongTensor([target[c]]))\n",
    "\n",
    "    loss.backward()\n",
    "    decoder_optimizer.step()\n",
    "\n",
    "    return loss.data.item() / sequence_len"
   ]
  },
  {
   "cell_type": "code",
   "execution_count": 8,
   "metadata": {},
   "outputs": [],
   "source": [
    "def runtime(instant):\n",
    "    seconds = time.time() - instant\n",
    "    minutes= math.floor(seconds / 60)\n",
    "    seconds -= minutes * 60\n",
    "    return '%dm %ds' % (minutes, seconds)"
   ]
  },
  {
   "cell_type": "code",
   "execution_count": 9,
   "metadata": {},
   "outputs": [
    {
     "name": "stdout",
     "output_type": "stream",
     "text": [
      "[Runtime: 0m 18s, Epoch: 500 (16%), Loss: 1.9268]\n",
      "Whell evee,\n",
      "Theeks nom then gising there,\n",
      "And beshent lfi lover feers then evesteed,\n",
      "And bour do wheed \n",
      "\n",
      "[Runtime: 0m 37s, Epoch: 1000 (33%), Loss: 1.6013]\n",
      "When that on to not this are mor the mugh bow,\n",
      "\n",
      "\n",
      "                                              133\n",
      "Whi \n",
      "\n",
      "[Runtime: 0m 55s, Epoch: 1500 (50%), Loss: 2.0303]\n",
      "Whou bas spene forl.\n",
      "                                                                                  \n",
      "\n",
      "[Runtime: 1m 13s, Epoch: 2000 (66%), Loss: 1.7257]\n",
      "Whin allif thy glalp thou freated love healave the bace of ull\n",
      "Pith,\n",
      "  I hoy wenter abused,\n",
      "I day,\n",
      "Lie \n",
      "\n",
      "[Runtime: 1m 36s, Epoch: 2500 (83%), Loss: 1.9328]\n",
      "Where faantewer out lies for fom The form Ive for more from face is fair out on.\n",
      "I fair that stime ind \n",
      "\n",
      "[Runtime: 1m 55s, Epoch: 3000 (100%), Loss: 1.8210]\n",
      "Whis:\n",
      "That as my swire all that dolour, or's grasted the the blessle outst his but hast oppressing it  \n",
      "\n"
     ]
    }
   ],
   "source": [
    "num_epochs = 3000\n",
    "print_every = 500 \n",
    "plot_every = 10 \n",
    "hidden_size = 200\n",
    "num_layers = 1\n",
    "learning_rate = 0.005\n",
    "\n",
    "decoder = CharNN(num_characters, hidden_size, num_characters, num_layers)\n",
    "decoder_optimizer = torch.optim.Adam(decoder.parameters(), lr=learning_rate)\n",
    "criterion = nn.CrossEntropyLoss()\n",
    "\n",
    "start = time.time()\n",
    "all_losses = [] \n",
    "loss_avg = 0\n",
    "\n",
    "for epoch in range(1, num_epochs + 1):\n",
    "    loss = train(*generate_training_set())       \n",
    "    loss_avg += loss\n",
    "\n",
    "    if epoch % print_every == 0:\n",
    "        print('[Runtime: %s, Epoch: %d (%d%%), Loss: %.4f]' % (runtime(start), epoch, epoch / num_epochs * 100, loss))\n",
    "        print(evaluate_CharNN('Wh', 100), '\\n')\n",
    "\n",
    "    if epoch % plot_every == 0:\n",
    "        all_losses.append(loss_avg / plot_every) \n",
    "        loss_avg = 0"
   ]
  },
  {
   "cell_type": "markdown",
   "metadata": {},
   "source": [
    "# Plotting the Training Losses\n",
    "\n",
    "Plotting the historical loss during training:"
   ]
  },
  {
   "cell_type": "code",
   "execution_count": 10,
   "metadata": {
    "scrolled": true
   },
   "outputs": [
    {
     "data": {
      "text/plain": [
       "Text(0, 0.5, 'Loss')"
      ]
     },
     "execution_count": 10,
     "metadata": {},
     "output_type": "execute_result"
    },
    {
     "data": {
      "image/png": "[encoded data removed]",
      "text/plain": [
       "<Figure size 432x288 with 1 Axes>"
      ]
     },
     "metadata": {
      "needs_background": "light"
     },
     "output_type": "display_data"
    }
   ],
   "source": [
    "import matplotlib.pyplot as plt\n",
    "import matplotlib.ticker as ticker\n",
    "%matplotlib inline\n",
    "\n",
    "# Plot Loss function using \"all_losses\"\n",
    "plt.figure()\n",
    "plt.plot(all_losses)\n",
    "plt.xlabel('Epoch')\n",
    "plt.ylabel('Loss')\n"
   ]
  },
  {
   "cell_type": "markdown",
   "metadata": {},
   "source": [
    "# Evaluating at different \"temperatures\"\n",
    "\n",
    "Changing the `temperature` argument (variance) for 1.5, 0.75. 0.25 and sample outputs from the trained model."
   ]
  },
  {
   "cell_type": "code",
   "execution_count": 11,
   "metadata": {},
   "outputs": [
    {
     "name": "stdout",
     "output_type": "stream",
     "text": [
      "Shall I compare thee to a summers day?\n",
      "Thy o rmustertlil, an thu lives torlon she?\n",
      "Of yoonithes-mscce.\n",
      "HfoIly 31W; whingned, outlow?\n",
      "If timume,\n",
      "The me youe, whicht\n",
      "Ming botneed whyin evels.\n",
      "Fobruoute in bemont feaunjtl sped, and not  H-t to it yame,\n",
      "Trnourightluit (epelloesuss now, andckly conothy shros pargakic 9ly umet,\n",
      "Inl, oremorney,\n"
     ]
    }
   ],
   "source": [
    "print(evaluate_CharNN('Shall I compare thee to a summer''s day?\\n', 300, temperature=1.5))"
   ]
  },
  {
   "cell_type": "code",
   "execution_count": 12,
   "metadata": {
    "scrolled": true
   },
   "outputs": [
    {
     "name": "stdout",
     "output_type": "stream",
     "text": [
      "Shall I compare thee to a summers day?\n",
      "And to in and this prow, kights which better sessed make it shfire nothered, wen prons gished a shall desire be me our thee but will gives that that shand thy some part will doth thoughts I that on the laissed thy not stall hath things in the on thee that soon.\n",
      "\n",
      "\n",
      "                                 3\n",
      "O\n"
     ]
    }
   ],
   "source": [
    "print(evaluate_CharNN('Shall I compare thee to a summer''s day?\\n', 300, temperature=0.75))"
   ]
  },
  {
   "cell_type": "code",
   "execution_count": 13,
   "metadata": {},
   "outputs": [
    {
     "name": "stdout",
     "output_type": "stream",
     "text": [
      "Shall I compare thee to a summers day?\n",
      "That the beauty the recay\n",
      "That the beauty so that the be the love the in the despise that the be more the in thee that thee this that thee that that that this the be that that in thee that shall me that that that the when thee, and the be that the live that the beauty shall thee that the recons the \n"
     ]
    }
   ],
   "source": [
    "print(evaluate_CharNN('Shall I compare thee to a summer''s day?\\n', 300, temperature=0.25))"
   ]
  }
 ],
 "metadata": {
  "anaconda-cloud": {},
  "kernelspec": {
   "display_name": "Python 3",
   "language": "python",
   "name": "python3"
  },
  "language_info": {
   "codemirror_mode": {
    "name": "ipython",
    "version": 3
   },
   "file_extension": ".py",
   "mimetype": "text/x-python",
   "name": "python",
   "nbconvert_exporter": "python",
   "pygments_lexer": "ipython3",
   "version": "3.6.8"
  }
 },
 "nbformat": 4,
 "nbformat_minor": 1
}
