{
 "cells": [
  {
   "cell_type": "markdown",
   "metadata": {},
   "source": [
    "# Assignment 2"
   ]
  },
  {
   "cell_type": "markdown",
   "metadata": {},
   "source": [
    "Use this notebook to write your code for assignment 2"
   ]
  },
  {
   "cell_type": "markdown",
   "metadata": {},
   "source": [
    "# Pre-processing data\n",
    "\n",
    "Read the data file of `shakespeare.txt` and prepare the inputs/outputs to your model."
   ]
  },
  {
   "cell_type": "code",
   "execution_count": 1,
   "metadata": {},
   "outputs": [],
   "source": [
    "from collections import defaultdict\n",
    "import math\n",
    "import string\n",
    "import random\n",
    "import re\n",
    "import time\n",
    "\n",
    "\n",
    "import torch\n",
    "import torch.nn as nn\n",
    "from torch.autograd import Variable\n",
    "\n",
    "import unidecode\n",
    "import matplotlib.pyplot as plt\n",
    "import matplotlib.ticker as ticker\n",
    "import numpy as np\n",
    "\n",
    "%matplotlib inline"
   ]
  },
  {
   "cell_type": "code",
   "execution_count": 2,
   "metadata": {},
   "outputs": [],
   "source": [
    "all_characters = string.printable # list of all possible characters (from string)\n",
    "num_characters = len(all_characters) # number of possible characters\n",
    "\n",
    "text = unidecode.unidecode(open('./data/shakespeare.txt').read())\n",
    "text = re.sub(\"\\d|\\n{2,}|\\s{2,}\",\"\", text)\n",
    "\n",
    "text_len = len(text) \n",
    "\n",
    "sequence_len = 40\n",
    "\n",
    "def generate_sequence():\n",
    "    start_index = random.randint(0, text_len - sequence_len)\n",
    "    end_index = start_index + sequence_len + 1\n",
    "    return text[start_index:end_index]\n"
   ]
  },
  {
   "cell_type": "markdown",
   "metadata": {},
   "source": [
    "# Build the Model\n",
    "\n",
    "Implement a character-based LSTM model "
   ]
  },
  {
   "cell_type": "code",
   "execution_count": 3,
   "metadata": {},
   "outputs": [],
   "source": [
    "class SimplePoet(nn.Module):\n",
    "    def __init__(self, input_size, hidden_size, output_size, num_layers=1):\n",
    "        super(SimplePoet, self).__init__()\n",
    "        self.input_size = input_size\n",
    "        self.hidden_size = hidden_size\n",
    "        self.output_size = output_size\n",
    "        self.num_layers = num_layers\n",
    "        \n",
    "        self.encoder = nn.Embedding(input_size, hidden_size)\n",
    "        \n",
    "        self.lstm = nn.LSTM(hidden_size, hidden_size, num_layers)\n",
    "        \n",
    "        self.decoder = nn.Linear(hidden_size, output_size)\n",
    "    \n",
    "    def forward(self, input, hidden):\n",
    "        input = self.encoder(input.view(1, -1))\n",
    "        output, hidden = self.lstm(input.view(1, 1, -1), hidden)\n",
    "        output = self.decoder(output.view(1, -1))\n",
    "        return output, hidden\n",
    "\n",
    "    def init_hidden(self): \n",
    "        return (torch.zeros(1, 1, self.hidden_size),\n",
    "                torch.zeros(1, 1, self.hidden_size))"
   ]
  },
  {
   "cell_type": "code",
   "execution_count": 4,
   "metadata": {},
   "outputs": [],
   "source": [
    "def char_tensor(string):\n",
    "    tensor = torch.zeros(len(string)).long()\n",
    "    for c in range(len(string)):\n",
    "        tensor[c] = all_characters.index(string[c])\n",
    "    return Variable(tensor)\n"
   ]
  },
  {
   "cell_type": "markdown",
   "metadata": {},
   "source": [
    "# Training"
   ]
  },
  {
   "cell_type": "markdown",
   "metadata": {},
   "source": [
    "The main training routine"
   ]
  },
  {
   "cell_type": "code",
   "execution_count": 5,
   "metadata": {},
   "outputs": [],
   "source": [
    "def generate_training_set():    \n",
    "    sequence = generate_sequence()\n",
    "    inp = char_tensor(sequence[:-1])\n",
    "    target = char_tensor(sequence[1:])\n",
    "    return inp, target"
   ]
  },
  {
   "cell_type": "code",
   "execution_count": 6,
   "metadata": {},
   "outputs": [],
   "source": [
    "\n",
    "def evaluate_SimplePoet(character_seed='A', predict_len=100, temperature=0.8):\n",
    "    \n",
    "    hidden = decoder.init_hidden()\n",
    "    seed_input = char_tensor(character_seed)\n",
    "    predicted_string = character_seed\n",
    "\n",
    "    for p in range(len(character_seed) - 1):\n",
    "        _, hidden = decoder(seed_input[p], hidden)\n",
    "    inp = seed_input[-1]\n",
    "    \n",
    "    for p in range(predict_len):\n",
    "        output, hidden = decoder(inp, hidden)\n",
    "        output_distribution = output.data.view(-1).div(temperature).exp()\n",
    "        top_character = torch.multinomial(output_distribution, 1)[0]\n",
    "        predicted_char = all_characters[top_character]\n",
    "        predicted_string += predicted_char \n",
    "        inp = char_tensor(predicted_char) \n",
    "        \n",
    "    return predicted_string"
   ]
  },
  {
   "cell_type": "code",
   "execution_count": 7,
   "metadata": {},
   "outputs": [],
   "source": [
    "\n",
    "def train(inp, target):\n",
    "    hidden = decoder.init_hidden()\n",
    "    decoder.zero_grad()\n",
    "\n",
    "    loss = 0\n",
    "\n",
    "    for c in range(sequence_len):\n",
    "        output, hidden = decoder(inp[c], hidden)\n",
    "        loss += criterion(output, torch.LongTensor([target[c]]))\n",
    "\n",
    "    loss.backward()\n",
    "    decoder_optimizer.step()\n",
    "\n",
    "    return loss.data.item() / sequence_len"
   ]
  },
  {
   "cell_type": "code",
   "execution_count": 8,
   "metadata": {},
   "outputs": [],
   "source": [
    "def runtime(instant):\n",
    "    seconds = time.time() - instant\n",
    "    minutes= math.floor(seconds / 60)\n",
    "    seconds -= minutes * 60\n",
    "    return '%dm %ds' % (minutes, seconds)"
   ]
  },
  {
   "cell_type": "code",
   "execution_count": 9,
   "metadata": {},
   "outputs": [
    {
     "name": "stdout",
     "output_type": "stream",
     "text": [
      "[Runtime: 0m 19s, Epoch: 500 (16%), Loss: 2.3203]\n",
      "As you deake wot thin\n",
      "Who im so womb\n",
      "Make eforn thou whought ho, ming and thou mings ofn eter he, thou \n",
      "\n",
      "[Runtime: 0m 39s, Epoch: 1000 (33%), Loss: 2.1171]\n",
      "As worth s that pat'st's of thou all to that the seect me.\n",
      "he all trueched of for dot afllom the ae we \n",
      "\n",
      "[Runtime: 0m 58s, Epoch: 1500 (50%), Loss: 1.8395]\n",
      "As ming,\n",
      "Which ath scare,\n",
      "When blatu the worlds wain mine what pose of wome tree sweet or rave mandit  \n",
      "\n",
      "[Runtime: 1m 18s, Epoch: 2000 (66%), Loss: 1.8565]\n",
      "Astander me so whereful beress hered for braruth on fintear line make mand fain's thy ringrith be of t \n",
      "\n",
      "[Runtime: 1m 38s, Epoch: 2500 (83%), Loss: 1.4288]\n",
      "As shide,\n",
      "To love with and of be of love days not mese of me les lone dew the all every like ip they m \n",
      "\n",
      "[Runtime: 1m 57s, Epoch: 3000 (100%), Loss: 1.8349]\n",
      "As my self to some live,\n",
      "Such poor for plise the ghand of noty to foul fors.\n",
      "To mory know'st one some  \n",
      "\n"
     ]
    }
   ],
   "source": [
    "num_epochs = 3000\n",
    "print_every = 500 \n",
    "plot_every = 10 \n",
    "hidden_size = 200\n",
    "num_layers = 1\n",
    "learning_rate = 0.005\n",
    "\n",
    "decoder = SimplePoet(num_characters, hidden_size, num_characters, num_layers)\n",
    "decoder_optimizer = torch.optim.Adam(decoder.parameters(), lr=learning_rate)\n",
    "criterion = nn.CrossEntropyLoss()\n",
    "\n",
    "start = time.time()\n",
    "all_losses = [] \n",
    "loss_avg = 0\n",
    "\n",
    "for epoch in range(1, num_epochs + 1):\n",
    "    loss = train(*generate_training_set())       \n",
    "    loss_avg += loss\n",
    "\n",
    "    if epoch % print_every == 0:\n",
    "        print('[Runtime: %s, Epoch: %d (%d%%), Loss: %.4f]' % (runtime(start), epoch, epoch / num_epochs * 100, loss))\n",
    "        print(evaluate_SimplePoet('As', 100), '\\n')\n",
    "\n",
    "    if epoch % plot_every == 0:\n",
    "        all_losses.append(loss_avg / plot_every) \n",
    "        loss_avg = 0"
   ]
  },
  {
   "cell_type": "markdown",
   "metadata": {},
   "source": [
    "# Plotting the Training Losses\n",
    "\n",
    "Plotting the historical loss during training:"
   ]
  },
  {
   "cell_type": "code",
   "execution_count": 10,
   "metadata": {
    "scrolled": true
   },
   "outputs": [
    {
     "data": {
      "text/plain": [
       "Text(0, 0.5, 'Loss')"
      ]
     },
     "execution_count": 10,
     "metadata": {},
     "output_type": "execute_result"
    },
    {
     "data": {
      "image/png": "[encoded data removed]",
      "text/plain": [
       "<Figure size 432x288 with 1 Axes>"
      ]
     },
     "metadata": {
      "needs_background": "light"
     },
     "output_type": "display_data"
    }
   ],
   "source": [
    "# Plot Loss function using \"all_losses\"\n",
    "\n",
    "plt.figure()\n",
    "plt.plot(all_losses)\n",
    "plt.xlabel('Epoch')\n",
    "plt.ylabel('Loss')\n"
   ]
  },
  {
   "cell_type": "markdown",
   "metadata": {},
   "source": [
    "# Evaluating at different \"temperatures\"\n",
    "\n",
    "Changing the `temperature` argument (variance) for 1.5, 0.75. 0.25 and sample outputs from the trained model.\n",
    "\n",
    "\n",
    "References:\n",
    "* [Shakespeare Sonnets](http://shakespeare.mit.edu/Poetry/sonnets.html)"
   ]
  },
  {
   "cell_type": "code",
   "execution_count": 11,
   "metadata": {},
   "outputs": [
    {
     "name": "stdout",
     "output_type": "stream",
     "text": [
      "As fast as thou shalt wane, so fast thou growest\n",
      "Sweawse thy deperfel '`iter that come goacoude,\n",
      "Mold:And fhed beautint coodi!Buentime enoyst wildllednel,\n",
      "And nidleshan e!WholdectAmveotly thet,\n",
      "Yountcy:\n",
      "Sten,Line\n",
      "Whiss trantkst,\n",
      "Rivee vity.\n",
      "Bow faymectolds' race.y mevermighte,\n",
      "To-m'sabel;\n",
      "Solds.\n",
      "'Gismeft andy wit my onetirmflocivisives I sormen\n",
      "Et\n"
     ]
    }
   ],
   "source": [
    "print(evaluate_SimplePoet('As fast as thou shalt wane, so fast thou growest\\n', 300, temperature=1.5))"
   ]
  },
  {
   "cell_type": "code",
   "execution_count": 12,
   "metadata": {
    "scrolled": true
   },
   "outputs": [
    {
     "name": "stdout",
     "output_type": "stream",
     "text": [
      "As fast as thou shalt wane, so fast thou growest\n",
      "When beiter forming the canss'st swerself my somess any mive with more to lives ford that power doth love they commiten of the thoughts woth so shall sweets youre,\n",
      "And they comment in live noth in so my reeving mood any brink,\n",
      "And soment,\n",
      "Then of of that thy deage they noty eself thee doth child wit\n"
     ]
    }
   ],
   "source": [
    "print(evaluate_SimplePoet('As fast as thou shalt wane, so fast thou growest\\n', 300, temperature=0.75))"
   ]
  },
  {
   "cell_type": "code",
   "execution_count": 13,
   "metadata": {},
   "outputs": [
    {
     "name": "stdout",
     "output_type": "stream",
     "text": [
      "As fast as thou shalt wane, so fast thou growest\n",
      "And former thee dear the forments and thee of the sing,\n",
      "And shall of the dear self thee of the self thee and the sweet thee self the so should of that the shall the see of the so shall and beauty some dear and thee the can the so shall the the have of they self comments the so shall thy so of the se\n"
     ]
    }
   ],
   "source": [
    "print(evaluate_SimplePoet('As fast as thou shalt wane, so fast thou growest\\n', 300, temperature=0.25))"
   ]
  },
  {
   "cell_type": "markdown",
   "metadata": {},
   "source": [
    "# Improving the Model (SimplePoet)\n",
    "\n",
    "1. Concatenating words and characters. (Section 4.1 Language Model)\n",
    "\n",
    "References:\n",
    "\n",
    "* [Deep-speare](http://aclweb.org/anthology/P18-1181)"
   ]
  },
  {
   "cell_type": "markdown",
   "metadata": {},
   "source": [
    "## Concatenating words and characters"
   ]
  },
  {
   "cell_type": "code",
   "execution_count": 14,
   "metadata": {},
   "outputs": [],
   "source": [
    "def process_words():\n",
    "    words = []\n",
    "    dline = defaultdict(list)\n",
    "    avg_line = 0\n",
    "    total = 0\n",
    "    for line in text.splitlines():\n",
    "        if len(line) > 0:\n",
    "            wordup = line.split()\n",
    "            words.extend(wordup)\n",
    "            avg_line += len(wordup)\n",
    "            total += 1\n",
    "            dline[wordup[0]].append(line)\n",
    "        \n",
    "    avg_line = round(avg_line / total)\n",
    "    unique_words = list(set(words))\n",
    "    unique_words.sort()\n",
    "    return unique_words, dline, avg_line\n",
    "    "
   ]
  },
  {
   "cell_type": "code",
   "execution_count": 15,
   "metadata": {},
   "outputs": [],
   "source": [
    "def word_tensor(sentence: list):\n",
    "    tensor = torch.zeros(len(sentence)).long()\n",
    "    for c in range(len(sentence)):\n",
    "        tensor[c] = unique_words.index(sentence[c])\n",
    "    return Variable(tensor)\n",
    "    "
   ]
  },
  {
   "cell_type": "code",
   "execution_count": 16,
   "metadata": {},
   "outputs": [],
   "source": [
    "def generate_word_sequence():\n",
    "    \n",
    "    start_index = random.randint(0, len(dlist) -1)\n",
    "    items = dline[dlist[start_index]]\n",
    "    choose_item = random.randint(0, len(items)-1)\n",
    "    candidates = items[choose_item].split()\n",
    "    \n",
    "    return candidates\n",
    "    "
   ]
  },
  {
   "cell_type": "code",
   "execution_count": 17,
   "metadata": {},
   "outputs": [],
   "source": [
    "def generate_words_training_set():    \n",
    "    sequence = generate_word_sequence()\n",
    "    inp = word_tensor(sequence[:-1])\n",
    "    target = word_tensor(sequence[1:])\n",
    "    return inp, target"
   ]
  },
  {
   "cell_type": "code",
   "execution_count": 18,
   "metadata": {},
   "outputs": [],
   "source": [
    "def generate_words_chars_training_set():\n",
    "    i_0, t_0 = generate_training_set()\n",
    "    i_1, t_1 = generate_words_training_set()\n",
    "    inp = torch.cat((i_0, i_1),0)\n",
    "    target = torch.cat((t_0, t_1),0)\n",
    "    return inp, target"
   ]
  },
  {
   "cell_type": "code",
   "execution_count": 19,
   "metadata": {},
   "outputs": [],
   "source": [
    "# Generate word info\n",
    "\n",
    "unique_words, dline, avg_line = process_words()\n",
    "dlist = list(dline.keys())\n"
   ]
  },
  {
   "cell_type": "code",
   "execution_count": 20,
   "metadata": {},
   "outputs": [
    {
     "name": "stdout",
     "output_type": "stream",
     "text": [
      "[Runtime: 1m 16s, Epoch: 500 (16%), Loss: 2.1080]\n",
      "Ast berall meany wier onse fore thy my beour tl'st mou thy thy pall belt way my no mulls loves preact  \n",
      "\n",
      "[Runtime: 2m 33s, Epoch: 1000 (33%), Loss: 2.2635]\n",
      "As dtes hteare, this some seles androtho hise prow sort welf thee se my bende thyst ar to self seve,\n",
      "T \n",
      "\n",
      "[Runtime: 4m 8s, Epoch: 1500 (50%), Loss: 1.9540]\n",
      "As thee thee,\n",
      "And thee borad band envis being so for sasst sore uppill thou stor struly wore thy thee  \n",
      "\n",
      "[Runtime: 5m 45s, Epoch: 2000 (66%), Loss: 1.9118]\n",
      "As thou shamow but shat then ack my lave fite,\n",
      "So be pit that that sweely soult the the but that the l \n",
      "\n",
      "[Runtime: 7m 20s, Epoch: 2500 (83%), Loss: 1.8532]\n",
      "As a she warts,\n",
      "And but what the hath doast love, deauty my doost,\n",
      "Unuded, my mune,\n",
      "And alt thy mak, t \n",
      "\n",
      "[Runtime: 8m 56s, Epoch: 3000 (100%), Loss: 1.8045]\n",
      "As ow and swee I not on und the what our this of yettien's nows than my ming thou love this pay hou ey \n",
      "\n"
     ]
    }
   ],
   "source": [
    "# Train the updated SimplePoet model\n",
    "\n",
    "num_epochs = 3000\n",
    "print_every = 500 \n",
    "plot_every = 10 \n",
    "hidden_size = 200\n",
    "num_layers = 1\n",
    "learning_rate = 0.005\n",
    "num_items = num_characters + len(unique_words)\n",
    "\n",
    "decoder = SimplePoet(num_items, hidden_size, num_items, num_layers)\n",
    "decoder_optimizer = torch.optim.Adam(decoder.parameters(), lr=learning_rate)\n",
    "criterion = nn.CrossEntropyLoss()\n",
    "\n",
    "start = time.time()\n",
    "all_losses = [] \n",
    "loss_avg = 0\n",
    "\n",
    "for epoch in range(1, num_epochs + 1):\n",
    "    loss = train(*generate_words_chars_training_set())      \n",
    "    loss_avg += loss\n",
    "\n",
    "    if epoch % print_every == 0:\n",
    "        print('[Runtime: %s, Epoch: %d (%d%%), Loss: %.4f]' % (runtime(start), epoch, epoch / num_epochs * 100, loss))\n",
    "        print(evaluate_SimplePoet('As', 100), '\\n')\n",
    "\n",
    "    if epoch % plot_every == 0:\n",
    "        all_losses.append(loss_avg / plot_every) \n",
    "        loss_avg = 0"
   ]
  },
  {
   "cell_type": "code",
   "execution_count": 21,
   "metadata": {},
   "outputs": [
    {
     "data": {
      "text/plain": [
       "Text(0, 0.5, 'Loss')"
      ]
     },
     "execution_count": 21,
     "metadata": {},
     "output_type": "execute_result"
    },
    {
     "data": {
      "image/png": "[encoded data removed]",
      "text/plain": [
       "<Figure size 432x288 with 1 Axes>"
      ]
     },
     "metadata": {
      "needs_background": "light"
     },
     "output_type": "display_data"
    }
   ],
   "source": [
    "plt.figure()\n",
    "plt.plot(all_losses)\n",
    "plt.xlabel('Epoch')\n",
    "plt.ylabel('Loss')"
   ]
  },
  {
   "cell_type": "code",
   "execution_count": 22,
   "metadata": {},
   "outputs": [
    {
     "name": "stdout",
     "output_type": "stream",
     "text": [
      "As fast as thou shalt wane, so fast thou growest\n",
      "When wore must not pare,\n",
      "And mine am my joy me that my con thust chill, on that that had my thing tan a hich then the purty I acque,\n",
      "The nure's hich all that the the silf my sweet most true me be this may I not they ming in in thou dear the wage ou sure stees,\n",
      "For a chay ming sund\n",
      "nd mour not thich \n"
     ]
    }
   ],
   "source": [
    "print(evaluate_SimplePoet('As fast as thou shalt wane, so fast thou growest\\n', 300, temperature=0.75))"
   ]
  },
  {
   "cell_type": "code",
   "execution_count": null,
   "metadata": {},
   "outputs": [],
   "source": []
  },
  {
   "cell_type": "code",
   "execution_count": null,
   "metadata": {},
   "outputs": [],
   "source": []
  },
  {
   "cell_type": "code",
   "execution_count": null,
   "metadata": {},
   "outputs": [],
   "source": []
  },
  {
   "cell_type": "code",
   "execution_count": null,
   "metadata": {},
   "outputs": [],
   "source": []
  }
 ],
 "metadata": {
  "anaconda-cloud": {},
  "kernelspec": {
   "display_name": "Python 3",
   "language": "python",
   "name": "python3"
  },
  "language_info": {
   "codemirror_mode": {
    "name": "ipython",
    "version": 3
   },
   "file_extension": ".py",
   "mimetype": "text/x-python",
   "name": "python",
   "nbconvert_exporter": "python",
   "pygments_lexer": "ipython3",
   "version": "3.6.8"
  }
 },
 "nbformat": 4,
 "nbformat_minor": 1
}
