{
 "cells": [
  {
   "cell_type": "markdown",
   "metadata": {},
   "source": [
    "# Assignment 2"
   ]
  },
  {
   "cell_type": "markdown",
   "metadata": {},
   "source": [
    "Use this notebook to write your code for assignment 2"
   ]
  },
  {
   "cell_type": "markdown",
   "metadata": {},
   "source": [
    "# Pre-processing data\n",
    "\n",
    "Read the data file of `shakespeare.txt` and prepare the inputs/outputs to your model."
   ]
  },
  {
   "cell_type": "code",
   "execution_count": 1,
   "metadata": {},
   "outputs": [],
   "source": [
    "import unidecode\n",
    "import string\n",
    "import random\n",
    "import re\n",
    "import torch\n",
    "import torch.nn as nn\n",
    "from torch.autograd import Variable\n",
    "import time, math"
   ]
  },
  {
   "cell_type": "code",
   "execution_count": 2,
   "metadata": {},
   "outputs": [],
   "source": [
    "all_characters = string.printable # list of all possible characters (from string)\n",
    "num_characters = len(all_characters) # number of possible characters\n",
    "\n",
    "text = unidecode.unidecode(open('./data/shakespeare.txt').read())\n",
    "\n",
    "text_len = len(text) \n",
    "\n",
    "sequence_len = 40\n",
    "\n",
    "def generate_sequence():\n",
    "    start_index = random.randint(0, text_len - sequence_len)\n",
    "    end_index = start_index + sequence_len + 1\n",
    "    return text[start_index:end_index]\n"
   ]
  },
  {
   "cell_type": "markdown",
   "metadata": {},
   "source": [
    "# Build the Model\n",
    "\n",
    "Implement a character-based LSTM model "
   ]
  },
  {
   "cell_type": "code",
   "execution_count": 3,
   "metadata": {},
   "outputs": [],
   "source": [
    "class CharNN(nn.Module):\n",
    "    def __init__(self, input_size, hidden_size, output_size, num_layers=1):\n",
    "        super(CharNN, self).__init__()\n",
    "        self.input_size = input_size\n",
    "        self.hidden_size = hidden_size\n",
    "        self.output_size = output_size\n",
    "        self.num_layers = num_layers\n",
    "        \n",
    "        self.encoder = nn.Embedding(input_size, hidden_size)\n",
    "        \n",
    "        self.lstm = nn.LSTM(hidden_size, hidden_size, num_layers)\n",
    "        \n",
    "        self.decoder = nn.Linear(hidden_size, output_size)\n",
    "    \n",
    "    def forward(self, input, hidden):\n",
    "        input = self.encoder(input.view(1, -1))\n",
    "        output, hidden = self.lstm(input.view(1, 1, -1), hidden)\n",
    "        output = self.decoder(output.view(1, -1))\n",
    "        return output, hidden\n",
    "\n",
    "    def init_hidden(self): \n",
    "        return (torch.zeros(1, 1, self.hidden_size),\n",
    "                torch.zeros(1, 1, self.hidden_size))"
   ]
  },
  {
   "cell_type": "code",
   "execution_count": 4,
   "metadata": {},
   "outputs": [],
   "source": [
    "def char_tensor(string):\n",
    "    tensor = torch.zeros(len(string)).long()\n",
    "    for c in range(len(string)):\n",
    "        tensor[c] = all_characters.index(string[c])\n",
    "    return Variable(tensor)\n"
   ]
  },
  {
   "cell_type": "markdown",
   "metadata": {},
   "source": [
    "# Training"
   ]
  },
  {
   "cell_type": "markdown",
   "metadata": {},
   "source": [
    "The main training routine"
   ]
  },
  {
   "cell_type": "code",
   "execution_count": 5,
   "metadata": {},
   "outputs": [],
   "source": [
    "def generate_training_set():    \n",
    "    \n",
    "    sequence = generate_sequence()\n",
    "    inp = char_tensor(sequence[:-1])\n",
    "    target = char_tensor(sequence[1:])\n",
    "    \n",
    "    return inp, target"
   ]
  },
  {
   "cell_type": "code",
   "execution_count": 6,
   "metadata": {},
   "outputs": [],
   "source": [
    "\n",
    "def evaluate_CharNN(character_seed='A', predict_len=100, temperature=0.8):\n",
    "    \n",
    "    hidden = decoder.init_hidden()\n",
    "    seed_input = char_tensor(character_seed)\n",
    "    predicted_string = character_seed\n",
    "\n",
    "    for p in range(len(character_seed) - 1):\n",
    "        _, hidden = decoder(seed_input[p], hidden)\n",
    "    inp = seed_input[-1]\n",
    "    \n",
    "    for p in range(predict_len):\n",
    "        output, hidden = decoder(inp, hidden)\n",
    "        output_distribution = output.data.view(-1).div(temperature).exp()\n",
    "        top_character = torch.multinomial(output_distribution, 1)[0]\n",
    "        predicted_char = all_characters[top_character]\n",
    "        predicted_string += predicted_char \n",
    "        inp = char_tensor(predicted_char) \n",
    "        \n",
    "    return predicted_string"
   ]
  },
  {
   "cell_type": "code",
   "execution_count": 7,
   "metadata": {},
   "outputs": [],
   "source": [
    "\n",
    "def train(inp, target):\n",
    "    hidden = decoder.init_hidden()\n",
    "    decoder.zero_grad()\n",
    "\n",
    "    loss = 0\n",
    "\n",
    "    for c in range(sequence_len):\n",
    "        output, hidden = decoder(inp[c], hidden)\n",
    "        loss += criterion(output, torch.LongTensor([target[c]]))\n",
    "\n",
    "    loss.backward()\n",
    "    decoder_optimizer.step()\n",
    "\n",
    "    return loss.data.item() / sequence_len"
   ]
  },
  {
   "cell_type": "code",
   "execution_count": 8,
   "metadata": {},
   "outputs": [],
   "source": [
    "def runtime(instant):\n",
    "    seconds = time.time() - instant\n",
    "    minutes= math.floor(seconds / 60)\n",
    "    seconds -= minutes * 60\n",
    "    return '%dm %ds' % (minutes, seconds)"
   ]
  },
  {
   "cell_type": "code",
   "execution_count": 9,
   "metadata": {},
   "outputs": [
    {
     "name": "stdout",
     "output_type": "stream",
     "text": [
      "[Runtime: 0m 16s, Epoch: 500 (16%), Loss: 2.0215]\n",
      "Whonteng delles sume,\n",
      "Oar thung or peares came hour chil, love untine fueYes thol mute,\n",
      "But Juer hour  \n",
      "\n",
      "[Runtime: 0m 34s, Epoch: 1000 (33%), Loss: 2.1039]\n",
      "Whrean speven ell priren by grich tire sing that in grace when slet with thich hast the dron wop in me \n",
      "\n",
      "[Runtime: 0m 58s, Epoch: 1500 (50%), Loss: 1.9108]\n",
      "Whis of thou here ar thy of shou hines anter thy vitons lat as those his growher here didery shoult,\n",
      "S \n",
      "\n",
      "[Runtime: 1m 14s, Epoch: 2000 (66%), Loss: 2.1506]\n",
      "Whiched bright be iste love this doth in the of your farts,\n",
      "So spire you the conts,\n",
      "And by sweach will \n",
      "\n",
      "[Runtime: 1m 30s, Epoch: 2500 (83%), Loss: 2.0869]\n",
      "Which a deack mares meass and thand, the should in hear pen ast is what stang the one the the quith op \n",
      "\n",
      "[Runtime: 1m 47s, Epoch: 3000 (100%), Loss: 1.3332]\n",
      "When giers to light gath's othered ows lar,\n",
      "To to then the and nothe'l to and by in mold,\n",
      "For with to  \n",
      "\n"
     ]
    }
   ],
   "source": [
    "num_epochs = 3000\n",
    "print_every = 500 \n",
    "plot_every = 10 \n",
    "hidden_size = 200\n",
    "num_layers = 1\n",
    "learning_rate = 0.005\n",
    "\n",
    "decoder = CharNN(num_characters, hidden_size, num_characters, num_layers)\n",
    "decoder_optimizer = torch.optim.Adam(decoder.parameters(), lr=learning_rate)\n",
    "criterion = nn.CrossEntropyLoss()\n",
    "\n",
    "start = time.time()\n",
    "all_losses = [] \n",
    "loss_avg = 0\n",
    "\n",
    "for epoch in range(1, num_epochs + 1):\n",
    "    loss = train(*generate_training_set())       \n",
    "    loss_avg += loss\n",
    "\n",
    "    if epoch % print_every == 0:\n",
    "        print('[Runtime: %s, Epoch: %d (%d%%), Loss: %.4f]' % (runtime(start), epoch, epoch / num_epochs * 100, loss))\n",
    "        print(evaluate_CharNN('Wh', 100), '\\n')\n",
    "\n",
    "    if epoch % plot_every == 0:\n",
    "        all_losses.append(loss_avg / plot_every) \n",
    "        loss_avg = 0"
   ]
  },
  {
   "cell_type": "markdown",
   "metadata": {},
   "source": [
    "# Plotting the Training Losses\n",
    "\n",
    "Plotting the historical loss during training:"
   ]
  },
  {
   "cell_type": "code",
   "execution_count": 10,
   "metadata": {
    "scrolled": true
   },
   "outputs": [
    {
     "data": {
      "text/plain": [
       "Text(0, 0.5, 'Loss')"
      ]
     },
     "execution_count": 10,
     "metadata": {},
     "output_type": "execute_result"
    },
    {
     "data": {
      "image/png": "[encoded data removed]",
      "text/plain": [
       "<Figure size 432x288 with 1 Axes>"
      ]
     },
     "metadata": {
      "needs_background": "light"
     },
     "output_type": "display_data"
    }
   ],
   "source": [
    "import matplotlib.pyplot as plt\n",
    "import matplotlib.ticker as ticker\n",
    "%matplotlib inline\n",
    "\n",
    "# Plot Loss function using \"all_losses\"\n",
    "plt.figure()\n",
    "plt.plot(all_losses)\n",
    "plt.xlabel('Epoch')\n",
    "plt.ylabel('Loss')\n"
   ]
  },
  {
   "cell_type": "markdown",
   "metadata": {},
   "source": [
    "# Evaluating at different \"temperatures\"\n",
    "\n",
    "Changing the `temperature` argument (variance) for 1.5, 0.75. 0.25 and sample outputs from the trained model."
   ]
  },
  {
   "cell_type": "code",
   "execution_count": 11,
   "metadata": {},
   "outputs": [
    {
     "name": "stdout",
     "output_type": "stream",
     "text": [
      "Shall I compare thee to a summers day?\n",
      "Timbt of lsee:'Buf.\n",
      "Ornd I I liapt,\n",
      "  To willy.\n",
      "\n",
      "\n",
      "         heave,\n",
      "Anaide\n",
      "Being koed\n",
      "Filly r, wioute\n",
      "Foor my kighn<s,\n",
      "Alt tell,,\n",
      "S t they if own,leeforalapple:\n",
      " alyirhoo'pord I je,\n",
      "Arly, ise.\n",
      "  Azingn.\n",
      "(Leat.\n",
      "\n",
      "hy giver bovoure, have!,\n",
      "Href lipty teast-ijpaindoving mene pyey:\n",
      "Ressementers?\n",
      "AMte tobine\n"
     ]
    }
   ],
   "source": [
    "print(evaluate_CharNN('Shall I compare thee to a summer''s day?\\n', 300, temperature=1.5))"
   ]
  },
  {
   "cell_type": "code",
   "execution_count": 12,
   "metadata": {
    "scrolled": true
   },
   "outputs": [
    {
     "name": "stdout",
     "output_type": "stream",
     "text": [
      "Shall I compare thee to a summers day?\n",
      "Or name of this bliught the love soirs selfoul stils proved\n",
      "And be,\n",
      "Thouswing the prate, break's the dent,\n",
      "Nampite\n",
      "My so removen thee, and the better in breat for thee ir there time,\n",
      "And dever, and the dest thou so my brehose temies to brost doth to all of the rose I beate,\n",
      "Thou ear strear sast of a\n"
     ]
    }
   ],
   "source": [
    "print(evaluate_CharNN('Shall I compare thee to a summer''s day?\\n', 300, temperature=0.75))"
   ]
  },
  {
   "cell_type": "code",
   "execution_count": 13,
   "metadata": {},
   "outputs": [
    {
     "name": "stdout",
     "output_type": "stream",
     "text": [
      "Shall I compare thee to a summers day?\n",
      "The the the so beauty beauty seem the beauty breake the so be the see the with the so be be the the beauty beauty the beauty beauty so my breake the beauty and beauty proved the so grace,\n",
      "And the beauty be beauty beauty seem the so the beauty beauty beauty seem the breat the best the beauty beauty b\n"
     ]
    }
   ],
   "source": [
    "print(evaluate_CharNN('Shall I compare thee to a summer''s day?\\n', 300, temperature=0.25))"
   ]
  }
 ],
 "metadata": {
  "anaconda-cloud": {},
  "kernelspec": {
   "display_name": "Python 3",
   "language": "python",
   "name": "python3"
  },
  "language_info": {
   "codemirror_mode": {
    "name": "ipython",
    "version": 3
   },
   "file_extension": ".py",
   "mimetype": "text/x-python",
   "name": "python",
   "nbconvert_exporter": "python",
   "pygments_lexer": "ipython3",
   "version": "3.6.8"
  }
 },
 "nbformat": 4,
 "nbformat_minor": 1
}
