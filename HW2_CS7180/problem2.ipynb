{
 "cells": [
  {
   "cell_type": "markdown",
   "metadata": {},
   "source": [
    "# Assignment 2"
   ]
  },
  {
   "cell_type": "markdown",
   "metadata": {},
   "source": [
    "Use this notebook to write your code for assignment 2"
   ]
  },
  {
   "cell_type": "markdown",
   "metadata": {},
   "source": [
    "# Pre-processing data\n",
    "\n",
    "Read the data file of `shakespeare.txt` and prepare the inputs/outputs to your model."
   ]
  },
  {
   "cell_type": "code",
   "execution_count": 1,
   "metadata": {},
   "outputs": [],
   "source": [
    "from collections import defaultdict\n",
    "import math\n",
    "import string\n",
    "import random\n",
    "import re\n",
    "import time\n",
    "\n",
    "\n",
    "import torch\n",
    "import torch.nn as nn\n",
    "from torch.autograd import Variable\n",
    "\n",
    "import unidecode\n",
    "import matplotlib.pyplot as plt\n",
    "import matplotlib.ticker as ticker\n",
    "import numpy as np\n",
    "\n",
    "%matplotlib inline"
   ]
  },
  {
   "cell_type": "code",
   "execution_count": 2,
   "metadata": {},
   "outputs": [],
   "source": [
    "all_characters = string.printable # list of all possible characters (from string)\n",
    "num_characters = len(all_characters) # number of possible characters\n",
    "\n",
    "text = unidecode.unidecode(open('./data/shakespeare.txt').read())\n",
    "text = re.sub(\"\\d|\\n{2,}|\\s{2,}\",\"\", text)\n",
    "\n",
    "text_len = len(text) \n",
    "\n",
    "sequence_len = 40\n",
    "\n",
    "def generate_sequence():\n",
    "    start_index = random.randint(0, text_len - sequence_len)\n",
    "    end_index = start_index + sequence_len + 1\n",
    "    return text[start_index:end_index]\n"
   ]
  },
  {
   "cell_type": "markdown",
   "metadata": {},
   "source": [
    "# Build the Model\n",
    "\n",
    "Implement a character-based LSTM model "
   ]
  },
  {
   "cell_type": "code",
   "execution_count": 3,
   "metadata": {},
   "outputs": [],
   "source": [
    "class SimplePoet(nn.Module):\n",
    "    def __init__(self, input_size, hidden_size, output_size, num_layers=1):\n",
    "        super(SimplePoet, self).__init__()\n",
    "        self.input_size = input_size\n",
    "        self.hidden_size = hidden_size\n",
    "        self.output_size = output_size\n",
    "        self.num_layers = num_layers\n",
    "        \n",
    "        self.encoder = nn.Embedding(input_size, hidden_size)\n",
    "        \n",
    "        self.lstm = nn.LSTM(hidden_size, hidden_size, num_layers)\n",
    "        \n",
    "        self.decoder = nn.Linear(hidden_size, output_size)\n",
    "    \n",
    "    def forward(self, input, hidden):\n",
    "        input = self.encoder(input.view(1, -1))\n",
    "        output, hidden = self.lstm(input.view(1, 1, -1), hidden)\n",
    "        output = self.decoder(output.view(1, -1))\n",
    "        return output, hidden\n",
    "\n",
    "    def init_hidden(self): \n",
    "        return (torch.zeros(1, 1, self.hidden_size),\n",
    "                torch.zeros(1, 1, self.hidden_size))"
   ]
  },
  {
   "cell_type": "code",
   "execution_count": 4,
   "metadata": {},
   "outputs": [],
   "source": [
    "def char_tensor(string):\n",
    "    tensor = torch.zeros(len(string)).long()\n",
    "    for c in range(len(string)):\n",
    "        tensor[c] = all_characters.index(string[c])\n",
    "    return Variable(tensor)\n"
   ]
  },
  {
   "cell_type": "markdown",
   "metadata": {},
   "source": [
    "# Training"
   ]
  },
  {
   "cell_type": "markdown",
   "metadata": {},
   "source": [
    "The main training routine"
   ]
  },
  {
   "cell_type": "code",
   "execution_count": 5,
   "metadata": {},
   "outputs": [],
   "source": [
    "def generate_training_set():    \n",
    "    sequence = generate_sequence()\n",
    "    inp = char_tensor(sequence[:-1])\n",
    "    target = char_tensor(sequence[1:])\n",
    "    return inp, target"
   ]
  },
  {
   "cell_type": "code",
   "execution_count": 6,
   "metadata": {},
   "outputs": [],
   "source": [
    "\n",
    "def evaluate_SimplePoet(character_seed='A', predict_len=100, temperature=0.8):\n",
    "    \n",
    "    hidden = decoder.init_hidden()\n",
    "    seed_input = char_tensor(character_seed)\n",
    "    predicted_string = character_seed\n",
    "\n",
    "    for p in range(len(character_seed) - 1):\n",
    "        _, hidden = decoder(seed_input[p], hidden)\n",
    "    inp = seed_input[-1]\n",
    "    \n",
    "    for p in range(predict_len):\n",
    "        output, hidden = decoder(inp, hidden)\n",
    "        output_distribution = output.data.view(-1).div(temperature).exp()\n",
    "        top_character = torch.multinomial(output_distribution, 1)[0]\n",
    "        predicted_char = all_characters[top_character]\n",
    "        predicted_string += predicted_char \n",
    "        inp = char_tensor(predicted_char) \n",
    "        \n",
    "    return predicted_string"
   ]
  },
  {
   "cell_type": "code",
   "execution_count": 7,
   "metadata": {},
   "outputs": [],
   "source": [
    "\n",
    "def train(inp, target):\n",
    "    hidden = decoder.init_hidden()\n",
    "    decoder.zero_grad()\n",
    "\n",
    "    loss = 0\n",
    "\n",
    "    for c in range(sequence_len):\n",
    "        output, hidden = decoder(inp[c], hidden)\n",
    "        loss += criterion(output, torch.LongTensor([target[c]]))\n",
    "\n",
    "    loss.backward()\n",
    "    decoder_optimizer.step()\n",
    "\n",
    "    return loss.data.item() / sequence_len"
   ]
  },
  {
   "cell_type": "code",
   "execution_count": 8,
   "metadata": {},
   "outputs": [],
   "source": [
    "def runtime(instant):\n",
    "    seconds = time.time() - instant\n",
    "    minutes= math.floor(seconds / 60)\n",
    "    seconds -= minutes * 60\n",
    "    return '%dm %ds' % (minutes, seconds)"
   ]
  },
  {
   "cell_type": "code",
   "execution_count": 9,
   "metadata": {},
   "outputs": [
    {
     "name": "stdout",
     "output_type": "stream",
     "text": [
      "[Runtime: 0m 19s, Epoch: 500 (16%), Loss: 2.3697]\n",
      "Shae,\n",
      "And fan thave adlist machig sher,\n",
      "Days neir haight you is expand wames fall hap, have poped me b \n",
      "\n",
      "[Runtime: 0m 38s, Epoch: 1000 (33%), Loss: 1.8594]\n",
      "Shat sack a alt of feall the my sumber astle for erion.\n",
      "Or youlst cant, commer speect love,\n",
      "Why all gl \n",
      "\n",
      "[Runtime: 0m 58s, Epoch: 1500 (50%), Loss: 1.8280]\n",
      "Sheart\n",
      "not blang death weet bangl which face timed, son till lis 'that by crought thes lame man thine  \n",
      "\n",
      "[Runtime: 1m 17s, Epoch: 2000 (66%), Loss: 1.9491]\n",
      "She ont faot should there,And what from heret for fair and worth,And I thesaurimire should and ane.\n",
      "O  \n",
      "\n",
      "[Runtime: 1m 36s, Epoch: 2500 (83%), Loss: 1.8470]\n",
      "Shat hath the a their hear his the ming what beauty liffer appery for thin but that thy vange beauty f \n",
      "\n",
      "[Runtime: 1m 55s, Epoch: 3000 (100%), Loss: 1.6668]\n",
      "Shance heir not of thy it sa thou so by altonce spelo reed me bequred have.\n",
      "Lest it exsed pishould or  \n",
      "\n"
     ]
    }
   ],
   "source": [
    "num_epochs = 3000\n",
    "print_every = 500 \n",
    "plot_every = 10 \n",
    "hidden_size = 200\n",
    "num_layers = 1\n",
    "learning_rate = 0.005\n",
    "\n",
    "decoder = SimplePoet(num_characters, hidden_size, num_characters, num_layers)\n",
    "decoder_optimizer = torch.optim.Adam(decoder.parameters(), lr=learning_rate)\n",
    "criterion = nn.CrossEntropyLoss()\n",
    "\n",
    "start = time.time()\n",
    "all_losses = [] \n",
    "loss_avg = 0\n",
    "\n",
    "for epoch in range(1, num_epochs + 1):\n",
    "    loss = train(*generate_training_set())       \n",
    "    loss_avg += loss\n",
    "\n",
    "    if epoch % print_every == 0:\n",
    "        print('[Runtime: %s, Epoch: %d (%d%%), Loss: %.4f]' % (runtime(start), epoch, epoch / num_epochs * 100, loss))\n",
    "        print(evaluate_SimplePoet('Sh', 100), '\\n')\n",
    "\n",
    "    if epoch % plot_every == 0:\n",
    "        all_losses.append(loss_avg / plot_every) \n",
    "        loss_avg = 0"
   ]
  },
  {
   "cell_type": "markdown",
   "metadata": {},
   "source": [
    "# Plotting the Training Losses\n",
    "\n",
    "Plotting the historical loss during training:"
   ]
  },
  {
   "cell_type": "code",
   "execution_count": 10,
   "metadata": {
    "scrolled": true
   },
   "outputs": [
    {
     "data": {
      "image/png": "[encoded data removed]",
      "text/plain": [
       "<Figure size 432x288 with 1 Axes>"
      ]
     },
     "metadata": {
      "needs_background": "light"
     },
     "output_type": "display_data"
    }
   ],
   "source": [
    "# Plot Loss function using \"all_losses\"\n",
    "\n",
    "plt.figure()\n",
    "plt.plot(all_losses)\n",
    "plt.xlabel('Epoch')\n",
    "plt.ylabel('Loss')\n",
    "plt.savefig('imgs/simple_loss.png')"
   ]
  },
  {
   "cell_type": "markdown",
   "metadata": {},
   "source": [
    "# Evaluating at different \"temperatures\"\n",
    "\n",
    "Changing the `temperature` argument (variance) for 1.5, 0.75. 0.25 and sample outputs from the trained model.\n",
    "\n",
    "\n",
    "References:\n",
    "* [Shakespeare Sonnets](http://shakespeare.mit.edu/Poetry/sonnets.html)"
   ]
  },
  {
   "cell_type": "code",
   "execution_count": 11,
   "metadata": {},
   "outputs": [
    {
     "name": "stdout",
     "output_type": "stream",
     "text": [
      "Shall I compare thee to a summers day?\n",
      "issunce,\n",
      "Ink's, to holr,-nohing thevampory.Huhgurds?Raies,\n",
      "Silveluancy lonswote,\n",
      "resed speliallow have rase,\n",
      "Fomr zive to it\n",
      "Swige: oustines it spaoul'ssuencie strial,By 'sbe shou (led in mater-svre,Sinwst mous Tim, crace:\n",
      "kingsor of thee or of for ilthastar entill numeseve, dothsurt ethe (thes\n",
      "Whor\n"
     ]
    }
   ],
   "source": [
    "print(evaluate_SimplePoet('Shall I compare thee to a summers day?\\n', 300, temperature=1.5))"
   ]
  },
  {
   "cell_type": "code",
   "execution_count": 12,
   "metadata": {
    "scrolled": true
   },
   "outputs": [
    {
     "name": "stdout",
     "output_type": "stream",
     "text": [
      "Shall i compare thee to a summers day?\n",
      "By thine thee away though corns in thinged,\n",
      "Or it luch what the not own what with the wellow wold) greste, (verse me the bested thee sletters thy hist so strarmed, the strange?\n",
      "Like all well is the prow granles onlurst,\n",
      "In wost the is, still grown ises though there forle of sway thee do grown althou\n"
     ]
    }
   ],
   "source": [
    "print(evaluate_SimplePoet('Shall i compare thee to a summers day?\\n', 300, temperature=0.75))"
   ]
  },
  {
   "cell_type": "code",
   "execution_count": 13,
   "metadata": {},
   "outputs": [
    {
     "name": "stdout",
     "output_type": "stream",
     "text": [
      "Shall i compare thee to a summers day?\n",
      "The the the the the self the the what thou the self the the self the self the so self the self the self the the state the the is strange the the the proud the seep the what is stange the self the the shall the self the self the the grown the the love the self the seep the with the leaves the of thou\n"
     ]
    }
   ],
   "source": [
    "print(evaluate_SimplePoet('Shall i compare thee to a summers day?\\n', 300, temperature=0.25))"
   ]
  },
  {
   "cell_type": "markdown",
   "metadata": {},
   "source": [
    "# Improving the Model (SimplePoet)\n",
    "\n",
    "1. Concatenating words and characters. (Section 4.1 Language Model)\n",
    "\n",
    "References:\n",
    "\n",
    "* [Deep-speare](http://aclweb.org/anthology/P18-1181)"
   ]
  },
  {
   "cell_type": "markdown",
   "metadata": {},
   "source": [
    "## Concatenating words and characters"
   ]
  },
  {
   "cell_type": "code",
   "execution_count": 14,
   "metadata": {},
   "outputs": [],
   "source": [
    "def process_words():\n",
    "    words = []\n",
    "    dline = defaultdict(list)\n",
    "    avg_line = 0\n",
    "    total = 0\n",
    "    for line in text.splitlines():\n",
    "        if len(line) > 0:\n",
    "            wordup = line.split()\n",
    "            words.extend(wordup)\n",
    "            avg_line += len(wordup)\n",
    "            total += 1\n",
    "            dline[wordup[0]].append(line)\n",
    "        \n",
    "    avg_line = round(avg_line / total)\n",
    "    unique_words = list(set(words))\n",
    "    unique_words.sort()\n",
    "    return unique_words, dline, avg_line\n",
    "    "
   ]
  },
  {
   "cell_type": "code",
   "execution_count": 15,
   "metadata": {},
   "outputs": [],
   "source": [
    "def word_tensor(sentence: list):\n",
    "    tensor = torch.zeros(len(sentence)).long()\n",
    "    for c in range(len(sentence)):\n",
    "        tensor[c] = unique_words.index(sentence[c])\n",
    "    return Variable(tensor)\n",
    "    "
   ]
  },
  {
   "cell_type": "code",
   "execution_count": 16,
   "metadata": {},
   "outputs": [],
   "source": [
    "def generate_word_sequence():\n",
    "    \n",
    "    start_index = random.randint(0, len(dlist) -1)\n",
    "    items = dline[dlist[start_index]]\n",
    "    choose_item = random.randint(0, len(items)-1)\n",
    "    candidates = items[choose_item].split()\n",
    "    \n",
    "    return candidates\n",
    "    "
   ]
  },
  {
   "cell_type": "code",
   "execution_count": 17,
   "metadata": {},
   "outputs": [],
   "source": [
    "def generate_words_training_set():    \n",
    "    sequence = generate_word_sequence()\n",
    "    inp = word_tensor(sequence[:-1])\n",
    "    target = word_tensor(sequence[1:])\n",
    "    return inp, target"
   ]
  },
  {
   "cell_type": "code",
   "execution_count": 18,
   "metadata": {},
   "outputs": [],
   "source": [
    "def generate_words_chars_training_set():\n",
    "    i_0, t_0 = generate_training_set()\n",
    "    i_1, t_1 = generate_words_training_set()\n",
    "    inp = torch.cat((i_0, i_1),0)\n",
    "    target = torch.cat((t_0, t_1),0)\n",
    "    return inp, target"
   ]
  },
  {
   "cell_type": "code",
   "execution_count": 19,
   "metadata": {},
   "outputs": [],
   "source": [
    "# Generate word info\n",
    "\n",
    "unique_words, dline, avg_line = process_words()\n",
    "dlist = list(dline.keys())\n"
   ]
  },
  {
   "cell_type": "code",
   "execution_count": 20,
   "metadata": {},
   "outputs": [
    {
     "name": "stdout",
     "output_type": "stream",
     "text": [
      "[Runtime: 1m 17s, Epoch: 500 (16%), Loss: 2.2147]\n",
      "Show she mbe rine sour that) dow as lich fire gout yur bonddisis sall pald blokight ighif kith my gric \n",
      "\n",
      "[Runtime: 2m 34s, Epoch: 1000 (33%), Loss: 1.7011]\n",
      "Shine so that see sing, the do on of pree with out fou dune ais thate ins, men wits welfest a of misse \n",
      "\n",
      "[Runtime: 3m 57s, Epoch: 1500 (50%), Loss: 2.1868]\n",
      "Shear thee braing ampees speas I ank necak, are the shaes my the deauth,\n",
      "Whor the the wen thee be itio \n",
      "\n",
      "[Runtime: 5m 18s, Epoch: 2000 (66%), Loss: 1.3859]\n",
      "Shat fimbed that heart of the thou ast I that theirth thintech precad thou be fimberud.\n",
      "Shor's wo thee \n",
      "\n",
      "[Runtime: 6m 45s, Epoch: 2500 (83%), Loss: 2.0852]\n",
      "Shal ages so famine come of ving from one shais with ads on quind?\n",
      "For that my which youlys cones?\n",
      "Wha \n",
      "\n",
      "[Runtime: 8m 6s, Epoch: 3000 (100%), Loss: 1.9833]\n",
      "Shaen note, are, late deede,\n",
      "How may.\n",
      "So thought,\n",
      "A pare all derver is in me thou puled dasurer I a co \n",
      "\n"
     ]
    }
   ],
   "source": [
    "# Train the updated SimplePoet model\n",
    "\n",
    "num_epochs = 3000\n",
    "print_every = 500 \n",
    "plot_every = 10 \n",
    "hidden_size = 200\n",
    "num_layers = 1\n",
    "learning_rate = 0.005\n",
    "num_items = num_characters + len(unique_words)\n",
    "\n",
    "decoder = SimplePoet(num_items, hidden_size, num_items, num_layers)\n",
    "decoder_optimizer = torch.optim.Adam(decoder.parameters(), lr=learning_rate)\n",
    "criterion = nn.CrossEntropyLoss()\n",
    "\n",
    "start = time.time()\n",
    "all_losses = [] \n",
    "loss_avg = 0\n",
    "\n",
    "for epoch in range(1, num_epochs + 1):\n",
    "    loss = train(*generate_words_chars_training_set())      \n",
    "    loss_avg += loss\n",
    "\n",
    "    if epoch % print_every == 0:\n",
    "        print('[Runtime: %s, Epoch: %d (%d%%), Loss: %.4f]' % (runtime(start), epoch, epoch / num_epochs * 100, loss))\n",
    "        print(evaluate_SimplePoet('Sh', 100), '\\n')\n",
    "\n",
    "    if epoch % plot_every == 0:\n",
    "        all_losses.append(loss_avg / plot_every) \n",
    "        loss_avg = 0"
   ]
  },
  {
   "cell_type": "code",
   "execution_count": 21,
   "metadata": {},
   "outputs": [
    {
     "data": {
      "image/png": "[encoded data removed]",
      "text/plain": [
       "<Figure size 432x288 with 1 Axes>"
      ]
     },
     "metadata": {
      "needs_background": "light"
     },
     "output_type": "display_data"
    }
   ],
   "source": [
    "plt.figure()\n",
    "plt.plot(all_losses)\n",
    "plt.xlabel('Epoch')\n",
    "plt.ylabel('Loss')\n",
    "plt.savefig(\"imgs/fancy_loss.png\")"
   ]
  },
  {
   "cell_type": "code",
   "execution_count": 22,
   "metadata": {},
   "outputs": [
    {
     "name": "stdout",
     "output_type": "stream",
     "text": [
      "Shall I compare thee to a summers day?\n",
      "The a and trowe rush mate,\n",
      "Mance all are shall hege, somes rede,\n",
      "He resied more be rand far sumbens the recongife mode,\n",
      "The jover love all deeds,\n",
      "Bay though\n",
      "But ple.\n",
      "And shold me ald all thou mine with choull om not rackived thou beauty do hose of of mels thee.\n",
      "Thou deeded do dres and that persest t\n"
     ]
    }
   ],
   "source": [
    "print(evaluate_SimplePoet('Shall I compare thee to a summers day?\\n', 300, temperature=0.75))"
   ]
  },
  {
   "cell_type": "code",
   "execution_count": null,
   "metadata": {},
   "outputs": [],
   "source": []
  },
  {
   "cell_type": "code",
   "execution_count": null,
   "metadata": {},
   "outputs": [],
   "source": []
  },
  {
   "cell_type": "code",
   "execution_count": null,
   "metadata": {},
   "outputs": [],
   "source": []
  },
  {
   "cell_type": "code",
   "execution_count": null,
   "metadata": {},
   "outputs": [],
   "source": []
  }
 ],
 "metadata": {
  "anaconda-cloud": {},
  "kernelspec": {
   "display_name": "Python 3",
   "language": "python",
   "name": "python3"
  },
  "language_info": {
   "codemirror_mode": {
    "name": "ipython",
    "version": 3
   },
   "file_extension": ".py",
   "mimetype": "text/x-python",
   "name": "python",
   "nbconvert_exporter": "python",
   "pygments_lexer": "ipython3",
   "version": "3.6.8"
  }
 },
 "nbformat": 4,
 "nbformat_minor": 1
}
